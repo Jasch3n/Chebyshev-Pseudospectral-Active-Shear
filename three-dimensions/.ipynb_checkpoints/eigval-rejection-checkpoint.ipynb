{
 "cells": [
  {
   "cell_type": "code",
   "execution_count": 1,
   "id": "42d82ae0",
   "metadata": {},
   "outputs": [],
   "source": [
    "import sys\n",
    "sys.path.append(\"../core-scripts\")\n",
    "from zeroShearSpectrum3D import spectrum\n",
    "import numpy as np\n",
    "import matplotlib.pyplot as plt\n",
    "from cheb import cheb\n",
    "from scipy.linalg import eig\n",
    "chebfit = np.polynomial.chebyshev.Chebyshev.fit"
   ]
  },
  {
   "cell_type": "code",
   "execution_count": null,
   "id": "f372fe41",
   "metadata": {},
   "outputs": [],
   "source": [
    "k,a = 1.25, 1.09\n",
    "evals_low, evecs_low = spectrum(k,a,M=50)\n",
    "evals_high, evecs_high = spectrum(k,a,M=100)\n",
    "re_evals_low = np.real(evals_low)\n",
    "re_evals_high = np.real(evals_high)\n",
    "sort_idx_low = np.argsort(-re_evals_low)\n",
    "re_evals_low = re_evals_low[sort_idx_low]\n",
    "sort_idx_high = np.argsort(-re_evals_high)\n",
    "re_evals_high = re_evals_high[sort_idx_high];"
   ]
  },
  {
   "cell_type": "code",
   "execution_count": null,
   "id": "9d3b1e12",
   "metadata": {},
   "outputs": [],
   "source": [
    "n = min(len(re_evals_low), len(re_evals_high))\n",
    "diffs = np.abs(re_evals_low[0:n] - re_evals_high[0:n])\n",
    "# plt.plot(np.arange(n), diffs)\n",
    "plt.figure()\n",
    "plt.plot(np.arange(n), diffs, marker='x')\n",
    "plt.figure()\n",
    "plt.scatter(np.arange(n), np.log(1/diffs), marker='x');"
   ]
  },
  {
   "cell_type": "code",
   "execution_count": null,
   "id": "9f9d2929",
   "metadata": {},
   "outputs": [],
   "source": [
    "def plot_modes(idx, ygl, evecs, M=100):\n",
    "    yy = np.linspace(-1,1,500)\n",
    "    plt.figure()\n",
    "    fig, axs = plt.subplots(3, 3)\n",
    "    Vx = np.reshape(evecs[idx,0:M], -1)\n",
    "#     Re_Vx = chebfit(ygl,np.real(Vx),M)(yy)\n",
    "    axs[0,0].plot(ygl, np.real(Vx))\n",
    "    axs[0,0].plot(ygl, np.imag(Vx))\n",
    "    axs[0,0].title.set_text('$V_x$')\n",
    "\n",
    "    Vy = np.reshape(evecs[idx,M:2*M], -1)\n",
    "    axs[0,1].plot(ygl, np.real(Vy))\n",
    "    axs[0,1].plot(ygl, np.imag(Vy))\n",
    "    axs[0,1].title.set_text('$V_y$')\n",
    "\n",
    "    Vz = np.reshape(evecs[idx,2*M:3*M], -1)\n",
    "    axs[0,2].plot(ygl, np.real(Vz))\n",
    "    axs[0,2].plot(ygl, np.imag(Vz))\n",
    "    axs[0,2].title.set_text('$V_z$')\n",
    "\n",
    "    Qxx = np.reshape(evecs[idx,3*M:4*M], -1)\n",
    "    axs[1,0].plot(ygl, np.real(Qxx))\n",
    "    axs[1,0].plot(ygl, np.imag(Qxx))\n",
    "    axs[1,0].title.set_text('$Q_{xx}$')\n",
    "\n",
    "    Qxy = np.reshape(evecs[idx,4*M:5*M], -1)\n",
    "    axs[1,1].plot(ygl, np.real(Qxy))\n",
    "    axs[1,1].plot(ygl, np.imag(Qxy))\n",
    "    axs[1,1].title.set_text('$Q_{xy}$')\n",
    "\n",
    "    Qxz = np.reshape(evecs[idx,5*M:6*M], -1)\n",
    "    axs[1,2].plot(ygl, np.real(Qxz))\n",
    "    axs[1,2].plot(ygl, np.imag(Qxz))\n",
    "    axs[1,2].title.set_text('$Q_{xz}$')\n",
    "\n",
    "    Qyz = np.reshape(evecs[idx,6*M:7*M], -1)\n",
    "    axs[2,0].plot(ygl, np.real(Qyz))\n",
    "    axs[2,0].plot(ygl, np.imag(Qyz))\n",
    "    axs[2,0].title.set_text('$Q_{yz}$')\n",
    "\n",
    "    Qzz = np.reshape(evecs[idx,7*M:8*M], -1)\n",
    "    Re_Qzz = chebfit(ygl, np.real(Qzz), M)(yy)\n",
    "    Im_Qzz = chebfit(ygl, np.imag(Qzz), M)(yy)\n",
    "    axs[2,1].plot(yy, Re_Qzz)\n",
    "    axs[2,1].plot(yy, Im_Qzz)\n",
    "    axs[2,1].title.set_text('$Q_{zz}$')\n",
    "    \n",
    "    for ax in axs.flat:\n",
    "        ax.set(xlabel='$y$')\n",
    "\n",
    "    # Hide x labels and tick labels for top plots and y ticks for right plots.\n",
    "    for ax in axs.flat:\n",
    "        ax.label_outer()"
   ]
  },
  {
   "cell_type": "code",
   "execution_count": null,
   "id": "cebedb0e",
   "metadata": {
    "scrolled": true
   },
   "outputs": [],
   "source": [
    "idx = sort_idx_low[10]\n",
    "print(evals_low[idx])\n",
    "_, ygl = cheb(50)\n",
    "plot_modes(idx, ygl, evecs_low, M=50)"
   ]
  },
  {
   "cell_type": "code",
   "execution_count": null,
   "id": "d3e3fc30",
   "metadata": {},
   "outputs": [],
   "source": [
    "# Analytical solution to the Qzz equation\n",
    "n = np.array(range(50),dtype='d')\n",
    "sigmas = -0.01*(np.pi**2)*n*n/4 - 1 - 0.01*(k**2)"
   ]
  },
  {
   "cell_type": "code",
   "execution_count": null,
   "id": "dd957622",
   "metadata": {},
   "outputs": [],
   "source": [
    "np.round(sigmas,5)"
   ]
  },
  {
   "cell_type": "code",
   "execution_count": null,
   "id": "b1f2c7bc",
   "metadata": {},
   "outputs": [],
   "source": [
    "idx=sort_idx_low[6]\n",
    "plot_modes(idx,ygl,evecs_low,M=50)"
   ]
  },
  {
   "cell_type": "code",
   "execution_count": null,
   "id": "c50c1152",
   "metadata": {},
   "outputs": [],
   "source": [
    "M=50\n",
    "_, ygl = cheb(M)\n",
    "Qzz = np.reshape(evecs_low[7*M:8*M,idx], -1)\n",
    "Re_Qzz = chebfit(ygl, np.real(Qzz), M)(yy)\n",
    "Im_Qzz = chebfit(ygl, np.imag(Qzz), M)(yy)\n",
    "plt.plot(yy, Re_Qzz)\n",
    "plt.plot(yy, Im_Qzz)\n",
    "plt.title('$Q_{zz}$')"
   ]
  },
  {
   "cell_type": "code",
   "execution_count": null,
   "id": "96eda583",
   "metadata": {},
   "outputs": [],
   "source": [
    "evecs_low.shape"
   ]
  },
  {
   "cell_type": "code",
   "execution_count": null,
   "id": "0cd41d54",
   "metadata": {},
   "outputs": [],
   "source": [
    "len(evals_low)"
   ]
  },
  {
   "cell_type": "code",
   "execution_count": 2,
   "id": "26ba216a",
   "metadata": {},
   "outputs": [
    {
     "name": "stdout",
     "output_type": "stream",
     "text": [
      "There are 99 finite eigenvalues\n",
      "The shape of the eigenmodes is (400, 400)\n",
      "The shape of the cleaned eigenmodes is (400, 99)\n"
     ]
    }
   ],
   "source": [
    "k,a = 1.25, 1.09\n",
    "evals, evecs = spectrum(k,a,M=50)"
   ]
  },
  {
   "cell_type": "code",
   "execution_count": 20,
   "id": "73094ab8",
   "metadata": {},
   "outputs": [
    {
     "data": {
      "text/plain": [
       "[<matplotlib.lines.Line2D at 0x7f51faf34d10>]"
      ]
     },
     "execution_count": 20,
     "metadata": {},
     "output_type": "execute_result"
    },
    {
     "data": {
      "image/png": "[encoded data removed]",
      "text/plain": [
       "<Figure size 640x480 with 1 Axes>"
      ]
     },
     "metadata": {},
     "output_type": "display_data"
    }
   ],
   "source": [
    "M=50\n",
    "_,ygl=cheb(M)\n",
    "Qzz = np.reshape(evecs[4*M:5*M,78], -1)\n",
    "yy = np.linspace(-1,1,500)\n",
    "plt.plot(ygl, np.real(Qzz))\n",
    "plt.plot(ygl, np.imag(Qzz))"
   ]
  },
  {
   "cell_type": "code",
   "execution_count": null,
   "id": "2ad6ef16",
   "metadata": {},
   "outputs": [],
   "source": []
  }
 ],
 "metadata": {
  "kernelspec": {
   "display_name": "Python 3 (ipykernel)",
   "language": "python",
   "name": "python3"
  },
  "language_info": {
   "codemirror_mode": {
    "name": "ipython",
    "version": 3
   },
   "file_extension": ".py",
   "mimetype": "text/x-python",
   "name": "python",
   "nbconvert_exporter": "python",
   "pygments_lexer": "ipython3",
   "version": "3.11.0"
  }
 },
 "nbformat": 4,
 "nbformat_minor": 5
}
