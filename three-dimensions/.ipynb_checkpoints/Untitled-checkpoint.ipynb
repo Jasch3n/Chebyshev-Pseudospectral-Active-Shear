{
 "cells": [
  {
   "cell_type": "code",
   "execution_count": 1,
   "id": "911f984d",
   "metadata": {},
   "outputs": [],
   "source": [
    "%matplotlib inline\n",
    "import matplotlib.pyplot as plt\n",
    "import matplotlib.lines as mlines\n",
    "from mpi4py import MPI\n",
    "from eigentools import Eigenproblem, CriticalFinder\n",
    "import dedalus.public as de\n",
    "import numpy as np\n",
    "import time"
   ]
  },
  {
   "cell_type": "code",
   "execution_count": 13,
   "id": "b448800f",
   "metadata": {},
   "outputs": [],
   "source": [
    "def fastest_rate(_kx,_a):\n",
    "    \"\"\"Constructs an Eigenproblem object that is to be solved by Dedalus 2.\n",
    "   Args:\n",
    "       _kx : (float) wavenumber of the perturbation\n",
    "       _a : (float) activity \n",
    "   Returns:\n",
    "       EP : (Eigenproblem) the corresponding eigenproblem\n",
    "   \"\"\"\n",
    "   \n",
    "    # relevant parameters\n",
    "    llambda = 1\n",
    "    l = 0.1\n",
    "    W = 1\n",
    "    tau = 1\n",
    "    eta = 1\n",
    "    a = _a\n",
    "\n",
    "    # resolution\n",
    "    ny = 58\n",
    "\n",
    "    # define spectral representation of the solution\n",
    "    y = de.Chebyshev('y',ny,interval=[-1,1])\n",
    "    d = de.Domain([y], grid_dtype=np.complex128)\n",
    "\n",
    "    # initialize problem\n",
    "    evp = de.EVP(d, ['vx','vx1','vx2',\\\n",
    "                    'vy','vy1',\\\n",
    "                    'vz','vz1','vz2',\\\n",
    "                    'Qxx','Qxx1',\\\n",
    "                    'Qxy','Qxy1',\\\n",
    "                    'Qxz','Qxz1',\\\n",
    "                    'Qyz','Qyz1',\\\n",
    "                    'Qzz','Qzz1'],'sigma')\n",
    "\n",
    "    # define paramters \n",
    "    # evp.parameters['_llambda'] = _llambda\n",
    "    evp.parameters['eta'] = eta\n",
    "    evp.parameters['tau'] = tau\n",
    "    evp.parameters['eta'] = eta\n",
    "    evp.parameters['a'] = _a\n",
    "    evp.parameters['l'] = l\n",
    "    evp.parameters['W'] = W\n",
    "    evp.parameters['ell_sq'] = l**2 / W**2\n",
    "    evp.parameters['kx'] = _kx\n",
    "    \n",
    "    # Order parameter equations\n",
    "    evp.add_equation(\"Qxx + ell_sq*(kx**2)*Qxx - 2*1j*kx*vx + Qxx*sigma*tau - ell_sq*dy(Qxx1) = 0\")\n",
    "    evp.add_equation(\"Qxy + ell_sq*(kx**2)*Qxy - 1j*kx*vy + Qxy*sigma*tau - vx1 - ell_sq*dy(Qxy1) = 0\")\n",
    "    evp.add_equation(\"ell_sq*(kx**2)*Qxz + Qxz*(1+sigma*tau) - 1j*kx*tau*vz/W - ell_sq*dy(Qxz1) = 0\")\n",
    "    evp.add_equation(\"Qyz + ell_sq*(kx**2)*Qyz + Qyz*sigma*tau - ell_sq*dy(Qyz1) - tau*vz1 = 0\")\n",
    "    evp.add_equation(\"ell_sq*(kx**2)*Qzz + Qzz*(1 + sigma*tau) - ell_sq*dy(Qzz1) = 0\")\n",
    "    \n",
    "    # velocity equations\n",
    "    evp.add_equation(\"1j*a*kx*Qxz1 + a*dy(Qyz1) + (kx**2)*eta*vz1 - (W**2)*eta*dy(vz2) = 0\")\n",
    "    evp.add_equation(\"-1j*(kx**3)*vz/W + kx*(a*kx*Qxz - 1j*a*W*Qyz1 + 1j*W*eta*dy(vz1)) / eta = 0\")\n",
    "    evp.add_equation(\"-1j*(kx**3)*vy*eta + a*(kx**2)*Qxy*tau + 2j*a*kx*tau*Qxx1 + 1j*a*kx*tau*Qzz1\"+ \n",
    "                     \"+ a*tau*dy(Qxy1) + kx*eta*(kx*vx1 + 1j*dy(vy)) - (W**2)*eta*tau*dy(vx) = 0\")\n",
    "    # Auxiliary equation for formulating the problem as first-order\n",
    "    evp.add_equation(\"dy(vx) - vx1 = 0\")\n",
    "    evp.add_equation(\"dy(vx1) - vx2 = 0\")\n",
    "    evp.add_equation(\"dy(vy) - vy1 = 0\")\n",
    "    evp.add_equation(\"dy(vz) - vz1 = 0\")\n",
    "    evp.add_equation(\"dy(vz1) - vz2 = 0\")\n",
    "    evp.add_equation(\"dy(Qxx) - Qxx1 = 0\")\n",
    "    evp.add_equation(\"dy(Qxy) - Qxy1 = 0\")\n",
    "    evp.add_equation(\"dy(Qxz) - Qxz1 = 0\")\n",
    "    evp.add_equation(\"dy(Qyz) - Qyz1 = 0\")\n",
    "    evp.add_equation(\"dy(Qzz) - Qzz1 = 0\")\n",
    "    # !!! Add incompressibility constraint?? !!!!\n",
    "    evp.add_equation(\"left(vy) = 0\")\n",
    "    evp.add_equation(\"right(vy) = 0\")\n",
    "    \n",
    "    # impose boundary conditions\n",
    "    evp.add_bc(\"left(vx) = 0\")\n",
    "    evp.add_bc(\"right(vx) = 0\")\n",
    "    evp.add_bc(\"left(vy) = 0\")\n",
    "    evp.add_bc(\"right(vy) = 0\")\n",
    "    evp.add_bc(\"left(vz) = 0\")\n",
    "    evp.add_bc(\"right(vz) = 0\")\n",
    "    evp.add_bc(\"left(Qxx) = 0\")\n",
    "    evp.add_bc(\"right(Qxx) = 0\")\n",
    "    evp.add_bc(\"left(Qxy) = 0\")\n",
    "    evp.add_bc(\"right(Qxy) = 0\")\n",
    "    evp.add_bc(\"left(Qxz) = 0\")\n",
    "    evp.add_bc(\"right(Qxz) = 0\")\n",
    "    evp.add_bc(\"left(Qyz) = 0\")\n",
    "    evp.add_bc(\"right(Qyz) = 0\")\n",
    "    evp.add_bc(\"left(Qzz) = 0\")\n",
    "    evp.add_bc(\"right(Qzz) = 0\")\n",
    "    # Need two more boundary conditions here?\n",
    "\n",
    "    # create eigenproblem object\n",
    "    f_func = lambda z: z.imag\n",
    "    g_func = lambda z: z.real\n",
    "    EP = Eigenproblem(evp, grow_func=g_func, freq_func=f_func)\n",
    "    return EP\n",
    "\n",
    "# Here is how to use the growth_rate function :)\n",
    "#     rate, indx, freq = EP.growth_rate(sparse=False)\n",
    "#     print(\"fastest growing mode: {} @ freq {}\".format(rate, freq))\n",
    "#     return rate"
   ]
  },
  {
   "cell_type": "code",
   "execution_count": 3,
   "id": "b5b002d4",
   "metadata": {},
   "outputs": [
    {
     "name": "stdout",
     "output_type": "stream",
     "text": [
      "2023-04-29 01:00:20,948 problems 0/1 INFO :: Solving EVP with homogeneity tolerance of 1.000e-10\n",
      "2023-04-29 01:00:21,024 problems 0/1 INFO :: Solving EVP with homogeneity tolerance of 1.000e-10\n",
      "fastest growing mode: 1.984375000000008 @ freq 8.91036105604159e-16\n"
     ]
    },
    {
     "data": {
      "text/plain": [
       "1.984375000000008"
      ]
     },
     "execution_count": 3,
     "metadata": {},
     "output_type": "execute_result"
    }
   ],
   "source": [
    "fastest_rate(1.25, 3)\n",
    "# Change the code from np.int to just int!\n",
    "# ~/anaconda3/envs/dedalus2/lib/python3.11/site-packages/eigentools/eigenproblem.py:707, in Eigenproblem._discard_spurious_eigenvalues(self)"
   ]
  },
  {
   "cell_type": "code",
   "execution_count": 5,
   "id": "a0d34b0b",
   "metadata": {},
   "outputs": [
    {
     "name": "stdout",
     "output_type": "stream",
     "text": [
      "2023-04-29 01:03:32,902 problems 0/1 INFO :: Solving EVP with homogeneity tolerance of 1.000e-10\n",
      "2023-04-29 01:03:32,984 problems 0/1 INFO :: Solving EVP with homogeneity tolerance of 1.000e-10\n",
      "fastest growing mode: -1.0056249999999953 @ freq 1.0208621624523362e-16\n"
     ]
    },
    {
     "data": {
      "text/plain": [
       "-1.0056249999999953"
      ]
     },
     "execution_count": 5,
     "metadata": {},
     "output_type": "execute_result"
    }
   ],
   "source": [
    "fastest_rate(1.25, 0.01)"
   ]
  },
  {
   "cell_type": "code",
   "execution_count": 7,
   "id": "94d504f1",
   "metadata": {},
   "outputs": [
    {
     "name": "stdout",
     "output_type": "stream",
     "text": [
      "2023-04-29 01:05:47,453 problems 0/1 INFO :: Solving EVP with homogeneity tolerance of 1.000e-10\n",
      "2023-04-29 01:05:47,526 problems 0/1 INFO :: Solving EVP with homogeneity tolerance of 1.000e-10\n",
      "fastest growing mode: -1.0000000000009928 @ freq 4.0046033152150255e-16\n"
     ]
    },
    {
     "data": {
      "text/plain": [
       "-1.0000000000009928"
      ]
     },
     "execution_count": 7,
     "metadata": {},
     "output_type": "execute_result"
    }
   ],
   "source": [
    "fastest_rate(1e-5, 1)"
   ]
  },
  {
   "cell_type": "code",
   "execution_count": null,
   "id": "f240d08c",
   "metadata": {},
   "outputs": [],
   "source": []
  }
 ],
 "metadata": {
  "kernelspec": {
   "display_name": "Python 3 (ipykernel)",
   "language": "python",
   "name": "python3"
  },
  "language_info": {
   "codemirror_mode": {
    "name": "ipython",
    "version": 3
   },
   "file_extension": ".py",
   "mimetype": "text/x-python",
   "name": "python",
   "nbconvert_exporter": "python",
   "pygments_lexer": "ipython3",
   "version": "3.11.0"
  }
 },
 "nbformat": 4,
 "nbformat_minor": 5
}
