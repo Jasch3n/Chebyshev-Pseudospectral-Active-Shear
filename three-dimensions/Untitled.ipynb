{
 "cells": [
  {
   "cell_type": "code",
   "execution_count": 1,
   "id": "674d93be",
   "metadata": {},
   "outputs": [],
   "source": [
    "%matplotlib inline\n",
    "import matplotlib.pyplot as plt\n",
    "import matplotlib.lines as mlines\n",
    "from mpi4py import MPI\n",
    "from eigentools import Eigenproblem, CriticalFinder\n",
    "import dedalus.extras.plot_tools as dplt\n",
    "import dedalus.public as de\n",
    "import numpy as np\n",
    "import time"
   ]
  },
  {
   "cell_type": "code",
   "execution_count": 2,
   "id": "8bf83de3",
   "metadata": {},
   "outputs": [],
   "source": [
    "def construct_EP(_kx,_a):\n",
    "    \"\"\"Constructs an Eigenproblem object that is to be solved by Dedalus 2.\n",
    "   Args:\n",
    "       _kx : (float) wavenumber of the perturbation\n",
    "       _a : (float) activity \n",
    "   Returns:\n",
    "       EP : (Eigenproblem) the corresponding eigenproblem\n",
    "   \"\"\"\n",
    "   \n",
    "    # relevant parameters\n",
    "    llambda = 1 # lambda has been assumed to be 1 in the equation entries\n",
    "    l = 0.1\n",
    "    W = 1\n",
    "    tau = 1\n",
    "    eta = 1\n",
    "    a = _a\n",
    "\n",
    "    # resolution\n",
    "    ny = 58\n",
    "\n",
    "    # define spectral representation of the solution\n",
    "    y = de.Chebyshev('y',ny,interval=[0,1])\n",
    "    d = de.Domain([y], grid_dtype=np.complex128)\n",
    "\n",
    "    # initialize problem\n",
    "    evp = de.EVP(d, ['vx','vx1','vx2',\\\n",
    "                    'vy','vy1',\\\n",
    "                    'vz','vz1','vz2',\\\n",
    "                    'Qxx','Qxx1',\\\n",
    "                    'Qxy','Qxy1',\\\n",
    "                    'Qxz','Qxz1',\\\n",
    "                    'Qyz','Qyz1',\\\n",
    "                    'Qzz','Qzz1'],'sigma')\n",
    "\n",
    "    # define paramters\n",
    "    evp.parameters['eta'] = eta\n",
    "    evp.parameters['tau'] = tau\n",
    "    evp.parameters['eta'] = eta\n",
    "    evp.parameters['a'] = _a\n",
    "    evp.parameters['l'] = l\n",
    "    evp.parameters['W'] = W\n",
    "    evp.parameters['ell_sq'] = l**2 / W**2\n",
    "    evp.parameters['kx'] = _kx\n",
    "    \n",
    "    # Order parameter equations\n",
    "    evp.add_equation(\"Qxx - 2j*kx*vx + ell_sq*(kx**2)*Qxx + Qxx*sigma*tau - ell_sq*dy(Qxx1) = 0\")\n",
    "    evp.add_equation(\"Qxy - 1j*kx*vy + ell_sq*(kx**2)*Qxy + Qxy*sigma*tau - vx1 - ell_sq*dy(Qxy1) = 0\")\n",
    "    evp.add_equation(\"Qxz - 1j*kx*vz + ell_sq*(kx**2)*Qxz + Qxz*sigma*tau - ell_sq*dy(Qxz1) = 0\")\n",
    "    evp.add_equation(\"Qyz + ell_sq*(kx**2)*Qyz + Qyz*sigma*tau - vz1 - ell_sq*dy(Qyz1) = 0\")\n",
    "    evp.add_equation(\"Qzz + ell_sq*(kx**2)*Qzz + Qzz*sigma*tau - ell_sq*dy(Qzz1) = 0\")\n",
    "    \n",
    "    # velocity equations\n",
    "    evp.add_equation(\"1j*a*kx*tau*Qxz1 + (kx**2)*eta*vz1 + a*tau*dy(Qyz1) - eta*dy(vz2) = 0\")\n",
    "    evp.add_equation(\"-1j*(kx**3)*vz*eta + a*(kx**2)*Qxz*tau - 1j*a*kx*tau*Qyz1 + 1j*kx*eta*dy(vz1) = 0\")\n",
    "    evp.add_equation(\"1j*(kx**3)*vy*eta - a*(kx**2)*Qxy*tau - 2j*a*kx*tau*Qxx1 - 1j*a*kx*tau*Qzz1 - (kx**2)*eta*vx1\" +\n",
    "                    \"-a*tau*dy(Qxy1) - 1j*kx*eta*dy(vy1) + eta*dy(vx2) = 0\")\n",
    "    # Auxiliary equation for formulating the problem as first-order\n",
    "    evp.add_equation(\"dy(vx) - vx1 = 0\")\n",
    "    evp.add_equation(\"dy(vx1) - vx2 = 0\")\n",
    "    evp.add_equation(\"dy(vy) - vy1 = 0\")\n",
    "    evp.add_equation(\"dy(vz) - vz1 = 0\")\n",
    "    evp.add_equation(\"dy(vz1) - vz2 = 0\")\n",
    "    evp.add_equation(\"dy(Qxx) - Qxx1 = 0\")\n",
    "    evp.add_equation(\"dy(Qxy) - Qxy1 = 0\")\n",
    "    evp.add_equation(\"dy(Qxz) - Qxz1 = 0\")\n",
    "    evp.add_equation(\"dy(Qyz) - Qyz1 = 0\")\n",
    "    evp.add_equation(\"dy(Qzz) - Qzz1 = 0\")\n",
    "    # !! Add incompressibility constraint? !!!\n",
    "    \n",
    "    # impose boundary conditions\n",
    "    evp.add_bc(\"left(vy1) = 0\")\n",
    "    evp.add_bc(\"right(vy1) = 0\")\n",
    "    evp.add_bc(\"left(vx) = 0\")\n",
    "    evp.add_bc(\"right(vx) = 0\")\n",
    "    evp.add_bc(\"left(vy) = 0\")\n",
    "    evp.add_bc(\"right(vy) = 0\")\n",
    "    evp.add_bc(\"left(vz) = 0\")\n",
    "    evp.add_bc(\"right(vz) = 0\")\n",
    "    evp.add_bc(\"left(Qxx) = 0\")\n",
    "    evp.add_bc(\"right(Qxx) = 0\")\n",
    "    evp.add_bc(\"left(Qxy) = 0\")\n",
    "    evp.add_bc(\"right(Qxy) = 0\")\n",
    "    evp.add_bc(\"left(Qxz) = 0\")\n",
    "    evp.add_bc(\"right(Qxz) = 0\")\n",
    "    evp.add_bc(\"left(Qyz) = 0\")\n",
    "    evp.add_bc(\"right(Qyz) = 0\")\n",
    "    evp.add_bc(\"left(Qzz) = 0\")\n",
    "    evp.add_bc(\"right(Qzz) = 0\")\n",
    "    # Need two more boundary conditions here?\n",
    "\n",
    "    # create eigenproblem object\n",
    "    f_func = lambda z: z.imag\n",
    "    g_func = lambda z: z.real\n",
    "    EP = Eigenproblem(evp, grow_func=g_func, freq_func=f_func)\n",
    "    return EP\n",
    "\n",
    "# Here is how to use the growth_rate function :)\n",
    "#     rate, indx, freq = EP.growth_rate(sparse=False)\n",
    "#     print(\"fastest growing mode: {} @ freq {}\".format(rate, freq))\n",
    "#     return rate"
   ]
  },
  {
   "cell_type": "code",
   "execution_count": 47,
   "id": "a8f6257f",
   "metadata": {
    "scrolled": true
   },
   "outputs": [
    {
     "name": "stdout",
     "output_type": "stream",
     "text": [
      "2023-05-02 14:02:59,498 problems 0/1 INFO :: Solving EVP with homogeneity tolerance of 1.000e-10\n",
      "2023-05-02 14:02:59,566 problems 0/1 INFO :: Solving EVP with homogeneity tolerance of 1.000e-10\n",
      "fastest growing mode: 1.8843750000000006 @ freq 0.0\n"
     ]
    }
   ],
   "source": [
    "(evp, ep1_sol) = construct_EP(1.25, 2.9)\n",
    "rate, indx, freq = ep1_sol.growth_rate(sparse=False)\n",
    "print(\"fastest growing mode: {} @ freq {}\".format(rate, freq))"
   ]
  },
  {
   "cell_type": "code",
   "execution_count": 102,
   "id": "d523ea31",
   "metadata": {},
   "outputs": [],
   "source": [
    "def plot_three_components(evp_sol_obj, indx):\n",
    "    mode = evp_sol_obj.eigenmode(indx)\n",
    "    plt.plot(evp_sol_obj.grid(), mode['vz']['g'].imag)\n",
    "    plt.plot(evp_sol_obj.grid(), mode['Qxz']['g'].real)\n",
    "    plt.plot(evp_sol_obj.grid(), mode['Qyz']['g'].imag)\n",
    "    plt.legend([\"$Im(v_z)$\",\"$Re(Q_{xz})$\",\"$Im(Q_{yz})$\"])"
   ]
  },
  {
   "cell_type": "code",
   "execution_count": 55,
   "id": "4abf45e1",
   "metadata": {},
   "outputs": [
    {
     "data": {
      "text/plain": [
       "<matplotlib.legend.Legend at 0x7feab66d00d0>"
      ]
     },
     "execution_count": 55,
     "metadata": {},
     "output_type": "execute_result"
    },
    {
     "data": {
      "image/png": "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\n",
      "text/plain": [
       "<Figure size 640x480 with 1 Axes>"
      ]
     },
     "metadata": {},
     "output_type": "display_data"
    }
   ],
   "source": [
    "# Example for how to plot a specific variable!\n",
    "mode = ep1_sol.eigenmode(indx)\n",
    "plt.plot(ep1_sol.grid(), mode['vz']['g'].imag)\n",
    "plt.plot(ep1_sol.grid(), mode['Qxz']['g'].real)\n",
    "plt.plot(ep1_sol.grid(), mode['Qyz']['g'].imag)\n",
    "plt.legend([\"$Im(v_z)$\",\"$Re(Q_{xz})$\",\"$Im(Q_{yz})$\"])"
   ]
  },
  {
   "cell_type": "code",
   "execution_count": 87,
   "id": "b49afb37",
   "metadata": {
    "scrolled": true
   },
   "outputs": [
    {
     "name": "stdout",
     "output_type": "stream",
     "text": [
      "2023-05-02 14:38:15,723 problems 0/1 INFO :: Solving EVP with homogeneity tolerance of 1.000e-10\n",
      "2023-05-02 14:38:15,796 problems 0/1 INFO :: Solving EVP with homogeneity tolerance of 1.000e-10\n"
     ]
    }
   ],
   "source": [
    "ep2 = construct_EP(0.47, 1.09*1.5)\n",
    "ep2.solve()"
   ]
  },
  {
   "cell_type": "code",
   "execution_count": 88,
   "id": "9350aaa0",
   "metadata": {},
   "outputs": [
    {
     "data": {
      "text/plain": [
       "array([-3.72108432+0.j, -1.69659512+0.j, -1.29579285+0.j, -1.1325542 +0.j,\n",
       "       -1.002209  +0.j, -1.002209  +0.j, -1.002209  +0.j, -1.002209  +0.j,\n",
       "       -1.002209  +0.j, -1.002209  +0.j, -1.002209  +0.j, -1.002209  +0.j,\n",
       "       -1.002209  +0.j, -1.002209  +0.j, -1.002209  +0.j, -1.002209  +0.j,\n",
       "       -1.002209  +0.j, -1.002209  +0.j, -1.002209  +0.j, -1.002209  +0.j,\n",
       "        0.632791  +0.j,  0.632791  +0.j,  0.632791  +0.j,  0.632791  +0.j,\n",
       "        0.632791  +0.j,  0.632791  +0.j,  0.632791  +0.j,  0.632791  +0.j,\n",
       "        0.632791  +0.j,  0.632791  +0.j,  0.632791  +0.j,  0.632791  +0.j,\n",
       "        0.632791  +0.j,  0.632791  +0.j,  0.632791  +0.j,  0.632791  +0.j,\n",
       "        0.632791  +0.j,  0.632791  +0.j,  0.632791  +0.j,  0.632791  +0.j])"
      ]
     },
     "execution_count": 88,
     "metadata": {},
     "output_type": "execute_result"
    }
   ],
   "source": [
    "ep2.evalues"
   ]
  },
  {
   "cell_type": "code",
   "execution_count": 99,
   "id": "52dcfd9d",
   "metadata": {},
   "outputs": [
    {
     "name": "stdout",
     "output_type": "stream",
     "text": [
      "2023-05-02 15:08:43,421 problems 0/1 INFO :: Solving EVP with homogeneity tolerance of 1.000e-10\n",
      "2023-05-02 15:08:43,501 problems 0/1 INFO :: Solving EVP with homogeneity tolerance of 1.000e-10\n"
     ]
    },
    {
     "data": {
      "text/plain": [
       "array([-1.70975857+0.j, -1.015625  +0.j, -1.015625  +0.j, -1.015625  +0.j,\n",
       "       -1.015625  +0.j, -1.015625  +0.j, -1.015625  +0.j, -1.015625  +0.j,\n",
       "       -1.015625  +0.j, -1.015625  +0.j, -1.015625  +0.j, -1.015625  +0.j,\n",
       "       -1.015625  +0.j, -1.015625  +0.j, -1.015625  +0.j, -1.015625  +0.j,\n",
       "       -1.015625  +0.j, -1.015625  +0.j, -1.015625  +0.j, -0.035715  +0.j,\n",
       "       -0.035715  +0.j, -0.035715  +0.j, -0.035715  +0.j, -0.035715  +0.j,\n",
       "       -0.035715  +0.j, -0.035715  +0.j, -0.035715  +0.j, -0.035715  +0.j,\n",
       "       -0.035715  +0.j, -0.035715  +0.j, -0.035715  +0.j, -0.035715  +0.j,\n",
       "       -0.035715  +0.j, -0.035715  +0.j, -0.035715  +0.j, -0.035715  +0.j,\n",
       "       -0.035715  +0.j])"
      ]
     },
     "execution_count": 99,
     "metadata": {},
     "output_type": "execute_result"
    }
   ],
   "source": [
    "ep2_prime = construct_EP(1.25, 1.09*0.899)\n",
    "ep2_prime.solve()\n",
    "ep2_prime.evalues"
   ]
  },
  {
   "cell_type": "code",
   "execution_count": 113,
   "id": "2921d020",
   "metadata": {},
   "outputs": [
    {
     "data": {
      "image/png": "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\n",
      "text/plain": [
       "<Figure size 640x480 with 1 Axes>"
      ]
     },
     "metadata": {},
     "output_type": "display_data"
    }
   ],
   "source": [
    "plot_three_components(ep2_prime, 31)"
   ]
  },
  {
   "cell_type": "code",
   "execution_count": 91,
   "id": "d977ea11",
   "metadata": {},
   "outputs": [
    {
     "name": "stdout",
     "output_type": "stream",
     "text": [
      "2023-05-02 14:43:00,123 problems 0/1 INFO :: Solving EVP with homogeneity tolerance of 1.000e-10\n",
      "2023-05-02 14:43:00,187 problems 0/1 INFO :: Solving EVP with homogeneity tolerance of 1.000e-10\n"
     ]
    },
    {
     "ename": "TypeError",
     "evalue": "cannot unpack non-iterable Eigenproblem object",
     "output_type": "error",
     "traceback": [
      "\u001b[0;31m---------------------------------------------------------------------------\u001b[0m",
      "\u001b[0;31mTypeError\u001b[0m                                 Traceback (most recent call last)",
      "Cell \u001b[0;32mIn[91], line 1\u001b[0m\n\u001b[0;32m----> 1\u001b[0m (evp, ep3) \u001b[38;5;241m=\u001b[39m construct_EP(\u001b[38;5;241m1.25\u001b[39m, \u001b[38;5;241m0.5\u001b[39m \u001b[38;5;241m*\u001b[39m \u001b[38;5;241m1.5\u001b[39m)\n\u001b[1;32m      2\u001b[0m rate3, indx3, freq3 \u001b[38;5;241m=\u001b[39m ep3\u001b[38;5;241m.\u001b[39mgrowth_rate(sparse\u001b[38;5;241m=\u001b[39m\u001b[38;5;28;01mFalse\u001b[39;00m)\n\u001b[1;32m      3\u001b[0m \u001b[38;5;28mprint\u001b[39m(\u001b[38;5;124m\"\u001b[39m\u001b[38;5;124mfastest growing mode: \u001b[39m\u001b[38;5;132;01m{}\u001b[39;00m\u001b[38;5;124m @ freq \u001b[39m\u001b[38;5;132;01m{}\u001b[39;00m\u001b[38;5;124m\"\u001b[39m\u001b[38;5;241m.\u001b[39mformat(rate3, freq3))\n",
      "\u001b[0;31mTypeError\u001b[0m: cannot unpack non-iterable Eigenproblem object"
     ]
    }
   ],
   "source": [
    "(evp, ep3) = construct_EP(1.25, 0.5 * 1.5)\n",
    "rate3, indx3, freq3 = ep3.growth_rate(sparse=False)\n",
    "print(\"fastest growing mode: {} @ freq {}\".format(rate3, freq3))"
   ]
  },
  {
   "cell_type": "code",
   "execution_count": 65,
   "id": "5529c7bc",
   "metadata": {},
   "outputs": [
    {
     "name": "stdout",
     "output_type": "stream",
     "text": [
      "2023-05-02 14:17:17,413 problems 0/1 INFO :: Solving EVP with homogeneity tolerance of 1.000e-10\n",
      "2023-05-02 14:17:17,485 problems 0/1 INFO :: Solving EVP with homogeneity tolerance of 1.000e-10\n",
      "fastest growing mode: -0.2806249999999998 @ freq 0.0\n"
     ]
    }
   ],
   "source": [
    "ep4 = construct_EP(1.25, 0.49 * 1.5)\n",
    "rate4, indx4, freq4 = ep4.growth_rate(sparse=False)\n",
    "print(\"fastest growing mode: {} @ freq {}\".format(rate4, freq4))"
   ]
  },
  {
   "cell_type": "code",
   "execution_count": 66,
   "id": "bc231174",
   "metadata": {},
   "outputs": [
    {
     "name": "stdout",
     "output_type": "stream",
     "text": [
      "2023-05-02 14:18:19,133 problems 0/1 INFO :: Solving EVP with homogeneity tolerance of 1.000e-10\n",
      "2023-05-02 14:18:19,207 problems 0/1 INFO :: Solving EVP with homogeneity tolerance of 1.000e-10\n",
      "fastest growing mode: 0.3455720295839815 @ freq -0.0\n"
     ]
    }
   ],
   "source": [
    "ep4 = construct_EP(1.25, 0.5 * 1.5)\n",
    "rate4, indx4, freq4 = ep4.growth_rate(sparse=False)\n",
    "print(\"fastest growing mode: {} @ freq {}\".format(rate4, freq4))"
   ]
  },
  {
   "cell_type": "code",
<<<<<<< HEAD
   "execution_count": 3,
   "id": "1b7743e5",
=======
   "execution_count": 84,
   "id": "38c06858",
>>>>>>> 16268c727d82754b02d83a4946c52b17cd826338
   "metadata": {},
   "outputs": [
    {
     "name": "stdout",
     "output_type": "stream",
     "text": [
      "2023-05-02 14:36:11,121 problems 0/1 INFO :: Solving EVP with homogeneity tolerance of 1.000e-10\n",
      "2023-05-02 14:36:11,184 problems 0/1 INFO :: Solving EVP with homogeneity tolerance of 1.000e-10\n",
      "2023-05-02 14:36:58,663 problems 0/1 INFO :: Solving EVP with homogeneity tolerance of 1.000e-10\n",
      "2023-05-02 14:36:58,723 problems 0/1 INFO :: Solving EVP with homogeneity tolerance of 1.000e-10\n"
     ]
    },
    {
     "name": "stderr",
     "output_type": "stream",
     "text": [
      "/gpfs/home/jchen343/miniforge3/envs/ded2/lib/python3.10/site-packages/eigentools/eigenproblem.py:694: RuntimeWarning: invalid value encountered in double_scalars\n",
      "  self.delta_ordinal = np.array([np.abs(eval_low_sorted[j] - eval_hi_sorted[j])/sigmas[j] for j in range(len(eval_low_sorted))])\n",
      "/gpfs/home/jchen343/miniforge3/envs/ded2/lib/python3.10/site-packages/eigentools/eigenproblem.py:694: RuntimeWarning: divide by zero encountered in double_scalars\n",
      "  self.delta_ordinal = np.array([np.abs(eval_low_sorted[j] - eval_hi_sorted[j])/sigmas[j] for j in range(len(eval_low_sorted))])\n",
      "/gpfs/home/jchen343/miniforge3/envs/ded2/lib/python3.10/site-packages/eigentools/eigenproblem.py:697: RuntimeWarning: divide by zero encountered in divide\n",
      "  self.delta_near = np.array([np.nanmin(np.abs(eval_low_sorted[j] - eval_hi_sorted)/sigmas[j]) for j in range(len(eval_low_sorted))])\n",
      "/gpfs/home/jchen343/miniforge3/envs/ded2/lib/python3.10/site-packages/eigentools/eigenproblem.py:697: RuntimeWarning: invalid value encountered in divide\n",
      "  self.delta_near = np.array([np.nanmin(np.abs(eval_low_sorted[j] - eval_hi_sorted)/sigmas[j]) for j in range(len(eval_low_sorted))])\n",
      "/gpfs/home/jchen343/miniforge3/envs/ded2/lib/python3.10/site-packages/eigentools/eigenproblem.py:703: RuntimeWarning: divide by zero encountered in divide\n",
      "  inverse_drift = 1/self.delta_near\n"
     ]
    },
    {
     "name": "stdout",
     "output_type": "stream",
     "text": [
      "2023-05-02 14:37:49,818 problems 0/1 INFO :: Solving EVP with homogeneity tolerance of 1.000e-10\n",
      "2023-05-02 14:37:49,889 problems 0/1 INFO :: Solving EVP with homogeneity tolerance of 1.000e-10\n",
      "2023-05-02 14:38:43,249 problems 0/1 INFO :: Solving EVP with homogeneity tolerance of 1.000e-10\n",
      "2023-05-02 14:38:43,317 problems 0/1 INFO :: Solving EVP with homogeneity tolerance of 1.000e-10\n",
      "2023-05-02 14:39:29,518 problems 0/1 INFO :: Solving EVP with homogeneity tolerance of 1.000e-10\n",
      "2023-05-02 14:39:29,579 problems 0/1 INFO :: Solving EVP with homogeneity tolerance of 1.000e-10\n",
      "2023-05-02 14:40:16,950 problems 0/1 INFO :: Solving EVP with homogeneity tolerance of 1.000e-10\n",
      "2023-05-02 14:40:17,098 problems 0/1 INFO :: Solving EVP with homogeneity tolerance of 1.000e-10\n",
      "2023-05-02 14:41:03,375 problems 0/1 INFO :: Solving EVP with homogeneity tolerance of 1.000e-10\n",
      "2023-05-02 14:41:03,435 problems 0/1 INFO :: Solving EVP with homogeneity tolerance of 1.000e-10\n",
      "2023-05-02 14:41:49,773 problems 0/1 INFO :: Solving EVP with homogeneity tolerance of 1.000e-10\n",
      "2023-05-02 14:41:49,833 problems 0/1 INFO :: Solving EVP with homogeneity tolerance of 1.000e-10\n",
      "2023-05-02 14:42:37,034 problems 0/1 INFO :: Solving EVP with homogeneity tolerance of 1.000e-10\n",
      "2023-05-02 14:42:37,101 problems 0/1 INFO :: Solving EVP with homogeneity tolerance of 1.000e-10\n",
      "2023-05-02 14:43:34,021 problems 0/1 INFO :: Solving EVP with homogeneity tolerance of 1.000e-10\n",
      "2023-05-02 14:43:34,089 problems 0/1 INFO :: Solving EVP with homogeneity tolerance of 1.000e-10\n",
      "2023-05-02 14:44:30,148 problems 0/1 INFO :: Solving EVP with homogeneity tolerance of 1.000e-10\n",
      "2023-05-02 14:44:30,306 problems 0/1 INFO :: Solving EVP with homogeneity tolerance of 1.000e-10\n",
      "2023-05-02 14:45:18,914 problems 0/1 INFO :: Solving EVP with homogeneity tolerance of 1.000e-10\n",
      "2023-05-02 14:45:18,980 problems 0/1 INFO :: Solving EVP with homogeneity tolerance of 1.000e-10\n",
      "2023-05-02 14:46:09,579 problems 0/1 INFO :: Solving EVP with homogeneity tolerance of 1.000e-10\n",
      "2023-05-02 14:46:09,640 problems 0/1 INFO :: Solving EVP with homogeneity tolerance of 1.000e-10\n",
      "2023-05-02 14:46:56,132 problems 0/1 INFO :: Solving EVP with homogeneity tolerance of 1.000e-10\n",
      "2023-05-02 14:46:56,199 problems 0/1 INFO :: Solving EVP with homogeneity tolerance of 1.000e-10\n",
      "2023-05-02 14:47:43,035 problems 0/1 INFO :: Solving EVP with homogeneity tolerance of 1.000e-10\n",
      "2023-05-02 14:47:43,103 problems 0/1 INFO :: Solving EVP with homogeneity tolerance of 1.000e-10\n",
      "2023-05-02 14:48:30,276 problems 0/1 INFO :: Solving EVP with homogeneity tolerance of 1.000e-10\n",
      "2023-05-02 14:48:30,338 problems 0/1 INFO :: Solving EVP with homogeneity tolerance of 1.000e-10\n",
      "2023-05-02 14:49:17,107 problems 0/1 INFO :: Solving EVP with homogeneity tolerance of 1.000e-10\n",
      "2023-05-02 14:49:17,165 problems 0/1 INFO :: Solving EVP with homogeneity tolerance of 1.000e-10\n",
      "2023-05-02 14:50:05,785 problems 0/1 INFO :: Solving EVP with homogeneity tolerance of 1.000e-10\n",
      "2023-05-02 14:50:05,851 problems 0/1 INFO :: Solving EVP with homogeneity tolerance of 1.000e-10\n",
      "2023-05-02 14:50:52,791 problems 0/1 INFO :: Solving EVP with homogeneity tolerance of 1.000e-10\n",
      "2023-05-02 14:50:52,858 problems 0/1 INFO :: Solving EVP with homogeneity tolerance of 1.000e-10\n",
      "2023-05-02 14:51:48,465 problems 0/1 INFO :: Solving EVP with homogeneity tolerance of 1.000e-10\n",
      "2023-05-02 14:51:48,528 problems 0/1 INFO :: Solving EVP with homogeneity tolerance of 1.000e-10\n",
      "2023-05-02 14:52:35,592 problems 0/1 INFO :: Solving EVP with homogeneity tolerance of 1.000e-10\n",
      "2023-05-02 14:52:35,659 problems 0/1 INFO :: Solving EVP with homogeneity tolerance of 1.000e-10\n",
      "2023-05-02 14:53:23,113 problems 0/1 INFO :: Solving EVP with homogeneity tolerance of 1.000e-10\n",
      "2023-05-02 14:53:23,171 problems 0/1 INFO :: Solving EVP with homogeneity tolerance of 1.000e-10\n",
      "2023-05-02 14:54:09,747 problems 0/1 INFO :: Solving EVP with homogeneity tolerance of 1.000e-10\n",
      "2023-05-02 14:54:09,812 problems 0/1 INFO :: Solving EVP with homogeneity tolerance of 1.000e-10\n",
      "2023-05-02 14:54:56,174 problems 0/1 INFO :: Solving EVP with homogeneity tolerance of 1.000e-10\n",
      "2023-05-02 14:54:56,240 problems 0/1 INFO :: Solving EVP with homogeneity tolerance of 1.000e-10\n",
      "2023-05-02 14:55:42,608 problems 0/1 INFO :: Solving EVP with homogeneity tolerance of 1.000e-10\n",
      "2023-05-02 14:55:42,674 problems 0/1 INFO :: Solving EVP with homogeneity tolerance of 1.000e-10\n",
      "2023-05-02 14:56:29,026 problems 0/1 INFO :: Solving EVP with homogeneity tolerance of 1.000e-10\n",
      "2023-05-02 14:56:29,093 problems 0/1 INFO :: Solving EVP with homogeneity tolerance of 1.000e-10\n",
      "2023-05-02 14:57:15,169 problems 0/1 INFO :: Solving EVP with homogeneity tolerance of 1.000e-10\n",
      "2023-05-02 14:57:15,293 problems 0/1 INFO :: Solving EVP with homogeneity tolerance of 1.000e-10\n",
      "2023-05-02 14:58:01,841 problems 0/1 INFO :: Solving EVP with homogeneity tolerance of 1.000e-10\n",
      "2023-05-02 14:58:01,899 problems 0/1 INFO :: Solving EVP with homogeneity tolerance of 1.000e-10\n",
      "2023-05-02 14:58:51,026 problems 0/1 INFO :: Solving EVP with homogeneity tolerance of 1.000e-10\n",
      "2023-05-02 14:58:51,092 problems 0/1 INFO :: Solving EVP with homogeneity tolerance of 1.000e-10\n",
      "2023-05-02 14:59:37,595 problems 0/1 INFO :: Solving EVP with homogeneity tolerance of 1.000e-10\n",
      "2023-05-02 14:59:37,662 problems 0/1 INFO :: Solving EVP with homogeneity tolerance of 1.000e-10\n",
      "2023-05-02 15:00:23,779 problems 0/1 INFO :: Solving EVP with homogeneity tolerance of 1.000e-10\n",
      "2023-05-02 15:00:23,845 problems 0/1 INFO :: Solving EVP with homogeneity tolerance of 1.000e-10\n",
      "2023-05-02 15:01:18,007 problems 0/1 INFO :: Solving EVP with homogeneity tolerance of 1.000e-10\n",
      "2023-05-02 15:01:18,135 problems 0/1 INFO :: Solving EVP with homogeneity tolerance of 1.000e-10\n",
      "2023-05-02 15:02:04,502 problems 0/1 INFO :: Solving EVP with homogeneity tolerance of 1.000e-10\n",
      "2023-05-02 15:02:04,568 problems 0/1 INFO :: Solving EVP with homogeneity tolerance of 1.000e-10\n",
      "2023-05-02 15:02:50,872 problems 0/1 INFO :: Solving EVP with homogeneity tolerance of 1.000e-10\n",
      "2023-05-02 15:02:50,937 problems 0/1 INFO :: Solving EVP with homogeneity tolerance of 1.000e-10\n",
      "2023-05-02 15:03:45,885 problems 0/1 INFO :: Solving EVP with homogeneity tolerance of 1.000e-10\n",
      "2023-05-02 15:03:45,951 problems 0/1 INFO :: Solving EVP with homogeneity tolerance of 1.000e-10\n",
      "2023-05-02 15:04:32,259 problems 0/1 INFO :: Solving EVP with homogeneity tolerance of 1.000e-10\n",
      "2023-05-02 15:04:32,326 problems 0/1 INFO :: Solving EVP with homogeneity tolerance of 1.000e-10\n",
      "2023-05-02 15:05:18,587 problems 0/1 INFO :: Solving EVP with homogeneity tolerance of 1.000e-10\n",
      "2023-05-02 15:05:18,711 problems 0/1 INFO :: Solving EVP with homogeneity tolerance of 1.000e-10\n",
      "2023-05-02 15:06:04,981 problems 0/1 INFO :: Solving EVP with homogeneity tolerance of 1.000e-10\n",
      "2023-05-02 15:06:05,042 problems 0/1 INFO :: Solving EVP with homogeneity tolerance of 1.000e-10\n",
      "2023-05-02 15:07:00,089 problems 0/1 INFO :: Solving EVP with homogeneity tolerance of 1.000e-10\n",
      "2023-05-02 15:07:00,154 problems 0/1 INFO :: Solving EVP with homogeneity tolerance of 1.000e-10\n",
      "2023-05-02 15:07:46,334 problems 0/1 INFO :: Solving EVP with homogeneity tolerance of 1.000e-10\n",
      "2023-05-02 15:07:46,400 problems 0/1 INFO :: Solving EVP with homogeneity tolerance of 1.000e-10\n",
      "2023-05-02 15:08:32,593 problems 0/1 INFO :: Solving EVP with homogeneity tolerance of 1.000e-10\n",
      "2023-05-02 15:08:32,659 problems 0/1 INFO :: Solving EVP with homogeneity tolerance of 1.000e-10\n",
      "2023-05-02 15:09:19,114 problems 0/1 INFO :: Solving EVP with homogeneity tolerance of 1.000e-10\n",
      "2023-05-02 15:09:19,173 problems 0/1 INFO :: Solving EVP with homogeneity tolerance of 1.000e-10\n",
      "2023-05-02 15:10:05,921 problems 0/1 INFO :: Solving EVP with homogeneity tolerance of 1.000e-10\n",
      "2023-05-02 15:10:05,981 problems 0/1 INFO :: Solving EVP with homogeneity tolerance of 1.000e-10\n",
      "2023-05-02 15:10:53,509 problems 0/1 INFO :: Solving EVP with homogeneity tolerance of 1.000e-10\n",
      "2023-05-02 15:10:53,574 problems 0/1 INFO :: Solving EVP with homogeneity tolerance of 1.000e-10\n",
      "2023-05-02 15:11:39,496 problems 0/1 INFO :: Solving EVP with homogeneity tolerance of 1.000e-10\n"
     ]
    },
    {
     "name": "stdout",
     "output_type": "stream",
     "text": [
      "2023-05-02 15:11:39,562 problems 0/1 INFO :: Solving EVP with homogeneity tolerance of 1.000e-10\n",
      "2023-05-02 15:12:26,051 problems 0/1 INFO :: Solving EVP with homogeneity tolerance of 1.000e-10\n",
      "2023-05-02 15:12:26,110 problems 0/1 INFO :: Solving EVP with homogeneity tolerance of 1.000e-10\n",
      "2023-05-02 15:13:12,151 problems 0/1 INFO :: Solving EVP with homogeneity tolerance of 1.000e-10\n",
      "2023-05-02 15:13:12,210 problems 0/1 INFO :: Solving EVP with homogeneity tolerance of 1.000e-10\n",
      "2023-05-02 15:13:58,188 problems 0/1 INFO :: Solving EVP with homogeneity tolerance of 1.000e-10\n",
      "2023-05-02 15:13:58,252 problems 0/1 INFO :: Solving EVP with homogeneity tolerance of 1.000e-10\n",
      "2023-05-02 15:14:44,437 problems 0/1 INFO :: Solving EVP with homogeneity tolerance of 1.000e-10\n",
      "2023-05-02 15:14:44,502 problems 0/1 INFO :: Solving EVP with homogeneity tolerance of 1.000e-10\n",
      "2023-05-02 15:15:30,803 problems 0/1 INFO :: Solving EVP with homogeneity tolerance of 1.000e-10\n",
      "2023-05-02 15:15:30,868 problems 0/1 INFO :: Solving EVP with homogeneity tolerance of 1.000e-10\n",
      "2023-05-02 15:16:27,178 problems 0/1 INFO :: Solving EVP with homogeneity tolerance of 1.000e-10\n",
      "2023-05-02 15:16:27,244 problems 0/1 INFO :: Solving EVP with homogeneity tolerance of 1.000e-10\n",
      "2023-05-02 15:17:13,420 problems 0/1 INFO :: Solving EVP with homogeneity tolerance of 1.000e-10\n",
      "2023-05-02 15:17:13,478 problems 0/1 INFO :: Solving EVP with homogeneity tolerance of 1.000e-10\n",
      "2023-05-02 15:17:59,672 problems 0/1 INFO :: Solving EVP with homogeneity tolerance of 1.000e-10\n",
      "2023-05-02 15:17:59,801 problems 0/1 INFO :: Solving EVP with homogeneity tolerance of 1.000e-10\n",
      "2023-05-02 15:18:47,687 problems 0/1 INFO :: Solving EVP with homogeneity tolerance of 1.000e-10\n",
      "2023-05-02 15:18:47,744 problems 0/1 INFO :: Solving EVP with homogeneity tolerance of 1.000e-10\n",
      "2023-05-02 15:19:34,217 problems 0/1 INFO :: Solving EVP with homogeneity tolerance of 1.000e-10\n",
      "2023-05-02 15:19:34,283 problems 0/1 INFO :: Solving EVP with homogeneity tolerance of 1.000e-10\n",
      "2023-05-02 15:20:24,097 problems 0/1 INFO :: Solving EVP with homogeneity tolerance of 1.000e-10\n",
      "2023-05-02 15:20:24,163 problems 0/1 INFO :: Solving EVP with homogeneity tolerance of 1.000e-10\n",
      "2023-05-02 15:21:18,747 problems 0/1 INFO :: Solving EVP with homogeneity tolerance of 1.000e-10\n",
      "2023-05-02 15:21:18,807 problems 0/1 INFO :: Solving EVP with homogeneity tolerance of 1.000e-10\n",
      "2023-05-02 15:22:10,576 problems 0/1 INFO :: Solving EVP with homogeneity tolerance of 1.000e-10\n",
      "2023-05-02 15:22:10,707 problems 0/1 INFO :: Solving EVP with homogeneity tolerance of 1.000e-10\n",
      "2023-05-02 15:23:03,563 problems 0/1 INFO :: Solving EVP with homogeneity tolerance of 1.000e-10\n",
      "2023-05-02 15:23:03,628 problems 0/1 INFO :: Solving EVP with homogeneity tolerance of 1.000e-10\n",
      "2023-05-02 15:23:50,104 problems 0/1 INFO :: Solving EVP with homogeneity tolerance of 1.000e-10\n",
      "2023-05-02 15:23:50,170 problems 0/1 INFO :: Solving EVP with homogeneity tolerance of 1.000e-10\n"
     ]
    }
   ],
   "source": [
    "acts = np.linspace(0.1, 5, 60)\n",
    "for i in range(len(acts)):\n",
    "    a = acts[i]\n",
    "    ep = construct_EP(1.25, a)\n",
    "    ep.solve()\n",
    "    np.savetxt(\"data/first-check-spectrum-activity-sweep/a_{}\".format(i), ep.evalues)"
   ]
  },
  {
   "cell_type": "code",
   "execution_count": null,
   "id": "82d24faa",
   "metadata": {},
   "outputs": [],
   "source": []
  }
 ],
 "metadata": {
  "kernelspec": {
   "display_name": "Python 3 (ipykernel)",
   "language": "python",
   "name": "python3"
  },
  "language_info": {
   "codemirror_mode": {
    "name": "ipython",
    "version": 3
   },
   "file_extension": ".py",
   "mimetype": "text/x-python",
   "name": "python",
   "nbconvert_exporter": "python",
   "pygments_lexer": "ipython3",
   "version": "3.10.6"
  }
 },
 "nbformat": 4,
 "nbformat_minor": 5
}
