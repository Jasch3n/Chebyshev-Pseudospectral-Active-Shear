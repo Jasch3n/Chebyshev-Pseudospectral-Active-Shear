{
 "cells": [
  {
   "cell_type": "code",
   "execution_count": 18,
   "id": "674d93be",
   "metadata": {},
   "outputs": [],
   "source": [
    "%matplotlib inline\n",
    "import matplotlib.pyplot as plt\n",
    "import matplotlib.lines as mlines\n",
    "from mpi4py import MPI\n",
    "from eigentools import Eigenproblem, CriticalFinder\n",
    "import dedalus.extras.plot_tools as dplt\n",
    "import dedalus.public as de\n",
    "import numpy as np\n",
    "import time"
   ]
  },
  {
   "cell_type": "code",
   "execution_count": 64,
   "id": "8bf83de3",
   "metadata": {},
   "outputs": [],
   "source": [
    "def construct_EP(_kx,_a):\n",
    "    \"\"\"Constructs an Eigenproblem object that is to be solved by Dedalus 2.\n",
    "   Args:\n",
    "       _kx : (float) wavenumber of the perturbation\n",
    "       _a : (float) activity \n",
    "   Returns:\n",
    "       EP : (Eigenproblem) the corresponding eigenproblem\n",
    "   \"\"\"\n",
    "   \n",
    "    # relevant parameters\n",
    "    llambda = 1 # lambda has been assumed to be 1 in the equation entries\n",
    "    l = 0.1\n",
    "    W = 1\n",
    "    tau = 1\n",
    "    eta = 1\n",
    "    a = _a\n",
    "\n",
    "    # resolution\n",
    "    ny = 58\n",
    "\n",
    "    # define spectral representation of the solution\n",
    "    y = de.Chebyshev('y',ny,interval=[0,1])\n",
    "    d = de.Domain([y], grid_dtype=np.complex128)\n",
    "\n",
    "    # initialize problem\n",
    "    evp = de.EVP(d, ['vx','vx1','vx2',\\\n",
    "                    'vy','vy1',\\\n",
    "                    'vz','vz1','vz2',\\\n",
    "                    'Qxx','Qxx1',\\\n",
    "                    'Qxy','Qxy1',\\\n",
    "                    'Qxz','Qxz1',\\\n",
    "                    'Qyz','Qyz1',\\\n",
    "                    'Qzz','Qzz1'],'sigma')\n",
    "\n",
    "    # define paramters\n",
    "    evp.parameters['eta'] = eta\n",
    "    evp.parameters['tau'] = tau\n",
    "    evp.parameters['eta'] = eta\n",
    "    evp.parameters['a'] = _a\n",
    "    evp.parameters['l'] = l\n",
    "    evp.parameters['W'] = W\n",
    "    evp.parameters['ell_sq'] = l**2 / W**2\n",
    "    evp.parameters['kx'] = _kx\n",
    "    \n",
    "    # Order parameter equations\n",
    "    evp.add_equation(\"Qxx - 2j*kx*vx + ell_sq*(kx**2)*Qxx + Qxx*sigma*tau - ell_sq*dy(Qxx1) = 0\")\n",
    "    evp.add_equation(\"Qxy - 1j*kx*vy + ell_sq*(kx**2)*Qxy + Qxy*sigma*tau - vx1 - ell_sq*dy(Qxy1) = 0\")\n",
    "    evp.add_equation(\"Qxz - 1j*kx*vz + ell_sq*(kx**2)*Qxz + Qxz*sigma*tau - ell_sq*dy(Qxz1) = 0\")\n",
    "    evp.add_equation(\"Qyz + ell_sq*(kx**2)*Qyz + Qyz*sigma*tau - vz1 - ell_sq*dy(Qyz1) = 0\")\n",
    "    evp.add_equation(\"Qzz + ell_sq*(kx**2)*Qzz + Qzz*sigma*tau - ell_sq*dy(Qzz1) = 0\")\n",
    "    \n",
    "    # velocity equations\n",
    "    evp.add_equation(\"1j*a*kx*tau*Qxz1 + (kx**2)*eta*vz1 + a*tau*dy(Qyz1) - eta*dy(vz2) = 0\")\n",
    "    evp.add_equation(\"-1j*(kx**3)*vz*eta + a*(kx**2)*Qxz*tau - 1j*a*kx*tau*Qyz1 + 1j*kx*eta*dy(vz1) = 0\")\n",
    "    evp.add_equation(\"1j*(kx**3)*vy*eta - a*(kx**2)*Qxy*tau - 2j*a*kx*tau*Qxx1 - 1j*a*kx*tau*Qzz1 - (kx**2)*eta*vx1\" +\n",
    "                    \"-a*tau*dy(Qxy1) - 1j*kx*eta*dy(vy1) + eta*dy(vx2) = 0\")\n",
    "    # Auxiliary equation for formulating the problem as first-order\n",
    "    evp.add_equation(\"dy(vx) - vx1 = 0\")\n",
    "    evp.add_equation(\"dy(vx1) - vx2 = 0\")\n",
    "    evp.add_equation(\"dy(vy) - vy1 = 0\")\n",
    "    evp.add_equation(\"dy(vz) - vz1 = 0\")\n",
    "    evp.add_equation(\"dy(vz1) - vz2 = 0\")\n",
    "    evp.add_equation(\"dy(Qxx) - Qxx1 = 0\")\n",
    "    evp.add_equation(\"dy(Qxy) - Qxy1 = 0\")\n",
    "    evp.add_equation(\"dy(Qxz) - Qxz1 = 0\")\n",
    "    evp.add_equation(\"dy(Qyz) - Qyz1 = 0\")\n",
    "    evp.add_equation(\"dy(Qzz) - Qzz1 = 0\")\n",
    "    # !! Add incompressibility constraint? !!!\n",
    "    \n",
    "    # impose boundary conditions\n",
    "    evp.add_bc(\"left(vy1) = 0\")\n",
    "    evp.add_bc(\"right(vy1) = 0\")\n",
    "    evp.add_bc(\"left(vx) = 0\")\n",
    "    evp.add_bc(\"right(vx) = 0\")\n",
    "    evp.add_bc(\"left(vy) = 0\")\n",
    "    evp.add_bc(\"right(vy) = 0\")\n",
    "    evp.add_bc(\"left(vz) = 0\")\n",
    "    evp.add_bc(\"right(vz) = 0\")\n",
    "    evp.add_bc(\"left(Qxx) = 0\")\n",
    "    evp.add_bc(\"right(Qxx) = 0\")\n",
    "    evp.add_bc(\"left(Qxy) = 0\")\n",
    "    evp.add_bc(\"right(Qxy) = 0\")\n",
    "    evp.add_bc(\"left(Qxz) = 0\")\n",
    "    evp.add_bc(\"right(Qxz) = 0\")\n",
    "    evp.add_bc(\"left(Qyz) = 0\")\n",
    "    evp.add_bc(\"right(Qyz) = 0\")\n",
    "    evp.add_bc(\"left(Qzz) = 0\")\n",
    "    evp.add_bc(\"right(Qzz) = 0\")\n",
    "    # Need two more boundary conditions here?\n",
    "\n",
    "    # create eigenproblem object\n",
    "    f_func = lambda z: z.imag\n",
    "    g_func = lambda z: z.real\n",
    "    EP = Eigenproblem(evp, grow_func=g_func, freq_func=f_func)\n",
    "    return EP\n",
    "\n",
    "# Here is how to use the growth_rate function :)\n",
    "#     rate, indx, freq = EP.growth_rate(sparse=False)\n",
    "#     print(\"fastest growing mode: {} @ freq {}\".format(rate, freq))\n",
    "#     return rate"
   ]
  },
  {
   "cell_type": "code",
   "execution_count": 47,
   "id": "a8f6257f",
   "metadata": {
    "scrolled": true
   },
   "outputs": [
    {
     "name": "stdout",
     "output_type": "stream",
     "text": [
      "2023-05-02 14:02:59,498 problems 0/1 INFO :: Solving EVP with homogeneity tolerance of 1.000e-10\n",
      "2023-05-02 14:02:59,566 problems 0/1 INFO :: Solving EVP with homogeneity tolerance of 1.000e-10\n",
      "fastest growing mode: 1.8843750000000006 @ freq 0.0\n"
     ]
    }
   ],
   "source": [
    "(evp, ep1_sol) = construct_EP(1.25, 2.9)\n",
    "rate, indx, freq = ep1_sol.growth_rate(sparse=False)\n",
    "print(\"fastest growing mode: {} @ freq {}\".format(rate, freq))"
   ]
  },
  {
   "cell_type": "code",
   "execution_count": 58,
   "id": "83cf73ab",
   "metadata": {},
   "outputs": [],
   "source": [
    "def plot_three_components(evp_sol_obj, indx):\n",
    "    mode = ep1_sol_obj.eigenmode(indx)\n",
    "    plt.plot(evp_sol_obj.grid(), mode['vz']['g'].imag)\n",
    "    plt.plot(evp_sol_obj.grid(), mode['Qxz']['g'].real)\n",
    "    plt.plot(evp_sol_obj.grid(), mode['Qyz']['g'].imag)\n",
    "    plt.legend([\"$Im(v_z)$\",\"$Re(Q_{xz})$\",\"$Im(Q_{yz})$\"])"
   ]
  },
  {
   "cell_type": "code",
   "execution_count": 55,
   "id": "4abf45e1",
   "metadata": {},
   "outputs": [
    {
     "data": {
      "text/plain": [
       "<matplotlib.legend.Legend at 0x7feab66d00d0>"
      ]
     },
     "execution_count": 55,
     "metadata": {},
     "output_type": "execute_result"
    },
    {
     "data": {
      "image/png": "[encoded data removed]",
      "text/plain": [
       "<Figure size 640x480 with 1 Axes>"
      ]
     },
     "metadata": {},
     "output_type": "display_data"
    }
   ],
   "source": [
    "# Example for how to plot a specific variable!\n",
    "mode = ep1_sol.eigenmode(indx)\n",
    "plt.plot(ep1_sol.grid(), mode['vz']['g'].imag)\n",
    "plt.plot(ep1_sol.grid(), mode['Qxz']['g'].real)\n",
    "plt.plot(ep1_sol.grid(), mode['Qyz']['g'].imag)\n",
    "plt.legend([\"$Im(v_z)$\",\"$Re(Q_{xz})$\",\"$Im(Q_{yz})$\"])"
   ]
  },
  {
   "cell_type": "code",
   "execution_count": 48,
   "id": "b49afb37",
   "metadata": {},
   "outputs": [
    {
     "name": "stdout",
     "output_type": "stream",
     "text": [
      "2023-05-02 14:03:42,977 problems 0/1 INFO :: Solving EVP with homogeneity tolerance of 1.000e-10\n",
      "2023-05-02 14:03:43,055 problems 0/1 INFO :: Solving EVP with homogeneity tolerance of 1.000e-10\n",
      "fastest growing mode: 0.46437500000000037 @ freq 0.0\n"
     ]
    }
   ],
   "source": [
    "(evp, ep2) = construct_EP(1.25, 1.48)\n",
    "rate2, indx2, freq2 = ep2.growth_rate(sparse=False)\n",
    "print(\"fastest growing mode: {} @ freq {}\".format(rate2, freq2))"
   ]
  },
  {
   "cell_type": "code",
   "execution_count": 56,
   "id": "d977ea11",
   "metadata": {},
   "outputs": [
    {
     "name": "stdout",
     "output_type": "stream",
     "text": [
      "2023-05-02 14:10:46,794 problems 0/1 INFO :: Solving EVP with homogeneity tolerance of 1.000e-10\n",
      "2023-05-02 14:10:46,868 problems 0/1 INFO :: Solving EVP with homogeneity tolerance of 1.000e-10\n",
      "fastest growing mode: 0.3455720295839815 @ freq -0.0\n"
     ]
    }
   ],
   "source": [
    "(evp, ep3) = construct_EP(1.25, 0.5 * 1.5)\n",
    "rate3, indx3, freq3 = ep3.growth_rate(sparse=False)\n",
    "print(\"fastest growing mode: {} @ freq {}\".format(rate3, freq3))"
   ]
  },
  {
   "cell_type": "code",
   "execution_count": 65,
   "id": "7815874b",
   "metadata": {},
   "outputs": [
    {
     "name": "stdout",
     "output_type": "stream",
     "text": [
      "2023-05-02 14:17:17,413 problems 0/1 INFO :: Solving EVP with homogeneity tolerance of 1.000e-10\n",
      "2023-05-02 14:17:17,485 problems 0/1 INFO :: Solving EVP with homogeneity tolerance of 1.000e-10\n",
      "fastest growing mode: -0.2806249999999998 @ freq 0.0\n"
     ]
    }
   ],
   "source": [
    "ep4 = construct_EP(1.25, 0.49 * 1.5)\n",
    "rate4, indx4, freq4 = ep4.growth_rate(sparse=False)\n",
    "print(\"fastest growing mode: {} @ freq {}\".format(rate4, freq4))"
   ]
  },
  {
   "cell_type": "code",
   "execution_count": 66,
   "id": "33eb6b03",
   "metadata": {},
   "outputs": [
    {
     "name": "stdout",
     "output_type": "stream",
     "text": [
      "2023-05-02 14:18:19,133 problems 0/1 INFO :: Solving EVP with homogeneity tolerance of 1.000e-10\n",
      "2023-05-02 14:18:19,207 problems 0/1 INFO :: Solving EVP with homogeneity tolerance of 1.000e-10\n",
      "fastest growing mode: 0.3455720295839815 @ freq -0.0\n"
     ]
    }
   ],
   "source": [
    "ep4 = construct_EP(1.25, 0.5 * 1.5)\n",
    "rate4, indx4, freq4 = ep4.growth_rate(sparse=False)\n",
    "print(\"fastest growing mode: {} @ freq {}\".format(rate4, freq4))"
   ]
  },
  {
   "cell_type": "code",
   "execution_count": 84,
   "id": "1b7743e5",
   "metadata": {},
   "outputs": [
    {
     "name": "stdout",
     "output_type": "stream",
     "text": [
      "2023-05-02 14:29:31,276 problems 0/1 INFO :: Solving EVP with homogeneity tolerance of 1.000e-10\n",
      "2023-05-02 14:29:31,348 problems 0/1 INFO :: Solving EVP with homogeneity tolerance of 1.000e-10\n"
     ]
    }
   ],
   "source": [
    "acts = np.linspace(0.1, 5, 60)\n",
    "for i in range(len(acts)):\n",
    "    a = acts[i]\n",
    "    ep = construct_EP(1.25, a)\n",
    "    ep.solve()\n",
    "    np.savetxt(\"data/first-check-spectrum-activity-sweep/a_{}\".format(i), ep.evalues)"
   ]
  },
  {
   "cell_type": "code",
   "execution_count": null,
   "id": "18fcc3d9",
   "metadata": {},
   "outputs": [],
   "source": []
  }
 ],
 "metadata": {
  "kernelspec": {
   "display_name": "Python 3 (ipykernel)",
   "language": "python",
   "name": "python3"
  },
  "language_info": {
   "codemirror_mode": {
    "name": "ipython",
    "version": 3
   },
   "file_extension": ".py",
   "mimetype": "text/x-python",
   "name": "python",
   "nbconvert_exporter": "python",
   "pygments_lexer": "ipython3",
   "version": "3.11.0"
  }
 },
 "nbformat": 4,
 "nbformat_minor": 5
}
