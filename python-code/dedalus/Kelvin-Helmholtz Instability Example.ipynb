{
 "cells": [
  {
   "cell_type": "code",
   "execution_count": 1,
   "id": "b9ea5bed",
   "metadata": {},
   "outputs": [],
   "source": [
    "%matplotlib inline"
   ]
  },
  {
   "cell_type": "code",
   "execution_count": 2,
   "id": "84355232",
   "metadata": {},
   "outputs": [
    {
     "name": "stdout",
     "output_type": "stream",
     "text": [
      "2022-10-12 22:52:22,481 dedalus 0/1 WARNING :: Threading has not been disabled. This may massively degrade Dedalus performance.\n",
      "2022-10-12 22:52:22,483 dedalus 0/1 WARNING :: We strongly suggest setting the \"OMP_NUM_THREADS\" environment variable to \"1\".\n"
     ]
    }
   ],
   "source": [
    "import numpy as np\n",
    "import matplotlib.pyplot as plt\n",
    "import h5py\n",
    "from dedalus import public as de\n",
    "from dedalus.extras import flow_tools\n",
    "import time\n",
    "from IPython import display"
   ]
  },
  {
   "cell_type": "code",
   "execution_count": 3,
   "id": "ea27166b",
   "metadata": {},
   "outputs": [],
   "source": [
    "import logging\n",
    "root = logging.root\n",
    "for h in root.handlers:\n",
    "    h.setLevel(\"INFO\")\n",
    "\n",
    "logger = logging.getLogger(__name__)"
   ]
  },
  {
   "cell_type": "markdown",
   "id": "fa3e6539",
   "metadata": {},
   "source": [
    "# Problem Domain"
   ]
  },
  {
   "cell_type": "code",
   "execution_count": 4,
   "id": "b06ae220",
   "metadata": {},
   "outputs": [],
   "source": [
    "#Aspect ratio 2\n",
    "Lx, Ly = (2., 1.)\n",
    "nx, ny = (192, 96)\n",
    "\n",
    "# Create bases and domain\n",
    "x_basis = de.Fourier('x', nx, interval=(0, Lx), dealias=3/2)\n",
    "y_basis = de.Chebyshev('y',ny, interval=(-Ly/2, Ly/2), dealias=3/2)\n",
    "domain = de.Domain([x_basis, y_basis], grid_dtype=np.float64)"
   ]
  },
  {
   "cell_type": "markdown",
   "id": "cabf6e10",
   "metadata": {},
   "source": [
    "### Terms on the left side of the equation are treated explicitly while terms on the right side are treated implicity. So if terms are non-linear put them on the right side I guess."
   ]
  },
  {
   "cell_type": "code",
   "execution_count": 7,
   "id": "417ac935",
   "metadata": {},
   "outputs": [],
   "source": [
    "# Define the equations\n",
    "Reynolds = 1e4\n",
    "Schmidt = 1.\n",
    "\n",
    "problem = de.IVP(domain, variables=['p','u','v','uy','vy','s','Sy'])\n",
    "problem.meta[:]['y']['dirichlet'] = True\n",
    "problem.parameters['Re'] = Reynolds\n",
    "problem.parameters['Sc'] = Schmidt\n",
    "problem.add_equation(\"dt(u) + dx(p) - 1/Re*(dx(dx(u)) + dy(uy)) = - u*dx(u) - v*uy\")\n",
    "problem.add_equation(\"dt(v) + dy(p) - 1/Re*(dx(dx(v)) + dy(vy)) = - u*dx(v) - v*vy\")\n",
    "problem.add_equation(\"dx(u) + vy = 0\")\n",
    "problem.add_equation(\"dt(s) - 1/(Re*Sc)*(dx(dx(s)) + dy(Sy)) = - u*dx(s) - v*Sy\")\n",
    "problem.add_equation(\"uy - dy(u) = 0\")\n",
    "problem.add_equation(\"vy - dy(v) = 0\")\n",
    "problem.add_equation(\"Sy - dy(s) = 0\")"
   ]
  },
  {
   "cell_type": "code",
   "execution_count": 8,
   "id": "455d4e6d",
   "metadata": {},
   "outputs": [],
   "source": [
    "# Set the BCs\n",
    "problem.add_bc(\"left(u) = 0.5\")\n",
    "problem.add_bc(\"right(u) = -0.5\")\n",
    "problem.add_bc(\"left(v) = 0\")\n",
    "problem.add_bc(\"right(v) = 0\", condition=\"(nx != 0)\")\n",
    "problem.add_bc(\"left(p) = 0\", condition=\"(nx == 0)\")\n",
    "problem.add_bc(\"left(s) = 0\")\n",
    "problem.add_bc(\"right(s) = 1\")"
   ]
  },
  {
   "cell_type": "code",
   "execution_count": 9,
   "id": "f2393c0b",
   "metadata": {},
   "outputs": [],
   "source": [
    "ts = de.timesteppers.RK443"
   ]
  },
  {
   "cell_type": "code",
   "execution_count": 10,
   "id": "1440a629",
   "metadata": {},
   "outputs": [
    {
     "name": "stdout",
     "output_type": "stream",
     "text": [
      "2022-10-12 23:03:52,277 pencil 0/1 INFO :: Building pencil matrix 1/96 (~1%) Elapsed: 0s, Remaining: 2s, Rate: 4.9e+01/s\n",
      "2022-10-12 23:03:52,403 pencil 0/1 INFO :: Building pencil matrix 10/96 (~10%) Elapsed: 0s, Remaining: 1s, Rate: 6.8e+01/s\n",
      "2022-10-12 23:03:52,581 pencil 0/1 INFO :: Building pencil matrix 20/96 (~21%) Elapsed: 0s, Remaining: 1s, Rate: 6.2e+01/s\n",
      "2022-10-12 23:03:52,695 pencil 0/1 INFO :: Building pencil matrix 30/96 (~31%) Elapsed: 0s, Remaining: 1s, Rate: 6.8e+01/s\n",
      "2022-10-12 23:03:52,844 pencil 0/1 INFO :: Building pencil matrix 40/96 (~42%) Elapsed: 1s, Remaining: 1s, Rate: 6.8e+01/s\n",
      "2022-10-12 23:03:52,962 pencil 0/1 INFO :: Building pencil matrix 50/96 (~52%) Elapsed: 1s, Remaining: 1s, Rate: 7.1e+01/s\n",
      "2022-10-12 23:03:53,084 pencil 0/1 INFO :: Building pencil matrix 60/96 (~62%) Elapsed: 1s, Remaining: 0s, Rate: 7.2e+01/s\n",
      "2022-10-12 23:03:53,253 pencil 0/1 INFO :: Building pencil matrix 70/96 (~73%) Elapsed: 1s, Remaining: 0s, Rate: 7.0e+01/s\n",
      "2022-10-12 23:03:53,381 pencil 0/1 INFO :: Building pencil matrix 80/96 (~83%) Elapsed: 1s, Remaining: 0s, Rate: 7.1e+01/s\n",
      "2022-10-12 23:03:53,562 pencil 0/1 INFO :: Building pencil matrix 90/96 (~94%) Elapsed: 1s, Remaining: 0s, Rate: 6.9e+01/s\n",
      "2022-10-12 23:03:53,645 pencil 0/1 INFO :: Building pencil matrix 96/96 (~100%) Elapsed: 1s, Remaining: 0s, Rate: 6.9e+01/s\n"
     ]
    }
   ],
   "source": [
    "solver =  problem.build_solver(ts)"
   ]
  },
  {
   "cell_type": "code",
   "execution_count": 11,
   "id": "f3c4095c",
   "metadata": {},
   "outputs": [
    {
     "data": {
      "text/plain": [
       "<Field 140659707045696>"
      ]
     },
     "execution_count": 11,
     "metadata": {},
     "output_type": "execute_result"
    }
   ],
   "source": [
    "x = domain.grid(0)\n",
    "y = domain.grid(1)\n",
    "u = solver.state['u']\n",
    "uy = solver.state['uy']\n",
    "v = solver.state['v']\n",
    "vy = solver.state['vy']\n",
    "s = solver.state['s']\n",
    "Sy = solver.state['Sy']\n",
    "\n",
    "a = 0.05\n",
    "sigma = 0.2\n",
    "flow = -0.5\n",
    "amp = -0.2\n",
    "u['g'] = flow*np.tanh(y/a)\n",
    "v['g'] = amp*np.sin(2.0*np.pi*x/Lx)*np.exp(-(y*y)/(sigma*sigma))\n",
    "s['g'] = 0.5*(1+np.tanh(y/a))\n",
    "u.differentiate('y',out=uy)\n",
    "v.differentiate('y',out=vy)\n",
    "s.differentiate('y',out=Sy)"
   ]
  },
  {
   "cell_type": "code",
   "execution_count": 12,
   "id": "1bcafa29",
   "metadata": {},
   "outputs": [],
   "source": [
    "solver.stop_sim_time = 2.01\n",
    "solver.stop_wall_time = np.inf\n",
    "solver.stop_iteration = np.inf\n",
    "\n",
    "initial_dt = 0.2*Lx/nx\n",
    "cfl = flow_tools.CFL(solver,initial_dt,safety=0.8)\n",
    "cfl.add_velocities(('u','v'))"
   ]
  },
  {
   "cell_type": "code",
   "execution_count": null,
   "id": "3a476069",
   "metadata": {},
   "outputs": [],
   "source": []
  }
 ],
 "metadata": {
  "kernelspec": {
   "display_name": "Python 3 (ipykernel)",
   "language": "python",
   "name": "python3"
  },
  "language_info": {
   "codemirror_mode": {
    "name": "ipython",
    "version": 3
   },
   "file_extension": ".py",
   "mimetype": "text/x-python",
   "name": "python",
   "nbconvert_exporter": "python",
   "pygments_lexer": "ipython3",
   "version": "3.10.6"
  }
 },
 "nbformat": 4,
 "nbformat_minor": 5
}
