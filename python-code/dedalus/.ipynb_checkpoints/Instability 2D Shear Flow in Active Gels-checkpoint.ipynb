{
 "cells": [
  {
   "cell_type": "code",
   "execution_count": 61,
   "id": "b9ea5bed",
   "metadata": {},
   "outputs": [],
   "source": [
    "%matplotlib inline"
   ]
  },
  {
   "cell_type": "code",
   "execution_count": 62,
   "id": "84355232",
   "metadata": {},
   "outputs": [],
   "source": [
    "import numpy as np\n",
    "import matplotlib.pyplot as plt\n",
    "import h5py\n",
    "from dedalus import public as de\n",
    "from dedalus.extras import flow_tools\n",
    "import time\n",
    "from IPython import display\n",
    "from eigentools import Eigenproblem, CriticalFinder"
   ]
  },
  {
   "cell_type": "code",
   "execution_count": 63,
   "id": "b06ae220",
   "metadata": {},
   "outputs": [],
   "source": [
    "#Aspect ratio 2\n",
    "Ly= 1\n",
    "ny = 192\n",
    "\n",
    "# Create bases and domain\\\n",
    "y_basis = de.Chebyshev('y',ny, interval=(-Ly/2, Ly/2), dealias=3/2)\n",
    "domain = de.Domain([y_basis], grid_dtype=np.complex128)"
   ]
  },
  {
   "cell_type": "markdown",
   "id": "cabf6e10",
   "metadata": {},
   "source": [
    "### Terms on the left side of the equation are treated explicitly while terms on the right side are treated implicity. So if terms are non-linear put them on the right side I guess"
   ]
  },
  {
   "cell_type": "code",
   "execution_count": 64,
   "id": "417ac935",
   "metadata": {},
   "outputs": [],
   "source": [
    "# Define the equations\n",
    "def OSProb(wave_num,act,relax_time,shear):\n",
    "    a = act\n",
    "    k = wave_num\n",
    "    l = 1\n",
    "    W = 10\n",
    "    lamb = 1\n",
    "    tau = relax_time\n",
    "    gammaDot = shear\n",
    "    tBar = tau * gammaDot\n",
    "\n",
    "    problem = de.EVP(domain, ['Psi','Psi1','Psi2','Psi3','Qxx','Qxy','Qxx1','Qxy1'], 'sigma')\n",
    "    problem.meta[:]['y']['dirichlet'] = True\n",
    "    Ly = 1\n",
    "    problem.parameters['Ly'] = Ly\n",
    "    problem.parameters['a'] = a\n",
    "    problem.parameters['k'] = k\n",
    "    problem.parameters['l'] = l\n",
    "    problem.parameters['W'] = W\n",
    "    problem.parameters['lamb'] = lamb\n",
    "    problem.parameters['tau'] = tau\n",
    "    problem.parameters['gammaDot'] = gammaDot\n",
    "    problem.parameters['tBar'] = tBar\n",
    "    problem.add_equation(\"dy(Psi3) - 2*(k**2)*dy(Psi1) + (k**4)*Psi - a * ((k**2)*Qxy + dy(Qxy1) + 2j*k*dy(Qxx)) = 0\")\n",
    "    problem.add_equation(\"Qxx - 2j*k*lamb*tBar*dy(Psi)\" \n",
    "                        \"+ (l**2/W**2)*(k**2 * Qxx - dy(Qxx1)) + (1j*k*y*tBar + sigma*tau)*Qxx - tBar*Qxy\" \n",
    "                        \"+ (lamb * (tBar**2)) / (1 + tBar**2) * (k**2 * Psi - dy(Psi1)) = 0\")\n",
    "    problem.add_equation(\"tBar*Qxx + Qxy + (1j*k*y*tBar + sigma*tau)*Qxy + (l**2/W**2)*(k**2 * Qxy - dy(Qxy1)) - (lamb * tBar**3)/(1+tBar**2)*(k**2 * Psi - dy(Psi1)) - lamb*tBar*(k**2*Psi + dy(Psi1)) = 0\")\n",
    "    problem.add_equation(\"dy(Psi2)=Psi3\")\n",
    "    problem.add_equation(\"dy(Psi1)=Psi2\")\n",
    "    problem.add_equation(\"dy(Psi)=Psi1\")\n",
    "    problem.add_equation(\"dy(Qxx) = Qxx1\")\n",
    "    problem.add_equation(\"dy(Qxy) = Qxy1\")\n",
    "    \n",
    "    # Set the BCs\n",
    "    problem.add_bc(\"left(dy(Qxx)) = 0\")\n",
    "    problem.add_equation(\"right(dy(Qxx)) = 0\")\n",
    "    problem.add_equation(\"left(dy(Qxy)) = 0\")\n",
    "    problem.add_equation(\"right(dy(Qxy)) = 0\")\n",
    "    problem.add_equation(\"left(Psi) = 0\")\n",
    "    problem.add_equation(\"right(Psi) = 0\")\n",
    "    # Deal with these BCs with substituation trick.\n",
    "    problem.add_equation(\"left(dy(Psi))=0\")\n",
    "    problem.add_equation(\"right(dy(Psi))=0\")\n",
    "    \n",
    "    g_func = lambda z: z.real\n",
    "    f_func = lambda z: z.imag\n",
    "    ep = Eigenproblem(problem, grow_func=g_func, freq_func=f_func)\n",
    "    return ep"
   ]
  },
  {
   "cell_type": "code",
   "execution_count": 31,
   "id": "389852f2",
   "metadata": {},
   "outputs": [
    {
     "name": "stdout",
     "output_type": "stream",
     "text": [
      "2022-10-23 16:32:29,110 problems 0/1 INFO :: Solving EVP with homogeneity tolerance of 1.000e-10\n",
      "2022-10-23 16:32:29,227 problems 0/1 INFO :: Solving EVP with homogeneity tolerance of 1.000e-10\n",
      "params=[k=1,gDot=0.0,a=0.0], fastest growing mode: 203-th mode, Re(sigma)=-2.3684236689140596 @ freq 2.603427327013419\n",
      "2022-10-23 16:45:10,410 problems 0/1 INFO :: Solving EVP with homogeneity tolerance of 1.000e-10\n",
      "2022-10-23 16:45:10,602 problems 0/1 INFO :: Solving EVP with homogeneity tolerance of 1.000e-10\n",
      "params=[k=1,gDot=0.0,a=0.2], fastest growing mode: 204-th mode, Re(sigma)=-2.2698123016787464 @ freq 2.596939910560231\n",
      "2022-10-23 16:53:27,305 problems 0/1 INFO :: Solving EVP with homogeneity tolerance of 1.000e-10\n",
      "2022-10-23 16:53:27,366 problems 0/1 INFO :: Solving EVP with homogeneity tolerance of 1.000e-10\n",
      "params=[k=1,gDot=0.0,a=0.4], fastest growing mode: 203-th mode, Re(sigma)=-2.1898962629717076 @ freq 2.5958465489737823\n",
      "2022-10-23 17:02:37,600 problems 0/1 INFO :: Solving EVP with homogeneity tolerance of 1.000e-10\n",
      "2022-10-23 17:02:37,670 problems 0/1 INFO :: Solving EVP with homogeneity tolerance of 1.000e-10\n",
      "params=[k=1,gDot=0.0,a=0.6000000000000001], fastest growing mode: 204-th mode, Re(sigma)=-2.1227434120069586 @ freq -2.5983698078877695\n",
      "2022-10-23 17:11:30,275 problems 0/1 INFO :: Solving EVP with homogeneity tolerance of 1.000e-10\n",
      "2022-10-23 17:11:30,347 problems 0/1 INFO :: Solving EVP with homogeneity tolerance of 1.000e-10\n",
      "params=[k=1,gDot=0.0,a=0.8], fastest growing mode: 204-th mode, Re(sigma)=-2.06495202285569 @ freq -2.6033713406789105\n",
      "2022-10-23 17:20:33,315 problems 0/1 INFO :: Solving EVP with homogeneity tolerance of 1.000e-10\n",
      "2022-10-23 17:20:33,385 problems 0/1 INFO :: Solving EVP with homogeneity tolerance of 1.000e-10\n",
      "params=[k=1,gDot=0.0,a=1.0], fastest growing mode: 203-th mode, Re(sigma)=-2.0143677787090564 @ freq 2.6101106019003946\n",
      "2022-10-23 17:29:19,669 problems 0/1 INFO :: Solving EVP with homogeneity tolerance of 1.000e-10\n",
      "2022-10-23 17:29:19,732 problems 0/1 INFO :: Solving EVP with homogeneity tolerance of 1.000e-10\n",
      "params=[k=1,gDot=0.0,a=1.2000000000000002], fastest growing mode: 204-th mode, Re(sigma)=-1.9695298146481202 @ freq -2.618090246526121\n",
      "2022-10-23 17:37:50,864 problems 0/1 INFO :: Solving EVP with homogeneity tolerance of 1.000e-10\n",
      "2022-10-23 17:37:50,910 problems 0/1 INFO :: Solving EVP with homogeneity tolerance of 1.000e-10\n",
      "params=[k=1,gDot=0.0,a=1.4000000000000001], fastest growing mode: 204-th mode, Re(sigma)=-1.9293969067232555 @ freq -2.626965547958887\n",
      "2022-10-23 17:47:45,596 problems 0/1 INFO :: Solving EVP with homogeneity tolerance of 1.000e-10\n",
      "2022-10-23 17:47:45,654 problems 0/1 INFO :: Solving EVP with homogeneity tolerance of 1.000e-10\n",
      "params=[k=1,gDot=0.0,a=1.6], fastest growing mode: 203-th mode, Re(sigma)=-1.893198211195964 @ freq 2.636490680192373\n",
      "2022-10-23 17:57:24,317 problems 0/1 INFO :: Solving EVP with homogeneity tolerance of 1.000e-10\n",
      "2022-10-23 17:57:24,372 problems 0/1 INFO :: Solving EVP with homogeneity tolerance of 1.000e-10\n",
      "params=[k=1,gDot=0.0,a=1.8], fastest growing mode: 203-th mode, Re(sigma)=-1.8603456776846057 @ freq -2.6464858806258094\n",
      "2022-10-23 18:05:44,902 problems 0/1 INFO :: Solving EVP with homogeneity tolerance of 1.000e-10\n",
      "2022-10-23 18:05:44,941 problems 0/1 INFO :: Solving EVP with homogeneity tolerance of 1.000e-10\n",
      "params=[k=1,gDot=0.0,a=2.0], fastest growing mode: 203-th mode, Re(sigma)=-1.830379620979827 @ freq -2.6568167228903117\n",
      "2022-10-23 18:14:29,675 problems 0/1 INFO :: Solving EVP with homogeneity tolerance of 1.000e-10\n",
      "2022-10-23 18:14:29,727 problems 0/1 INFO :: Solving EVP with homogeneity tolerance of 1.000e-10\n",
      "params=[k=1,gDot=0.0,a=2.2], fastest growing mode: 203-th mode, Re(sigma)=-1.8029333121837416 @ freq -2.667380638970241\n",
      "2022-10-23 18:23:06,380 problems 0/1 INFO :: Solving EVP with homogeneity tolerance of 1.000e-10\n",
      "2022-10-23 18:23:06,429 problems 0/1 INFO :: Solving EVP with homogeneity tolerance of 1.000e-10\n",
      "params=[k=1,gDot=0.0,a=2.4000000000000004], fastest growing mode: 203-th mode, Re(sigma)=-1.7777090639642923 @ freq -2.6780979204771835\n",
      "2022-10-23 18:31:42,441 problems 0/1 INFO :: Solving EVP with homogeneity tolerance of 1.000e-10\n",
      "2022-10-23 18:31:42,494 problems 0/1 INFO :: Solving EVP with homogeneity tolerance of 1.000e-10\n",
      "params=[k=1,gDot=0.0,a=2.6], fastest growing mode: 203-th mode, Re(sigma)=-1.7544615667868872 @ freq 2.6889055700718054\n",
      "2022-10-23 18:40:38,554 problems 0/1 INFO :: Solving EVP with homogeneity tolerance of 1.000e-10\n",
      "2022-10-23 18:40:38,622 problems 0/1 INFO :: Solving EVP with homogeneity tolerance of 1.000e-10\n",
      "params=[k=1,gDot=0.0,a=2.8000000000000003], fastest growing mode: 204-th mode, Re(sigma)=-1.7329859680685935 @ freq 2.6997530151180587\n",
      "CPU times: user 2h 14min 44s, sys: 59 s, total: 2h 15min 43s\n",
      "Wall time: 2h 16min 53s\n"
     ]
    }
   ],
   "source": [
    "%%time\n",
    "k = 1\n",
    "tau = 0.5\n",
    "shear = 0\n",
    "for a in np.arange(0,3,0.2):\n",
    "    ep = OSProb(k,a,tau,shear)\n",
    "    rate, index, freq = ep.growth_rate(parameters={'k':k, 'tBar': tBar, 'a':a}, sparse=False)\n",
    "    print(\"params=[k={},gDot={},a={}], fastest growing mode: {}-th mode, Re(sigma)={} @ freq {}\".format(k,tau*shear,a,index, rate, freq))"
   ]
  },
  {
   "cell_type": "code",
   "execution_count": 65,
   "id": "d22bb61f",
   "metadata": {},
   "outputs": [
    {
     "name": "stdout",
     "output_type": "stream",
     "text": [
      "2022-10-23 20:40:35,162 problems 0/1 INFO :: Solving EVP with homogeneity tolerance of 1.000e-10\n",
      "2022-10-23 20:40:35,193 problems 0/1 INFO :: Solving EVP with homogeneity tolerance of 1.000e-10\n",
      "params=[k=0.5,gDot=0.0,a=10], fastest growing mode: 203-th mode, Re(sigma)=1.612638992022652 @ freq -8.055350572744914\n",
      "CPU times: user 5min 17s, sys: 514 ms, total: 5min 17s\n",
      "Wall time: 5min 17s\n"
     ]
    }
   ],
   "source": [
    "%%time\n",
    "k=0.5\n",
    "tau=0.5\n",
    "shear = 0\n",
    "a = 10\n",
    "ep = OSProb(k,a,tau,gammaDot)\n",
    "rate, index, freq = ep.growth_rate(parameters={'k':k, 'tBar': tBar, 'a':a}, sparse=False)\n",
    "print(\"params=[k={},gDot={},a={}], fastest growing mode: {}-th mode, Re(sigma)={} @ freq {}\".format(k,tau*shear,a,index, rate, freq))"
   ]
  },
  {
   "cell_type": "code",
   "execution_count": 66,
   "id": "7ae0c5a5",
   "metadata": {},
   "outputs": [
    {
     "name": "stdout",
     "output_type": "stream",
     "text": [
      "2022-10-23 20:46:57,649 problems 0/1 INFO :: Solving EVP with homogeneity tolerance of 1.000e-10\n",
      "2022-10-23 20:46:57,679 problems 0/1 INFO :: Solving EVP with homogeneity tolerance of 1.000e-10\n",
      "params=[k=0.5,gDot=0.0,a=5], fastest growing mode: 203-th mode, Re(sigma)=-0.8715900516234529 @ freq 6.77017065142493\n",
      "CPU times: user 5min 19s, sys: 446 ms, total: 5min 19s\n",
      "Wall time: 5min 19s\n"
     ]
    }
   ],
   "source": [
    "%%time # i do not know what this is supposed to be\n",
    "k=0.5\n",
    "tau=0.5\n",
    "shear = 0\n",
    "a = 5\n",
    "ep = OSProb(k,a,tau,gammaDot)\n",
    "rate, index, freq = ep.growth_rate(parameters={'k':k, 'tBar': tBar, 'a':a}, sparse=False)\n",
    "print(\"params=[k={},gDot={},a={}], fastest growing mode: {}-th mode, Re(sigma)={} @ freq {}\".format(k,tau*shear,a,index, rate, freq))"
   ]
  },
  {
   "cell_type": "code",
   "execution_count": 67,
   "id": "da5a5bdd",
   "metadata": {},
   "outputs": [
    {
     "name": "stdout",
     "output_type": "stream",
     "text": [
      "2022-10-23 20:52:17,017 problems 0/1 INFO :: Solving EVP with homogeneity tolerance of 1.000e-10\n",
      "2022-10-23 20:52:17,048 problems 0/1 INFO :: Solving EVP with homogeneity tolerance of 1.000e-10\n",
      "params=[k=0,gDot=0.0,a=3], fastest growing mode: 204-th mode, Re(sigma)=-1.5895683520867543 @ freq -5.81033561853383\n",
      "CPU times: user 5min 20s, sys: 493 ms, total: 5min 20s\n",
      "Wall time: 5min 20s\n"
     ]
    },
    {
     "name": "stderr",
     "output_type": "stream",
     "text": [
      "/gpfs/home/jchen343/miniforge3/envs/ded2/lib/python3.10/site-packages/eigentools/eigenproblem.py:703: RuntimeWarning: divide by zero encountered in divide\n",
      "  inverse_drift = 1/self.delta_near\n"
     ]
    }
   ],
   "source": [
    "%%time # this should be unstable\n",
    "k=0\n",
    "tau=0.5\n",
    "shear = 0\n",
    "a = 3\n",
    "ep = OSProb(k,a,tau,gammaDot)\n",
    "rate, index, freq = ep.growth_rate(parameters={'k':k, 'tBar': tBar, 'a':a}, sparse=False)\n",
    "print(\"params=[k={},gDot={},a={}], fastest growing mode: {}-th mode, Re(sigma)={} @ freq {}\".format(k,tau*shear,a,index, rate, freq))"
   ]
  },
  {
   "cell_type": "code",
   "execution_count": 68,
   "id": "87f80a8d",
   "metadata": {},
   "outputs": [
    {
     "name": "stdout",
     "output_type": "stream",
     "text": [
      "2022-10-23 20:57:37,666 problems 0/1 INFO :: Solving EVP with homogeneity tolerance of 1.000e-10\n",
      "2022-10-23 20:57:37,697 problems 0/1 INFO :: Solving EVP with homogeneity tolerance of 1.000e-10\n",
      "params=[k=0,gDot=1.4,a=5], fastest growing mode: 203-th mode, Re(sigma)=-0.3947841760436316 @ freq -3.31662479035547\n",
      "CPU times: user 5min 18s, sys: 493 ms, total: 5min 18s\n",
      "Wall time: 5min 18s\n"
     ]
    }
   ],
   "source": [
    "%%time #this should be stable\n",
    "k=0\n",
    "tau=1\n",
    "shear = 1.4\n",
    "a = 5\n",
    "ep = OSProb(k,a,tau,gammaDot)\n",
    "rate, index, freq = ep.growth_rate(parameters={'k':k, 'tBar': tBar, 'a':a}, sparse=False)\n",
    "print(\"params=[k={},gDot={},a={}], fastest growing mode: {}-th mode, Re(sigma)={} @ freq {}\".format(k,tau*shear,a,index, rate, freq))"
   ]
  },
  {
   "cell_type": "code",
   "execution_count": 78,
   "id": "959f6507",
   "metadata": {},
   "outputs": [
    {
     "name": "stdout",
     "output_type": "stream",
     "text": [
      "2022-10-23 23:43:46,946 problems 0/1 INFO :: Solving EVP with homogeneity tolerance of 1.000e-10\n",
      "2022-10-23 23:43:46,978 problems 0/1 INFO :: Solving EVP with homogeneity tolerance of 1.000e-10\n",
      "params=[k=0,gDot=0.0,a=3], fastest growing mode: 204-th mode, Re(sigma)=-1.5895683520867543 @ freq -5.81033561853383\n",
      "CPU times: user 5min 12s, sys: 444 ms, total: 5min 12s\n",
      "Wall time: 5min 12s\n"
     ]
    }
   ],
   "source": [
    "%%time \n",
    "#this should be unstable\n",
    "k=0\n",
    "tau=0.5\n",
    "shear = 0\n",
    "a = 3\n",
    "ep = OSProb(k,a,tau,gammaDot)\n",
    "rate, index, freq = ep.growth_rate(parameters={'k':k, 'tBar': tBar, 'a':a}, sparse=False)\n",
    "print(\"params=[k={},gDot={},a={}], fastest growing mode: {}-th mode, Re(sigma)={} @ freq {}\".format(k,tau*shear,a,index, rate, freq))"
   ]
  },
  {
   "cell_type": "code",
   "execution_count": 77,
   "id": "4d48e2d3",
   "metadata": {},
   "outputs": [
    {
     "name": "stdout",
     "output_type": "stream",
     "text": [
      "2022-10-23 23:38:32,786 problems 0/1 INFO :: Solving EVP with homogeneity tolerance of 1.000e-10\n",
      "2022-10-23 23:38:32,817 problems 0/1 INFO :: Solving EVP with homogeneity tolerance of 1.000e-10\n",
      "params=[k=0,gDot=0.0,a=1], fastest growing mode: 202-th mode, Re(sigma)=-2.0 @ freq -4.0\n",
      "CPU times: user 5min 14s, sys: 455 ms, total: 5min 14s\n",
      "Wall time: 5min 14s\n"
     ]
    }
   ],
   "source": [
    "%%time \n",
    "# this should be stable\n",
    "k=0\n",
    "tau=0.5\n",
    "shear = 0\n",
    "a = 1\n",
    "ep = OSProb(k,a,tau,gammaDot)\n",
    "rate, index, freq = ep.growth_rate(parameters={'k':k, 'tBar': tBar, 'a':a}, sparse=False)\n",
    "print(\"params=[k={},gDot={},a={}], fastest growing mode: {}-th mode, Re(sigma)={} @ freq {}\".format(k,tau*shear,a,index, rate, freq))"
   ]
  },
  {
   "cell_type": "code",
   "execution_count": 79,
   "id": "a233df8c",
   "metadata": {},
   "outputs": [
    {
     "name": "stdout",
     "output_type": "stream",
     "text": [
      "2022-10-23 23:49:41,769 problems 0/1 INFO :: Solving EVP with homogeneity tolerance of 1.000e-10\n",
      "2022-10-23 23:49:41,800 problems 0/1 INFO :: Solving EVP with homogeneity tolerance of 1.000e-10\n",
      "params=[k=0,gDot=0.0,a=5.6], fastest growing mode: 203-th mode, Re(sigma)=-0.5495683520878655 @ freq -6.842689529709654\n",
      "CPU times: user 5min 15s, sys: 441 ms, total: 5min 16s\n",
      "Wall time: 5min 16s\n"
     ]
    }
   ],
   "source": [
    "%%time \n",
    "#this should be unstable\n",
    "k=0\n",
    "tau=0.5\n",
    "shear = 0\n",
    "a = 5.6\n",
    "ep = OSProb(k,a,tau,gammaDot)\n",
    "rate, index, freq = ep.growth_rate(parameters={'k':k, 'tBar': tBar, 'a':a}, sparse=False)\n",
    "print(\"params=[k={},gDot={},a={}], fastest growing mode: {}-th mode, Re(sigma)={} @ freq {}\".format(k,tau*shear,a,index, rate, freq))"
   ]
  },
  {
   "cell_type": "code",
   "execution_count": 80,
   "id": "4beee206",
   "metadata": {},
   "outputs": [
    {
     "name": "stdout",
     "output_type": "stream",
     "text": [
      "2022-10-23 23:55:27,037 problems 0/1 INFO :: Solving EVP with homogeneity tolerance of 1.000e-10\n",
      "2022-10-23 23:55:27,071 problems 0/1 INFO :: Solving EVP with homogeneity tolerance of 1.000e-10\n",
      "params=[k=0,gDot=0.0,a=6.2], fastest growing mode: 204-th mode, Re(sigma)=-0.3095683520870714 @ freq -7.037726905756152\n",
      "CPU times: user 5min 18s, sys: 476 ms, total: 5min 19s\n",
      "Wall time: 5min 18s\n"
     ]
    }
   ],
   "source": [
    "%%time \n",
    "#this should be unstable\n",
    "k=0\n",
    "tau=0.5\n",
    "shear = 0\n",
    "a = 6.2\n",
    "ep = OSProb(k,a,tau,gammaDot)\n",
    "rate, index, freq = ep.growth_rate(parameters={'k':k, 'tBar': tBar, 'a':a}, sparse=False)\n",
    "print(\"params=[k={},gDot={},a={}], fastest growing mode: {}-th mode, Re(sigma)={} @ freq {}\".format(k,tau*shear,a,index, rate, freq))"
   ]
  },
  {
   "cell_type": "code",
   "execution_count": null,
   "id": "ad1d9eb8",
   "metadata": {},
   "outputs": [],
   "source": [
    "%%time \n",
    "#this should be unstable\n",
    "k=0\n",
    "tau=0.5\n",
    "shear = 0\n",
    "a =8\n",
    "ep = OSProb(k,a,tau,gammaDot)\n",
    "rate, index, freq = ep.growth_rate(parameters={'k':k, 'tBar': tBar, 'a':a}, sparse=False)\n",
    "print(\"params=[k={},gDot={},a={}], fastest growing mode: {}-th mode, Re(sigma)={} @ freq {}\".format(k,tau*shear,a,index, rate, freq))"
   ]
  }
 ],
 "metadata": {
  "kernelspec": {
   "display_name": "Python 3 (ipykernel)",
   "language": "python",
   "name": "python3"
  },
  "language_info": {
   "codemirror_mode": {
    "name": "ipython",
    "version": 3
   },
   "file_extension": ".py",
   "mimetype": "text/x-python",
   "name": "python",
   "nbconvert_exporter": "python",
   "pygments_lexer": "ipython3",
   "version": "3.10.6"
  }
 },
 "nbformat": 4,
 "nbformat_minor": 5
}
