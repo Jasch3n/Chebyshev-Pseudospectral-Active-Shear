{
 "cells": [
  {
   "cell_type": "code",
   "execution_count": 1,
   "id": "7118132f",
   "metadata": {},
   "outputs": [],
   "source": [
    "import numpy as np\n",
    "import matplotlib.pyplot as plt\n",
    "import dedalus.public as d3\n",
    "from dedalus.extras.plot_tools import plot_bot_2d\n",
    "from eigentools import Eigenproblem, CriticalFinder\n",
    "figkw = {'figsize':(6,4), 'dpi':100}"
   ]
  },
  {
   "cell_type": "code",
   "execution_count": 2,
   "id": "063ed5cb",
   "metadata": {},
   "outputs": [],
   "source": [
    "%matplotlib inline\n",
    "%config InlineBackend.figure_format = 'retina'"
   ]
  },
  {
   "cell_type": "code",
   "execution_count": 3,
   "id": "95c27216",
   "metadata": {},
   "outputs": [],
   "source": [
    "def orr_sommerfeld_problem(R):\n",
    "    # Basis\n",
    "    xbasis = d3.Chebyshev('x', 128, interval=(-1,1), dealias=2)\n",
    "    domain = d3.Domain([xbasis], grid_dtype=np.complex128)\n",
    "\n",
    "    # Problem\n",
    "    problem = d3.EVP(domain, ['u','u_x','u_xx','u_xxx'], eigenvalue='lamb')\n",
    "    problem.parameters['R'] = R\n",
    "    problem.add_equation(\"(1/R)*(dx(u_xxx) - 2*dx(u_x) + u) - 2j*u - 1j*(1-x**2)*(dx(u_x)-u) - lamb*(dx(u_x) - u) = 0\")\n",
    "    problem.add_equation(\"u_xxx - dx(u_xx) = 0\")\n",
    "    problem.add_equation(\"u_xx - dx(u_x) = 0\")\n",
    "    problem.add_equation(\"u_x-dx(u) = 0\")\n",
    "    problem.add_bc(\"left(u)=0\")\n",
    "    problem.add_bc(\"right(u)=0\")\n",
    "    problem.add_bc(\"left(u_x)=0\")\n",
    "    problem.add_bc(\"right(u_x)=0\")\n",
    "\n",
    "    return problem"
   ]
  },
  {
   "cell_type": "code",
   "execution_count": 10,
   "id": "865751c8",
   "metadata": {},
   "outputs": [
    {
     "name": "stdout",
     "output_type": "stream",
     "text": [
      "2022-10-18 16:59:07,497 problems 0/1 INFO :: Solving EVP with homogeneity tolerance of 1.000e-10\n",
      "2022-10-18 16:59:07,512 problems 0/1 INFO :: Solving EVP with homogeneity tolerance of 1.000e-10\n",
      "2022-10-18 16:59:22,136 problems 0/1 INFO :: Solving EVP with homogeneity tolerance of 1.000e-10\n",
      "2022-10-18 16:59:22,151 problems 0/1 INFO :: Solving EVP with homogeneity tolerance of 1.000e-10\n",
      "2022-10-18 16:59:36,213 problems 0/1 INFO :: Solving EVP with homogeneity tolerance of 1.000e-10\n",
      "2022-10-18 16:59:36,231 problems 0/1 INFO :: Solving EVP with homogeneity tolerance of 1.000e-10\n",
      "2022-10-18 16:59:50,206 problems 0/1 INFO :: Solving EVP with homogeneity tolerance of 1.000e-10\n",
      "2022-10-18 16:59:50,216 problems 0/1 INFO :: Solving EVP with homogeneity tolerance of 1.000e-10\n",
      "2022-10-18 17:00:03,944 problems 0/1 INFO :: Solving EVP with homogeneity tolerance of 1.000e-10\n",
      "2022-10-18 17:00:03,968 problems 0/1 INFO :: Solving EVP with homogeneity tolerance of 1.000e-10\n",
      "2022-10-18 17:00:18,451 problems 0/1 INFO :: Solving EVP with homogeneity tolerance of 1.000e-10\n",
      "2022-10-18 17:00:18,466 problems 0/1 INFO :: Solving EVP with homogeneity tolerance of 1.000e-10\n",
      "2022-10-18 17:00:32,124 problems 0/1 INFO :: Solving EVP with homogeneity tolerance of 1.000e-10\n",
      "2022-10-18 17:00:32,135 problems 0/1 INFO :: Solving EVP with homogeneity tolerance of 1.000e-10\n",
      "2022-10-18 17:00:45,990 problems 0/1 INFO :: Solving EVP with homogeneity tolerance of 1.000e-10\n",
      "2022-10-18 17:00:46,020 problems 0/1 INFO :: Solving EVP with homogeneity tolerance of 1.000e-10\n",
      "2022-10-18 17:00:59,275 problems 0/1 INFO :: Solving EVP with homogeneity tolerance of 1.000e-10\n",
      "2022-10-18 17:00:59,293 problems 0/1 INFO :: Solving EVP with homogeneity tolerance of 1.000e-10\n",
      "2022-10-18 17:01:13,388 problems 0/1 INFO :: Solving EVP with homogeneity tolerance of 1.000e-10\n",
      "2022-10-18 17:01:13,411 problems 0/1 INFO :: Solving EVP with homogeneity tolerance of 1.000e-10\n",
      "2022-10-18 17:01:27,709 problems 0/1 INFO :: Solving EVP with homogeneity tolerance of 1.000e-10\n",
      "2022-10-18 17:01:27,723 problems 0/1 INFO :: Solving EVP with homogeneity tolerance of 1.000e-10\n",
      "2022-10-18 17:01:41,782 problems 0/1 INFO :: Solving EVP with homogeneity tolerance of 1.000e-10\n",
      "2022-10-18 17:01:41,797 problems 0/1 INFO :: Solving EVP with homogeneity tolerance of 1.000e-10\n",
      "2022-10-18 17:01:55,173 problems 0/1 INFO :: Solving EVP with homogeneity tolerance of 1.000e-10\n",
      "2022-10-18 17:01:55,192 problems 0/1 INFO :: Solving EVP with homogeneity tolerance of 1.000e-10\n",
      "2022-10-18 17:02:08,181 problems 0/1 INFO :: Solving EVP with homogeneity tolerance of 1.000e-10\n",
      "2022-10-18 17:02:08,208 problems 0/1 INFO :: Solving EVP with homogeneity tolerance of 1.000e-10\n",
      "2022-10-18 17:02:21,125 problems 0/1 INFO :: Solving EVP with homogeneity tolerance of 1.000e-10\n",
      "2022-10-18 17:02:21,146 problems 0/1 INFO :: Solving EVP with homogeneity tolerance of 1.000e-10\n",
      "2022-10-18 17:02:33,599 problems 0/1 INFO :: Solving EVP with homogeneity tolerance of 1.000e-10\n",
      "2022-10-18 17:02:33,617 problems 0/1 INFO :: Solving EVP with homogeneity tolerance of 1.000e-10\n",
      "2022-10-18 17:02:47,291 problems 0/1 INFO :: Solving EVP with homogeneity tolerance of 1.000e-10\n",
      "2022-10-18 17:02:47,307 problems 0/1 INFO :: Solving EVP with homogeneity tolerance of 1.000e-10\n",
      "2022-10-18 17:03:03,762 problems 0/1 INFO :: Solving EVP with homogeneity tolerance of 1.000e-10\n",
      "2022-10-18 17:03:03,794 problems 0/1 INFO :: Solving EVP with homogeneity tolerance of 1.000e-10\n",
      "2022-10-18 17:03:18,471 problems 0/1 INFO :: Solving EVP with homogeneity tolerance of 1.000e-10\n",
      "2022-10-18 17:03:18,509 problems 0/1 INFO :: Solving EVP with homogeneity tolerance of 1.000e-10\n",
      "2022-10-18 17:03:32,866 problems 0/1 INFO :: Solving EVP with homogeneity tolerance of 1.000e-10\n",
      "2022-10-18 17:03:32,881 problems 0/1 INFO :: Solving EVP with homogeneity tolerance of 1.000e-10\n",
      "2022-10-18 17:03:47,534 problems 0/1 INFO :: Solving EVP with homogeneity tolerance of 1.000e-10\n",
      "2022-10-18 17:03:47,557 problems 0/1 INFO :: Solving EVP with homogeneity tolerance of 1.000e-10\n",
      "2022-10-18 17:04:01,976 problems 0/1 INFO :: Solving EVP with homogeneity tolerance of 1.000e-10\n",
      "2022-10-18 17:04:02,007 problems 0/1 INFO :: Solving EVP with homogeneity tolerance of 1.000e-10\n",
      "2022-10-18 17:04:16,965 problems 0/1 INFO :: Solving EVP with homogeneity tolerance of 1.000e-10\n",
      "2022-10-18 17:04:16,976 problems 0/1 INFO :: Solving EVP with homogeneity tolerance of 1.000e-10\n",
      "2022-10-18 17:04:30,624 problems 0/1 INFO :: Solving EVP with homogeneity tolerance of 1.000e-10\n",
      "2022-10-18 17:04:30,642 problems 0/1 INFO :: Solving EVP with homogeneity tolerance of 1.000e-10\n",
      "2022-10-18 17:04:43,669 problems 0/1 INFO :: Solving EVP with homogeneity tolerance of 1.000e-10\n",
      "2022-10-18 17:04:43,689 problems 0/1 INFO :: Solving EVP with homogeneity tolerance of 1.000e-10\n",
      "2022-10-18 17:04:56,284 problems 0/1 INFO :: Solving EVP with homogeneity tolerance of 1.000e-10\n",
      "2022-10-18 17:04:56,315 problems 0/1 INFO :: Solving EVP with homogeneity tolerance of 1.000e-10\n",
      "2022-10-18 17:05:12,444 problems 0/1 INFO :: Solving EVP with homogeneity tolerance of 1.000e-10\n",
      "2022-10-18 17:05:12,474 problems 0/1 INFO :: Solving EVP with homogeneity tolerance of 1.000e-10\n",
      "2022-10-18 17:05:25,105 problems 0/1 INFO :: Solving EVP with homogeneity tolerance of 1.000e-10\n",
      "2022-10-18 17:05:25,131 problems 0/1 INFO :: Solving EVP with homogeneity tolerance of 1.000e-10\n",
      "2022-10-18 17:05:36,621 problems 0/1 INFO :: Solving EVP with homogeneity tolerance of 1.000e-10\n",
      "2022-10-18 17:05:36,649 problems 0/1 INFO :: Solving EVP with homogeneity tolerance of 1.000e-10\n",
      "2022-10-18 17:05:48,224 problems 0/1 INFO :: Solving EVP with homogeneity tolerance of 1.000e-10\n",
      "2022-10-18 17:05:48,250 problems 0/1 INFO :: Solving EVP with homogeneity tolerance of 1.000e-10\n",
      "2022-10-18 17:05:59,896 problems 0/1 INFO :: Solving EVP with homogeneity tolerance of 1.000e-10\n",
      "2022-10-18 17:05:59,910 problems 0/1 INFO :: Solving EVP with homogeneity tolerance of 1.000e-10\n",
      "2022-10-18 17:06:11,979 problems 0/1 INFO :: Solving EVP with homogeneity tolerance of 1.000e-10\n",
      "2022-10-18 17:06:12,007 problems 0/1 INFO :: Solving EVP with homogeneity tolerance of 1.000e-10\n",
      "2022-10-18 17:06:23,382 problems 0/1 INFO :: Solving EVP with homogeneity tolerance of 1.000e-10\n",
      "2022-10-18 17:06:23,400 problems 0/1 INFO :: Solving EVP with homogeneity tolerance of 1.000e-10\n",
      "2022-10-18 17:06:34,866 problems 0/1 INFO :: Solving EVP with homogeneity tolerance of 1.000e-10\n",
      "2022-10-18 17:06:34,890 problems 0/1 INFO :: Solving EVP with homogeneity tolerance of 1.000e-10\n",
      "2022-10-18 17:06:46,395 problems 0/1 INFO :: Solving EVP with homogeneity tolerance of 1.000e-10\n",
      "2022-10-18 17:06:46,406 problems 0/1 INFO :: Solving EVP with homogeneity tolerance of 1.000e-10\n",
      "2022-10-18 17:06:57,469 problems 0/1 INFO :: Solving EVP with homogeneity tolerance of 1.000e-10\n",
      "2022-10-18 17:06:57,482 problems 0/1 INFO :: Solving EVP with homogeneity tolerance of 1.000e-10\n",
      "2022-10-18 17:07:09,461 problems 0/1 INFO :: Solving EVP with homogeneity tolerance of 1.000e-10\n",
      "2022-10-18 17:07:09,488 problems 0/1 INFO :: Solving EVP with homogeneity tolerance of 1.000e-10\n",
      "2022-10-18 17:07:21,041 problems 0/1 INFO :: Solving EVP with homogeneity tolerance of 1.000e-10\n",
      "2022-10-18 17:07:21,067 problems 0/1 INFO :: Solving EVP with homogeneity tolerance of 1.000e-10\n",
      "2022-10-18 17:07:31,943 problems 0/1 INFO :: Solving EVP with homogeneity tolerance of 1.000e-10\n",
      "2022-10-18 17:07:31,967 problems 0/1 INFO :: Solving EVP with homogeneity tolerance of 1.000e-10\n",
      "2022-10-18 17:07:43,429 problems 0/1 INFO :: Solving EVP with homogeneity tolerance of 1.000e-10\n",
      "2022-10-18 17:07:43,458 problems 0/1 INFO :: Solving EVP with homogeneity tolerance of 1.000e-10\n"
     ]
    }
   ],
   "source": [
    "eigvals = [None]*200\n",
    "i = 0\n",
    "for R in np.arange(5770,5774,0.1):\n",
    "    problem = orr_sommerfeld_problem(R)\n",
    "    EP = Eigenproblem(problem)\n",
    "    EP.solve(sparse=False)\n",
    "    eigvals[i] = EP.evalues\n",
    "    i = i+1"
   ]
  },
  {
   "cell_type": "markdown",
   "id": "b48657d9",
   "metadata": {},
   "source": [
    "# Potentially need to offset eigenvalues by the \"zero-point\" eigenvalue for validity"
   ]
  },
  {
   "cell_type": "code",
   "execution_count": 96,
   "id": "55c3f12d",
   "metadata": {
    "scrolled": false
   },
   "outputs": [
    {
     "data": {
      "text/plain": [
       "array([-4.05256182e-06, -3.86827675e-06, -3.68399911e-06, -3.49972887e-06,\n",
       "       -3.31546601e-06, -3.13121058e-06, -2.94696251e-06, -2.76272187e-06,\n",
       "       -2.57848863e-06, -2.39426278e-06, -2.21004434e-06, -2.02583329e-06,\n",
       "       -1.84162964e-06, -1.65743339e-06, -1.47324454e-06, -1.28906308e-06,\n",
       "       -1.10488903e-06, -9.20722370e-07, -7.36563099e-07, -5.52411229e-07,\n",
       "       -3.68266760e-07, -1.84129688e-07,  0.00000000e+00,  1.84122285e-07,\n",
       "        3.68237169e-07,  5.52344679e-07,  7.36444772e-07,  9.20537485e-07,\n",
       "        1.10462280e-06,  1.28870073e-06,  1.47277125e-06,  1.65683440e-06,\n",
       "        1.84089014e-06,  2.02493850e-06,  2.20897947e-06,  2.39301304e-06,\n",
       "        2.57703922e-06,  2.76105801e-06,  2.94506941e-06,  3.12907343e-06])"
      ]
     },
     "execution_count": 96,
     "metadata": {},
     "output_type": "execute_result"
    }
   ],
   "source": [
    "max_eigvals = list(filter(lambda x: x, [np.max(np.real(evs)) for evs in eigvals]))\n",
    "max_eigvals - np.max(max_eigvals[22])"
   ]
  },
  {
   "cell_type": "markdown",
   "id": "4128c53d",
   "metadata": {},
   "source": [
    "# Why does running the same code give two different answers?\n",
    "It seems like the \"number of problems\" is varying between these two code blocks -- what does that do? What determines these problem numbers?"
   ]
  },
  {
   "cell_type": "code",
   "execution_count": 106,
   "id": "1537d4f2",
   "metadata": {},
   "outputs": [
    {
     "name": "stdout",
     "output_type": "stream",
     "text": [
      "2022-10-18 18:23:14,834 problems 0/1 INFO :: Solving EVP with homogeneity tolerance of 1.000e-10\n",
      "2022-10-18 18:23:14,850 problems 0/1 INFO :: Solving EVP with homogeneity tolerance of 1.000e-10\n"
     ]
    },
    {
     "data": {
      "text/plain": [
       "-0.00017078022071437827"
      ]
     },
     "execution_count": 106,
     "metadata": {},
     "output_type": "execute_result"
    }
   ],
   "source": [
    "ep = Eigenproblem(orr_sommerfeld_problem(5722.22))\n",
    "ep.solve(sparse=False)\n",
    "np.max(np.real(ep.evalues))"
   ]
  },
  {
   "cell_type": "code",
   "execution_count": 112,
   "id": "0ba52899",
   "metadata": {},
   "outputs": [
    {
     "name": "stdout",
     "output_type": "stream",
     "text": [
      "2022-10-18 18:24:14,133 problems 0/1 INFO :: Solving EVP with homogeneity tolerance of 1.000e-10\n",
      "2022-10-18 18:24:14,147 problems 0/1 INFO :: Solving EVP with homogeneity tolerance of 1.000e-10\n"
     ]
    },
    {
     "data": {
      "text/plain": [
       "-7.778633855524981e-05"
      ]
     },
     "execution_count": 112,
     "metadata": {},
     "output_type": "execute_result"
    }
   ],
   "source": [
    "ep2__ = Eigenproblem(orr_sommerfeld_problem(5772.22))\n",
    "s = ep2__.solve(sparse=False)\n",
    "np.max(np.real(ep2__.evalues))"
   ]
  }
 ],
 "metadata": {
  "kernelspec": {
   "display_name": "Python 3 (ipykernel)",
   "language": "python",
   "name": "python3"
  },
  "language_info": {
   "codemirror_mode": {
    "name": "ipython",
    "version": 3
   },
   "file_extension": ".py",
   "mimetype": "text/x-python",
   "name": "python",
   "nbconvert_exporter": "python",
   "pygments_lexer": "ipython3",
   "version": "3.10.6"
  }
 },
 "nbformat": 4,
 "nbformat_minor": 5
}
