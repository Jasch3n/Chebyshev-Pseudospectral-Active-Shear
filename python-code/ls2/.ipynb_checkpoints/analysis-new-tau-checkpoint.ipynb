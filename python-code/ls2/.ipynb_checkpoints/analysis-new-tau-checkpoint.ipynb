{
 "cells": [
  {
   "cell_type": "code",
   "execution_count": 2,
   "id": "dc1c9b2c",
   "metadata": {},
   "outputs": [],
   "source": [
    "import numpy as np\n",
    "import matplotlib.pyplot as plt\n",
    "import matplotlib.lines as mlines\n",
    "import sys \n",
    "sys.path.append(\"../../core-scripts\")\n",
    "from linStabSpectrum import spectrum"
   ]
  },
  {
   "cell_type": "code",
   "execution_count": 3,
   "id": "f3c22313",
   "metadata": {},
   "outputs": [],
   "source": [
    "def max_re(zs):\n",
    "    acc = -float('inf')\n",
    "    for z in zs:\n",
    "        if z.real > acc:\n",
    "            acc = z\n",
    "    return acc\n",
    "\n",
    "def compute_sig_k(_a, _gds, n=20, k_left=0, k_right =20):\n",
    "    \"\"\" \n",
    "    Fixes a, compute sigma(gd, k) for all given shear rates in gds\n",
    "    \"\"\"\n",
    "    # the range of k [0,20] was determined by inspection\n",
    "    _tau = 1\n",
    "    ks = np.linspace(k_left,k_right,n)\n",
    "    max_real_evs = np.zeros((len(_gds),n),dtype=np.complex_)\n",
    "    for j in range(len(_gds)):\n",
    "        for i in range(len(ks)):\n",
    "            evs = spectrum(ks[i],_gds[j],_tau,_a,_ell_over_W_squared=0.01)\n",
    "            max_real_evs[j][i] = max_re(evs)\n",
    "    if plot:\n",
    "        plt.plot(ks, np.zeros(len(ks)), \"--\")\n",
    "    return max_real_evs"
   ]
  },
  {
   "cell_type": "code",
   "execution_count": null,
   "id": "a61062d6",
   "metadata": {},
   "outputs": [],
   "source": []
  }
 ],
 "metadata": {
  "kernelspec": {
   "display_name": "Python 3 (ipykernel)",
   "language": "python",
   "name": "python3"
  },
  "language_info": {
   "codemirror_mode": {
    "name": "ipython",
    "version": 3
   },
   "file_extension": ".py",
   "mimetype": "text/x-python",
   "name": "python",
   "nbconvert_exporter": "python",
   "pygments_lexer": "ipython3",
   "version": "3.9.13"
  }
 },
 "nbformat": 4,
 "nbformat_minor": 5
}
