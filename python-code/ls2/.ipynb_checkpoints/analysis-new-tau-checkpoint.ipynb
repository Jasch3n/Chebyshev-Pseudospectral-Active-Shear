{
 "cells": [
  {
   "cell_type": "code",
   "execution_count": 1,
   "id": "e084dd96",
   "metadata": {},
   "outputs": [],
   "source": [
    "import numpy as np\n",
    "import matplotlib.pyplot as plt\n",
    "import matplotlib.lines as mlines\n",
    "import sys \n",
    "sys.path.append(\"../../core-scripts\")\n",
    "from linStabSpectrum import spectrum"
   ]
  },
  {
   "cell_type": "code",
   "execution_count": 2,
   "id": "46f397b8",
   "metadata": {},
   "outputs": [],
   "source": [
    "def max_re(zs):\n",
    "    acc = -float('inf')\n",
    "    for z in zs:\n",
    "        if z.real > acc:\n",
    "            acc = z\n",
    "    return acc\n",
    "\n",
    "def compute_sig_k_new(_a, _gds, n=20, k_left=0, k_right =20):\n",
    "    \"\"\" \n",
    "    Fixes a, compute sigma(gd, k) for all given shear rates in gds\n",
    "    \"\"\"\n",
    "    # the range of k [0,20] was determined by inspection\n",
    "    _tau = 1\n",
    "    ks = np.linspace(k_left,k_right,n)\n",
    "    max_real_evs = np.zeros((len(_gds),n),dtype=np.complex_)\n",
    "    for j in range(len(_gds)):\n",
    "        for i in range(len(ks)):\n",
    "            evs = spectrum(ks[i],_gds[j],_tau,_a,_ell_over_W_squared=0.01)\n",
    "            max_real_evs[j][i] = max_re(evs)\n",
    "    return max_real_evs"
   ]
  },
  {
   "cell_type": "code",
   "execution_count": 4,
   "id": "699c179b",
   "metadata": {},
   "outputs": [
    {
     "name": "stdout",
     "output_type": "stream",
     "text": [
      "1/25 iterations completed\n",
      "2/25 iterations completed\n",
      "3/25 iterations completed\n",
      "4/25 iterations completed\n",
      "5/25 iterations completed\n",
      "6/25 iterations completed\n",
      "7/25 iterations completed\n",
      "8/25 iterations completed\n",
      "9/25 iterations completed\n",
      "10/25 iterations completed\n",
      "11/25 iterations completed\n",
      "12/25 iterations completed\n",
      "13/25 iterations completed\n",
      "14/25 iterations completed\n",
      "15/25 iterations completed\n",
      "16/25 iterations completed\n",
      "17/25 iterations completed\n",
      "18/25 iterations completed\n",
      "19/25 iterations completed\n",
      "20/25 iterations completed\n",
      "21/25 iterations completed\n",
      "22/25 iterations completed\n",
      "23/25 iterations completed\n",
      "24/25 iterations completed\n",
      "25/25 iterations completed\n"
     ]
    }
   ],
   "source": [
    "# zoom in on the extensile region to compare with Wan's code\n",
    "gdl, gdr, gdn = 0,1,11\n",
    "al, ar, an = 0,2.5,25\n",
    "_gds = np.linspace(gdl,gdr,gdn)\n",
    "_as = np.linspace(al,ar,an)\n",
    "for i in range(len(_as)):\n",
    "    evs_mat = compute_sig_k(_as[i],_gds)\n",
    "    print(\"{}/{} iterations completed\".format(i+1, len(_as)))\n",
    "    np.savetxt(\"data/k-scan-ext-zoom/a_{}\".format(i), evs_mat, delimiter=',')\n",
    "    # use np.loadtxt(\"data/k-scan-new/a_0\", dtype=np.complex_, delimiter=\",\") to load data in"
   ]
  },
  {
   "cell_type": "code",
   "execution_count": 4,
   "id": "4e74fb52",
   "metadata": {},
   "outputs": [
    {
     "ename": "NameError",
     "evalue": "name 'plot' is not defined",
     "output_type": "error",
     "traceback": [
      "\u001b[0;31m---------------------------------------------------------------------------\u001b[0m",
      "\u001b[0;31mNameError\u001b[0m                                 Traceback (most recent call last)",
      "Cell \u001b[0;32mIn [4], line 6\u001b[0m\n\u001b[1;32m      4\u001b[0m _as \u001b[38;5;241m=\u001b[39m np\u001b[38;5;241m.\u001b[39mlinspace(al,ar,an)\n\u001b[1;32m      5\u001b[0m \u001b[38;5;28;01mfor\u001b[39;00m i \u001b[38;5;129;01min\u001b[39;00m \u001b[38;5;28mrange\u001b[39m(\u001b[38;5;28mlen\u001b[39m(_as)):\n\u001b[0;32m----> 6\u001b[0m     evs_mat \u001b[38;5;241m=\u001b[39m \u001b[43mcompute_sig_k\u001b[49m\u001b[43m(\u001b[49m\u001b[43m_as\u001b[49m\u001b[43m[\u001b[49m\u001b[43mi\u001b[49m\u001b[43m]\u001b[49m\u001b[43m,\u001b[49m\u001b[43m_gds\u001b[49m\u001b[43m)\u001b[49m\n\u001b[1;32m      7\u001b[0m     \u001b[38;5;28mprint\u001b[39m(\u001b[38;5;124m\"\u001b[39m\u001b[38;5;132;01m{}\u001b[39;00m\u001b[38;5;124m/\u001b[39m\u001b[38;5;132;01m{}\u001b[39;00m\u001b[38;5;124m iterations completed\u001b[39m\u001b[38;5;124m\"\u001b[39m\u001b[38;5;241m.\u001b[39mformat(i\u001b[38;5;241m+\u001b[39m\u001b[38;5;241m1\u001b[39m, \u001b[38;5;28mlen\u001b[39m(_as)))\n\u001b[1;32m      8\u001b[0m     np\u001b[38;5;241m.\u001b[39msavetxt(\u001b[38;5;124m\"\u001b[39m\u001b[38;5;124mdata/k-scan-new/a_\u001b[39m\u001b[38;5;132;01m{}\u001b[39;00m\u001b[38;5;124m\"\u001b[39m\u001b[38;5;241m.\u001b[39mformat(i), evs_mat, delimiter\u001b[38;5;241m=\u001b[39m\u001b[38;5;124m'\u001b[39m\u001b[38;5;124m,\u001b[39m\u001b[38;5;124m'\u001b[39m)\n",
      "Cell \u001b[0;32mIn [2], line 20\u001b[0m, in \u001b[0;36mcompute_sig_k\u001b[0;34m(_a, _gds, n, k_left, k_right)\u001b[0m\n\u001b[1;32m     18\u001b[0m         evs \u001b[38;5;241m=\u001b[39m spectrum(ks[i],_gds[j],_tau,_a,_ell_over_W_squared\u001b[38;5;241m=\u001b[39m\u001b[38;5;241m0.01\u001b[39m)\n\u001b[1;32m     19\u001b[0m         max_real_evs[j][i] \u001b[38;5;241m=\u001b[39m max_re(evs)\n\u001b[0;32m---> 20\u001b[0m \u001b[38;5;28;01mif\u001b[39;00m \u001b[43mplot\u001b[49m:\n\u001b[1;32m     21\u001b[0m     plt\u001b[38;5;241m.\u001b[39mplot(ks, np\u001b[38;5;241m.\u001b[39mzeros(\u001b[38;5;28mlen\u001b[39m(ks)), \u001b[38;5;124m\"\u001b[39m\u001b[38;5;124m--\u001b[39m\u001b[38;5;124m\"\u001b[39m)\n\u001b[1;32m     22\u001b[0m \u001b[38;5;28;01mreturn\u001b[39;00m max_real_evs\n",
      "\u001b[0;31mNameError\u001b[0m: name 'plot' is not defined"
     ]
    }
   ],
   "source": [
    "gdl, gdr, gdn = 0,6.5,30\n",
    "al, ar, an = -15,20,60\n",
    "_gds = np.linspace(gdl,gdr,gdn)\n",
    "_as = np.linspace(al,ar,an)\n",
    "for i in range(len(_as)):\n",
    "    evs_mat = compute_sig_k_new(_as[i],_gds)\n",
    "    print(\"{}/{} iterations completed\".format(i+1, len(_as)))\n",
    "    np.savetxt(\"data/k-scan-new/a_{}\".format(i), evs_mat, delimiter=',')\n",
    "    # use np.loadtxt(\"data/k-scan/a_0\", dtype=np.complex_, delimiter=\",\") to load data in"
   ]
  },
  {
   "cell_type": "code",
   "execution_count": null,
   "id": "a803cccc",
   "metadata": {},
   "outputs": [],
   "source": []
  }
 ],
 "metadata": {
  "kernelspec": {
   "display_name": "Python 3 (ipykernel)",
   "language": "python",
   "name": "python3"
  },
  "language_info": {
   "codemirror_mode": {
    "name": "ipython",
    "version": 3
   },
   "file_extension": ".py",
   "mimetype": "text/x-python",
   "name": "python",
   "nbconvert_exporter": "python",
   "pygments_lexer": "ipython3",
   "version": "3.10.6"
  }
 },
 "nbformat": 4,
 "nbformat_minor": 5
}
