{
 "cells": [
  {
   "cell_type": "code",
   "execution_count": 1,
   "id": "1b3ed807",
   "metadata": {},
   "outputs": [],
   "source": [
    "%matplotlib inline"
   ]
  },
  {
   "cell_type": "code",
   "execution_count": 120,
   "id": "a540dbf6",
   "metadata": {},
   "outputs": [],
   "source": [
    "import matplotlib.pyplot as plt\n",
    "import matplotlib.lines as mlines\n",
    "from mpi4py import MPI\n",
    "from eigentools import Eigenproblem, CriticalFinder\n",
    "import dedalus.public as de\n",
    "import numpy as np\n",
    "import time"
   ]
  },
  {
   "cell_type": "code",
   "execution_count": 121,
   "id": "180cc982",
   "metadata": {},
   "outputs": [],
   "source": [
    "def fastest_rate(gd,tau,a):\n",
    "    # relevant parameters\n",
    "    _llambda = 1\n",
    "    # _l = 0.1\n",
    "    # _W = 1\n",
    "    _gd = gd\n",
    "    _tau = tau\n",
    "    # _k = 1\n",
    "    _eta = 1\n",
    "    _a = a\n",
    "\n",
    "    # _aux_const = _k*_k*_llambda / (1 + (_gd * _tau)**2)\n",
    "\n",
    "    # resolution\n",
    "    ny = 58\n",
    "\n",
    "    # define spectral representation of the solution\n",
    "    y = de.Chebyshev('y',ny,interval=[-1/2,1/2])\n",
    "    d = de.Domain([y], grid_dtype=np.complex128)\n",
    "\n",
    "    # initialize problem\n",
    "    evp = de.EVP(d, ['psi','psi1','psi2','psi3','Qxx','Qxx1','Qxy','Qxy1'],'sigma')\n",
    "\n",
    "    # define paramters \n",
    "    # evp.parameters['_llambda'] = _llambda\n",
    "    evp.parameters['_eta'] = _eta\n",
    "    evp.parameters['_gd'] = _gd\n",
    "    evp.parameters['_tau'] = _tau\n",
    "    evp.parameters['_eta'] = _eta\n",
    "    evp.parameters['_a'] = _a\n",
    "\n",
    "    # define equations\n",
    "    evp.add_equation(\"dy(psi3)/_tau - (_a*dy(Qxy1)) = 0\")\n",
    "    evp.add_equation(\"- _gd*_tau/(1+(_gd*_tau)**2)*psi2 - _gd*_tau*Qxy + (1 + sigma*_tau)*Qxx = 0\")\n",
    "    evp.add_equation(\"- 1/(1+(_gd*_tau)**2)*psi2 + _gd*_tau*Qxx + (1 + sigma*_tau)*Qxy= 0\")\n",
    "    evp.add_equation(\"dy(psi2) - psi3 = 0\")\n",
    "    evp.add_equation(\"dy(psi1) - psi2 = 0\")\n",
    "    evp.add_equation(\"dy(psi) - psi1 = 0\")\n",
    "    evp.add_equation(\"dy(Qxx) - Qxx1 = 0\")\n",
    "    evp.add_equation(\"dy(Qxy) - Qxy1 = 0\")\n",
    "\n",
    "    # impose boundary conditions\n",
    "    evp.add_bc('left(psi) = 0')\n",
    "    evp.add_bc('right(psi) = 0')\n",
    "    evp.add_bc('left(psi1) = 0')\n",
    "    evp.add_bc('right(psi1) = 0')\n",
    "    evp.add_bc('left(Qxx) = 0')\n",
    "    # evp.add_bc('right(Qxx) = 0')\n",
    "    evp.add_bc('left(Qxy) = 0')\n",
    "    # evp.add_bc('right(Qxy) = 0')\n",
    "\n",
    "    # create eigenproblem object\n",
    "    f_func = lambda z: z.imag\n",
    "    g_func = lambda z: z.real\n",
    "    EP = Eigenproblem(evp, grow_func=g_func, freq_func=f_func)\n",
    "\n",
    "    rate, indx, freq = EP.growth_rate(sparse=False)\n",
    "    print(\"fastest growing mode: {} @ freq {}\".format(rate, freq))\n",
    "    return rate"
   ]
  },
  {
   "cell_type": "code",
   "execution_count": 122,
   "id": "011d6cb5",
   "metadata": {},
   "outputs": [],
   "source": [
    "def max_ev_gd_a_grid(_gds,_as,_tau):\n",
    "\tgdv, av = np.meshgrid(_gds,_as)\n",
    "\n",
    "\t# N - number of rows (ny), M - number of columns (nx)\n",
    "\tN, M = len(_as), len(_gds)\n",
    "\n",
    "\tevv = np.zeros([N, M])\n",
    "\n",
    "\tfor i in range(N):\n",
    "\t\tfor j in range(M):\n",
    "\t\t\tgd = gdv[i][j]\n",
    "\t\t\ta = av[i][j]\n",
    "\t\t\tevv[i][j] = fastest_rate(gd, _tau, a)\n",
    "\treturn evv"
   ]
  },
  {
   "cell_type": "code",
   "execution_count": null,
   "id": "0ad5d8ba",
   "metadata": {},
   "outputs": [],
   "source": [
    "def graph_spectra_gd_a_grid(gd_specs, a_specs, _tau):\n",
    "    gdl,gdr,ngd = gd_specs[0],gd_specs[1],gd_specs[2]\n",
    "    al,ar,na = a_specs[0], a_specs[1], a_specs[2]\n",
    "    _gds = np.linspace(gdl,gdr,ngd)\n",
    "    _as = np.linspace(al,ar,na)\n",
    "    gdv, av = np.meshgrid(_gds, _as)\n",
    "    \n",
    "    mat = np.zeros([na,ngd])\n",
    "    mat = max_ev_gd_a_grid(_gds,_as,_tau)\n",
    "    for i in range(na):\n",
    "        for j in range(ngd):\n",
    "            c = \"red\" if mat[i][j] > 0 else \"blue\"\n",
    "            plt.plot(gdv[i][j],av[i][j],\".\",color=c, picker=True)\n",
    "    plt.xlabel(\"$\\dot\\gamma$\")\n",
    "    plt.ylabel(\"$a$\")\n",
    "    blue_dot = mlines.Line2D([], [], color='blue', marker='.', linestyle='None',\n",
    "                          markersize=10, label='stable')\n",
    "    red_dot = mlines.Line2D([], [], color='red', marker='.', linestyle='None',\n",
    "                          markersize=10, label='unstable')\n",
    "    plt.legend(handles=[blue_dot, red_dot])\n",
    "    plt.title(\"Stability Plot in the $\\dot\\gamma$-$a$ plane, $k$={}\".format(_k))\n",
    "    plt.show()"
   ]
  },
  {
   "cell_type": "code",
   "execution_count": null,
   "id": "d0ca5383",
   "metadata": {},
   "outputs": [],
   "source": [
    "tau = 1\n",
    "gdl, gdr, ngd = 0,6.5,25\n",
    "al, ar, na = -15,20,30\n",
    "\n",
    "graph_spectra_gd_a_grid([gdl,gdr,ngd], [al,ar,na], tau)"
   ]
  },
  {
   "cell_type": "code",
   "execution_count": null,
   "id": "9b326de8",
   "metadata": {},
   "outputs": [],
   "source": []
  }
 ],
 "metadata": {
  "kernelspec": {
   "display_name": "Python 3 (ipykernel)",
   "language": "python",
   "name": "python3"
  },
  "language_info": {
   "codemirror_mode": {
    "name": "ipython",
    "version": 3
   },
   "file_extension": ".py",
   "mimetype": "text/x-python",
   "name": "python",
   "nbconvert_exporter": "python",
   "pygments_lexer": "ipython3",
   "version": "3.11.0"
  }
 },
 "nbformat": 4,
 "nbformat_minor": 5
}
