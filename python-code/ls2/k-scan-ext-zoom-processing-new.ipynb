{
 "cells": [
  {
   "cell_type": "code",
   "execution_count": 3,
   "id": "fb63fc67",
   "metadata": {},
   "outputs": [],
   "source": [
    "from os import listdir \n",
    "import numpy as np \n",
    "import matplotlib.pyplot as plt\n",
    "import matplotlib.lines as mlines"
   ]
  },
  {
   "cell_type": "code",
   "execution_count": 6,
   "id": "e571c880",
   "metadata": {},
   "outputs": [
    {
     "name": "stdout",
     "output_type": "stream",
     "text": [
      "[]\n"
     ]
    },
    {
     "ename": "IndexError",
     "evalue": "list index out of range",
     "output_type": "error",
     "traceback": [
      "\u001b[0;31m---------------------------------------------------------------------------\u001b[0m",
      "\u001b[0;31mIndexError\u001b[0m                                Traceback (most recent call last)",
      "\u001b[0;32m/tmp/ipykernel_498/2043693216.py\u001b[0m in \u001b[0;36m<module>\u001b[0;34m\u001b[0m\n\u001b[1;32m      3\u001b[0m \u001b[0mk_scan_data\u001b[0m \u001b[0;34m=\u001b[0m \u001b[0;34m[\u001b[0m\u001b[0mname\u001b[0m \u001b[0;32mfor\u001b[0m \u001b[0mname\u001b[0m \u001b[0;32min\u001b[0m \u001b[0mlistdir\u001b[0m\u001b[0;34m(\u001b[0m\u001b[0mroot_dir\u001b[0m\u001b[0;34m)\u001b[0m \u001b[0;32mif\u001b[0m \u001b[0;32mnot\u001b[0m \u001b[0mname\u001b[0m\u001b[0;34m==\u001b[0m\u001b[0;34m\"README.txt\"\u001b[0m\u001b[0;34m]\u001b[0m\u001b[0;34m\u001b[0m\u001b[0;34m\u001b[0m\u001b[0m\n\u001b[1;32m      4\u001b[0m \u001b[0mprint\u001b[0m\u001b[0;34m(\u001b[0m\u001b[0mk_scan_data\u001b[0m\u001b[0;34m)\u001b[0m\u001b[0;34m\u001b[0m\u001b[0;34m\u001b[0m\u001b[0m\n\u001b[0;32m----> 5\u001b[0;31m \u001b[0msample_data\u001b[0m \u001b[0;34m=\u001b[0m \u001b[0mnp\u001b[0m\u001b[0;34m.\u001b[0m\u001b[0mloadtxt\u001b[0m\u001b[0;34m(\u001b[0m\u001b[0mroot_dir\u001b[0m\u001b[0;34m+\u001b[0m\u001b[0mk_scan_data\u001b[0m\u001b[0;34m[\u001b[0m\u001b[0;36m0\u001b[0m\u001b[0;34m]\u001b[0m\u001b[0;34m,\u001b[0m\u001b[0mdelimiter\u001b[0m\u001b[0;34m=\u001b[0m\u001b[0;34m','\u001b[0m\u001b[0;34m,\u001b[0m\u001b[0mdtype\u001b[0m\u001b[0;34m=\u001b[0m\u001b[0mnp\u001b[0m\u001b[0;34m.\u001b[0m\u001b[0mcomplex128\u001b[0m\u001b[0;34m)\u001b[0m\u001b[0;34m\u001b[0m\u001b[0;34m\u001b[0m\u001b[0m\n\u001b[0m\u001b[1;32m      6\u001b[0m \u001b[0;31m# load them into np array of appropriate shapes\u001b[0m\u001b[0;34m\u001b[0m\u001b[0;34m\u001b[0m\u001b[0m\n\u001b[1;32m      7\u001b[0m \u001b[0mng\u001b[0m\u001b[0;34m,\u001b[0m \u001b[0mnk\u001b[0m \u001b[0;34m=\u001b[0m \u001b[0msample_data\u001b[0m\u001b[0;34m.\u001b[0m\u001b[0mshape\u001b[0m\u001b[0;34m\u001b[0m\u001b[0;34m\u001b[0m\u001b[0m\n",
      "\u001b[0;31mIndexError\u001b[0m: list index out of range"
     ]
    }
   ],
   "source": [
    "root_dir = \"data/k-scan-ext-zoom-new/\"\n",
    "# read all data filenames from the root_dir\n",
    "k_scan_data = [name for name in listdir(root_dir) if not name==\"README.txt\"]\n",
    "print(k_scan_data)\n",
    "sample_data = np.loadtxt(root_dir+k_scan_data[0],delimiter=',',dtype=np.complex128)\n",
    "# load them into np array of appropriate shapes\n",
    "ng, nk = sample_data.shape\n",
    "na = len(k_scan_data)\n",
    "data = np.zeros((na, ng, nk), dtype=np.complex128)\n",
    "for i in range(len(k_scan_data)):\n",
    "    filename = k_scan_data[i]\n",
    "    a_ind = int(filename.split(\"_\")[1])\n",
    "    data[a_ind] = np.loadtxt(root_dir + filename, delimiter=',', dtype=np.complex_)"
   ]
  },
  {
   "cell_type": "code",
   "execution_count": 5,
   "id": "8006d0bc",
   "metadata": {},
   "outputs": [
    {
     "ename": "NameError",
     "evalue": "name 'na' is not defined",
     "output_type": "error",
     "traceback": [
      "\u001b[0;31m---------------------------------------------------------------------------\u001b[0m",
      "\u001b[0;31mNameError\u001b[0m                                 Traceback (most recent call last)",
      "\u001b[0;32m/tmp/ipykernel_498/3843603928.py\u001b[0m in \u001b[0;36m<module>\u001b[0;34m\u001b[0m\n\u001b[1;32m     25\u001b[0m     \u001b[0;32mreturn\u001b[0m \u001b[0macc\u001b[0m\u001b[0;34m,\u001b[0m\u001b[0mindex\u001b[0m\u001b[0;34m\u001b[0m\u001b[0;34m\u001b[0m\u001b[0m\n\u001b[1;32m     26\u001b[0m \u001b[0;34m\u001b[0m\u001b[0m\n\u001b[0;32m---> 27\u001b[0;31m \u001b[0;32mfor\u001b[0m \u001b[0mi\u001b[0m \u001b[0;32min\u001b[0m \u001b[0mrange\u001b[0m\u001b[0;34m(\u001b[0m\u001b[0mna\u001b[0m\u001b[0;34m)\u001b[0m\u001b[0;34m:\u001b[0m\u001b[0;34m\u001b[0m\u001b[0;34m\u001b[0m\u001b[0m\n\u001b[0m\u001b[1;32m     28\u001b[0m     \u001b[0;32mfor\u001b[0m \u001b[0mj\u001b[0m \u001b[0;32min\u001b[0m \u001b[0mrange\u001b[0m\u001b[0;34m(\u001b[0m\u001b[0mng\u001b[0m\u001b[0;34m)\u001b[0m\u001b[0;34m:\u001b[0m\u001b[0;34m\u001b[0m\u001b[0;34m\u001b[0m\u001b[0m\n\u001b[1;32m     29\u001b[0m         \u001b[0mmax_real_z\u001b[0m\u001b[0;34m,\u001b[0m \u001b[0mind\u001b[0m \u001b[0;34m=\u001b[0m \u001b[0mmax_re_mod\u001b[0m\u001b[0;34m(\u001b[0m\u001b[0mdata\u001b[0m\u001b[0;34m[\u001b[0m\u001b[0mi\u001b[0m\u001b[0;34m]\u001b[0m\u001b[0;34m[\u001b[0m\u001b[0mj\u001b[0m\u001b[0;34m]\u001b[0m\u001b[0;34m)\u001b[0m\u001b[0;34m\u001b[0m\u001b[0;34m\u001b[0m\u001b[0m\n",
      "\u001b[0;31mNameError\u001b[0m: name 'na' is not defined"
     ]
    }
   ],
   "source": [
    "\"\"\"\n",
    "==== THESE WERE THE NUMBERS USED TO GENERATE THIS DATA ====\n",
    "gdl, gdr, gdn = 0,1,11\n",
    "al, ar, an = 0,2.5,25\n",
    "_gds = np.linspace(gdl,gdr,gdn)\n",
    "_as = np.linspace(al,ar,an)\n",
    "\"\"\"\n",
    "\n",
    "gdl, gdr, gdn = 0,1,11\n",
    "al, ar, an = 0,2.5,25\n",
    "_gds = np.linspace(gdl,gdr,gdn)\n",
    "_as = np.linspace(al,ar,an)\n",
    "\n",
    "def max_re_mod(zs):\n",
    "    if zs[0].real > 0:\n",
    "        return zs[0], 0\n",
    "    \n",
    "    acc = -float('inf')\n",
    "    index = -1\n",
    "    for  i in range(len(zs)):\n",
    "        z = zs[i]\n",
    "        if z.real > acc.real:\n",
    "            acc = z\n",
    "            index = i\n",
    "    return acc,index\n",
    "\n",
    "for i in range(na):\n",
    "    for j in range(ng):\n",
    "        max_real_z, ind = max_re_mod(data[i][j])\n",
    "        c = (\"red\" if ind==0 else \"orange\") if max_real_z.real > 0 else \"blue\"\n",
    "        plt.plot(_gds[j],_as[i],\".\",color=c, picker=True, alpha=1)\n",
    "blue_dot = mlines.Line2D([], [], color='blue', marker='.', linestyle='None',\n",
    "                      markersize=10, label='stable')\n",
    "red_dot = mlines.Line2D([], [], color='red', marker='.', linestyle='None',\n",
    "                      markersize=10, label='unstable at $k=0$')\n",
    "orange_dot = mlines.Line2D([], [], color='orange', marker='.', linestyle='None',\n",
    "                      markersize=10, label='destabilized by $k$')\n",
    "plt.legend(handles=[blue_dot, red_dot, orange_dot], loc=\"lower right\")\n",
    "plt.xlabel(\"$\\dot\\gamma$\")\n",
    "plt.ylabel(\"$a$\")\n",
    "plt.title(\"Destablizing Effect of $k$\")"
   ]
  },
  {
   "cell_type": "code",
   "execution_count": null,
   "id": "ceb35cd8",
   "metadata": {},
   "outputs": [],
   "source": []
  }
 ],
 "metadata": {
  "kernelspec": {
   "display_name": "Python 3 (ipykernel)",
   "language": "python",
   "name": "python3"
  },
  "language_info": {
   "codemirror_mode": {
    "name": "ipython",
    "version": 3
   },
   "file_extension": ".py",
   "mimetype": "text/x-python",
   "name": "python",
   "nbconvert_exporter": "python",
   "pygments_lexer": "ipython3",
   "version": "3.9.13"
  }
 },
 "nbformat": 4,
 "nbformat_minor": 5
}
