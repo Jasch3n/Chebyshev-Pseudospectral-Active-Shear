{
 "cells": [
  {
   "cell_type": "code",
   "execution_count": 1,
   "id": "1b3ed807",
   "metadata": {},
   "outputs": [],
   "source": [
    "%matplotlib inline"
   ]
  },
  {
   "cell_type": "code",
   "execution_count": 2,
   "id": "a540dbf6",
   "metadata": {},
   "outputs": [],
   "source": [
    "import matplotlib.pyplot as plt\n",
    "from mpi4py import MPI\n",
    "from eigentools import Eigenproblem, CriticalFinder\n",
    "import dedalus.public as de\n",
    "import numpy as np\n",
    "import time"
   ]
  },
  {
   "cell_type": "code",
   "execution_count": 10,
   "id": "180cc982",
   "metadata": {},
   "outputs": [],
   "source": [
    "# relevant parameters\n",
    "_llambda = 1\n",
    "_l = 0.1\n",
    "_W = 1\n",
    "_gd = 1\n",
    "_tau = 1\n",
    "_k = 1\n",
    "_eta = 1\n",
    "_a = 0.1\n",
    "\n",
    "_aux_const = _k*_k*_llambda / (1 + (_gd * _tau)**2)"
   ]
  },
  {
   "cell_type": "code",
   "execution_count": 12,
   "id": "011d6cb5",
   "metadata": {},
   "outputs": [
    {
     "name": "stdout",
     "output_type": "stream",
     "text": [
      "2022-12-11 23:55:54,355 problems 0/1 INFO :: Solving EVP with homogeneity tolerance of 1.000e-10\n"
     ]
    },
    {
     "ename": "NonlinearOperatorError",
     "evalue": "Cannot add dependent and independent terms.",
     "output_type": "error",
     "traceback": [
      "\u001b[0;31m---------------------------------------------------------------------------\u001b[0m",
      "\u001b[0;31mNonlinearOperatorError\u001b[0m                    Traceback (most recent call last)",
      "Cell \u001b[0;32mIn[12], line 25\u001b[0m\n\u001b[1;32m     23\u001b[0m \u001b[38;5;66;03m# define equations\u001b[39;00m\n\u001b[1;32m     24\u001b[0m evp\u001b[38;5;241m.\u001b[39madd_equation(\u001b[38;5;124m\"\u001b[39m\u001b[38;5;124m1/_tau * (_k**4 * psi - 2*(_k**2)*psi2 + dy(psi3)) + 2j*_a*_k*Qxx/_eta - (_a*_k*_k*Qxy + _a*dy(Qxy1)) = 0 \u001b[39m\u001b[38;5;124m\"\u001b[39m)\n\u001b[0;32m---> 25\u001b[0m \u001b[43mevp\u001b[49m\u001b[38;5;241;43m.\u001b[39;49m\u001b[43madd_equation\u001b[49m\u001b[43m(\u001b[49m\u001b[38;5;124;43m\"\u001b[39;49m\u001b[38;5;124;43m_aux_const*_gd*_tau*psi - 2j*_k*_llambda*psi1 - _gd*_llambda*_tau/(1+(_gd*_tau)**2)*psi2\u001b[39;49m\u001b[38;5;124;43m\"\u001b[39;49m\u001b[43m\\\u001b[49m\n\u001b[1;32m     26\u001b[0m \u001b[43m                \u001b[49m\u001b[38;5;124;43m\"\u001b[39;49m\u001b[38;5;124;43m+ (1 + (_l*_k)**2)/(_W**2) + 1j*_k*y*_gd*_tau*Qxx - (_l**2/_W**2)*dy(Qxx1)\u001b[39;49m\u001b[38;5;124;43m\"\u001b[39;49m\u001b[43m\\\u001b[49m\n\u001b[1;32m     27\u001b[0m \u001b[43m                \u001b[49m\u001b[38;5;124;43m\"\u001b[39;49m\u001b[38;5;124;43m-_gd*_tau*Qxy + sigma*_tau*Qxy = 0\u001b[39;49m\u001b[38;5;124;43m\"\u001b[39;49m\u001b[43m)\u001b[49m\n\u001b[1;32m     28\u001b[0m evp\u001b[38;5;241m.\u001b[39madd_equation(\u001b[38;5;124m\"\u001b[39m\u001b[38;5;124m_aux_const*(1+2*(_gd*_tau)**2)*psi - _llambda/(1+(_gd+_tau)**2)*psi2\u001b[39m\u001b[38;5;124m\"\u001b[39m\\\n\u001b[1;32m     29\u001b[0m                  \u001b[38;5;124m\"\u001b[39m\u001b[38;5;124m+ _gd*_tau*Qxx\u001b[39m\u001b[38;5;124m\"\u001b[39m\\\n\u001b[1;32m     30\u001b[0m                  \u001b[38;5;124m\"\u001b[39m\u001b[38;5;124m+ (1 + (_l**2 * _k**2)/_W**2 + 1j*_k*y*_gd*_tau - (_l**2/_W**2)*dy(Qxy1))\u001b[39m\u001b[38;5;124m\"\u001b[39m\\\n\u001b[1;32m     31\u001b[0m                 \u001b[38;5;124m\"\u001b[39m\u001b[38;5;124m- (_l**2/_W**2)*dy(Qxy1) + sigma*_tau*Qxy= 0\u001b[39m\u001b[38;5;124m\"\u001b[39m)\n\u001b[1;32m     32\u001b[0m evp\u001b[38;5;241m.\u001b[39madd_equation(\u001b[38;5;124m\"\u001b[39m\u001b[38;5;124mdy(psi2) - Psi3 = 0\u001b[39m\u001b[38;5;124m\"\u001b[39m)\n",
      "File \u001b[0;32m~/anaconda3/envs/dedalus2/lib/python3.11/site-packages/dedalus/core/problems.py:142\u001b[0m, in \u001b[0;36mProblemBase.add_equation\u001b[0;34m(self, equation, condition, tau)\u001b[0m\n\u001b[1;32m    140\u001b[0m \u001b[38;5;28mself\u001b[39m\u001b[38;5;241m.\u001b[39m_build_object_forms(temp)\n\u001b[1;32m    141\u001b[0m \u001b[38;5;28mself\u001b[39m\u001b[38;5;241m.\u001b[39m_check_eqn_conditions(temp)\n\u001b[0;32m--> 142\u001b[0m \u001b[38;5;28;43mself\u001b[39;49m\u001b[38;5;241;43m.\u001b[39;49m\u001b[43m_set_matrix_expressions\u001b[49m\u001b[43m(\u001b[49m\u001b[43mtemp\u001b[49m\u001b[43m)\u001b[49m\n\u001b[1;32m    143\u001b[0m \u001b[38;5;28mself\u001b[39m\u001b[38;5;241m.\u001b[39meqs\u001b[38;5;241m.\u001b[39mappend(temp)\n",
      "File \u001b[0;32m~/anaconda3/envs/dedalus2/lib/python3.11/site-packages/dedalus/core/problems.py:574\u001b[0m, in \u001b[0;36mEigenvalueProblem._set_matrix_expressions\u001b[0;34m(self, temp)\u001b[0m\n\u001b[1;32m    572\u001b[0m \u001b[38;5;28mvars\u001b[39m \u001b[38;5;241m=\u001b[39m [\u001b[38;5;28mself\u001b[39m\u001b[38;5;241m.\u001b[39mnamespace[var] \u001b[38;5;28;01mfor\u001b[39;00m var \u001b[38;5;129;01min\u001b[39;00m \u001b[38;5;28mself\u001b[39m\u001b[38;5;241m.\u001b[39mvariables]\n\u001b[1;32m    573\u001b[0m temp[\u001b[38;5;124m'\u001b[39m\u001b[38;5;124mM\u001b[39m\u001b[38;5;124m'\u001b[39m] \u001b[38;5;241m=\u001b[39m \u001b[38;5;28mself\u001b[39m\u001b[38;5;241m.\u001b[39m_prep_linear_form(M, \u001b[38;5;28mvars\u001b[39m, name\u001b[38;5;241m=\u001b[39m\u001b[38;5;124m'\u001b[39m\u001b[38;5;124mM\u001b[39m\u001b[38;5;124m'\u001b[39m)\n\u001b[0;32m--> 574\u001b[0m temp[\u001b[38;5;124m'\u001b[39m\u001b[38;5;124mL\u001b[39m\u001b[38;5;124m'\u001b[39m] \u001b[38;5;241m=\u001b[39m \u001b[38;5;28;43mself\u001b[39;49m\u001b[38;5;241;43m.\u001b[39;49m\u001b[43m_prep_linear_form\u001b[49m\u001b[43m(\u001b[49m\u001b[43mL\u001b[49m\u001b[43m,\u001b[49m\u001b[43m \u001b[49m\u001b[38;5;28;43mvars\u001b[39;49m\u001b[43m,\u001b[49m\u001b[43m \u001b[49m\u001b[43mname\u001b[49m\u001b[38;5;241;43m=\u001b[39;49m\u001b[38;5;124;43m'\u001b[39;49m\u001b[38;5;124;43mL\u001b[39;49m\u001b[38;5;124;43m'\u001b[39;49m\u001b[43m)\u001b[49m\n",
      "File \u001b[0;32m~/anaconda3/envs/dedalus2/lib/python3.11/site-packages/dedalus/core/problems.py:325\u001b[0m, in \u001b[0;36mProblemBase._prep_linear_form\u001b[0;34m(self, expr, vars, name)\u001b[0m\n\u001b[1;32m    323\u001b[0m expr \u001b[38;5;241m=\u001b[39m Operand\u001b[38;5;241m.\u001b[39mcast(expr)\n\u001b[1;32m    324\u001b[0m expr \u001b[38;5;241m=\u001b[39m expr\u001b[38;5;241m.\u001b[39mexpand(\u001b[38;5;241m*\u001b[39m\u001b[38;5;28mvars\u001b[39m)\n\u001b[0;32m--> 325\u001b[0m expr \u001b[38;5;241m=\u001b[39m \u001b[43mexpr\u001b[49m\u001b[38;5;241;43m.\u001b[39;49m\u001b[43mcanonical_linear_form\u001b[49m\u001b[43m(\u001b[49m\u001b[38;5;241;43m*\u001b[39;49m\u001b[38;5;28;43mvars\u001b[39;49m\u001b[43m)\u001b[49m\n\u001b[1;32m    326\u001b[0m logger\u001b[38;5;241m.\u001b[39mdebug(\u001b[38;5;124m'\u001b[39m\u001b[38;5;124m  \u001b[39m\u001b[38;5;132;01m{}\u001b[39;00m\u001b[38;5;124m linear form: \u001b[39m\u001b[38;5;132;01m{}\u001b[39;00m\u001b[38;5;124m'\u001b[39m\u001b[38;5;241m.\u001b[39mformat(name, \u001b[38;5;28mstr\u001b[39m(expr)))\n\u001b[1;32m    327\u001b[0m \u001b[38;5;28;01mreturn\u001b[39;00m (expr, \u001b[38;5;28mvars\u001b[39m)\n",
      "File \u001b[0;32m~/anaconda3/envs/dedalus2/lib/python3.11/site-packages/dedalus/core/operators.py:430\u001b[0m, in \u001b[0;36mAdd.canonical_linear_form\u001b[0;34m(self, *vars)\u001b[0m\n\u001b[1;32m    428\u001b[0m arg0, arg1 \u001b[38;5;241m=\u001b[39m \u001b[38;5;28mself\u001b[39m\u001b[38;5;241m.\u001b[39margs\n\u001b[1;32m    429\u001b[0m \u001b[38;5;28;01mif\u001b[39;00m arg0\u001b[38;5;241m.\u001b[39mhas(\u001b[38;5;241m*\u001b[39m\u001b[38;5;28mvars\u001b[39m) \u001b[38;5;129;01mand\u001b[39;00m arg1\u001b[38;5;241m.\u001b[39mhas(\u001b[38;5;241m*\u001b[39m\u001b[38;5;28mvars\u001b[39m):\n\u001b[0;32m--> 430\u001b[0m     arg0 \u001b[38;5;241m=\u001b[39m \u001b[43marg0\u001b[49m\u001b[38;5;241;43m.\u001b[39;49m\u001b[43mcanonical_linear_form\u001b[49m\u001b[43m(\u001b[49m\u001b[38;5;241;43m*\u001b[39;49m\u001b[38;5;28;43mvars\u001b[39;49m\u001b[43m)\u001b[49m\n\u001b[1;32m    431\u001b[0m     arg1 \u001b[38;5;241m=\u001b[39m arg1\u001b[38;5;241m.\u001b[39mcanonical_linear_form(\u001b[38;5;241m*\u001b[39m\u001b[38;5;28mvars\u001b[39m)\n\u001b[1;32m    432\u001b[0m     \u001b[38;5;28;01mreturn\u001b[39;00m arg0 \u001b[38;5;241m+\u001b[39m arg1\n",
      "File \u001b[0;32m~/anaconda3/envs/dedalus2/lib/python3.11/site-packages/dedalus/core/operators.py:430\u001b[0m, in \u001b[0;36mAdd.canonical_linear_form\u001b[0;34m(self, *vars)\u001b[0m\n\u001b[1;32m    428\u001b[0m arg0, arg1 \u001b[38;5;241m=\u001b[39m \u001b[38;5;28mself\u001b[39m\u001b[38;5;241m.\u001b[39margs\n\u001b[1;32m    429\u001b[0m \u001b[38;5;28;01mif\u001b[39;00m arg0\u001b[38;5;241m.\u001b[39mhas(\u001b[38;5;241m*\u001b[39m\u001b[38;5;28mvars\u001b[39m) \u001b[38;5;129;01mand\u001b[39;00m arg1\u001b[38;5;241m.\u001b[39mhas(\u001b[38;5;241m*\u001b[39m\u001b[38;5;28mvars\u001b[39m):\n\u001b[0;32m--> 430\u001b[0m     arg0 \u001b[38;5;241m=\u001b[39m \u001b[43marg0\u001b[49m\u001b[38;5;241;43m.\u001b[39;49m\u001b[43mcanonical_linear_form\u001b[49m\u001b[43m(\u001b[49m\u001b[38;5;241;43m*\u001b[39;49m\u001b[38;5;28;43mvars\u001b[39;49m\u001b[43m)\u001b[49m\n\u001b[1;32m    431\u001b[0m     arg1 \u001b[38;5;241m=\u001b[39m arg1\u001b[38;5;241m.\u001b[39mcanonical_linear_form(\u001b[38;5;241m*\u001b[39m\u001b[38;5;28mvars\u001b[39m)\n\u001b[1;32m    432\u001b[0m     \u001b[38;5;28;01mreturn\u001b[39;00m arg0 \u001b[38;5;241m+\u001b[39m arg1\n",
      "File \u001b[0;32m~/anaconda3/envs/dedalus2/lib/python3.11/site-packages/dedalus/core/operators.py:430\u001b[0m, in \u001b[0;36mAdd.canonical_linear_form\u001b[0;34m(self, *vars)\u001b[0m\n\u001b[1;32m    428\u001b[0m arg0, arg1 \u001b[38;5;241m=\u001b[39m \u001b[38;5;28mself\u001b[39m\u001b[38;5;241m.\u001b[39margs\n\u001b[1;32m    429\u001b[0m \u001b[38;5;28;01mif\u001b[39;00m arg0\u001b[38;5;241m.\u001b[39mhas(\u001b[38;5;241m*\u001b[39m\u001b[38;5;28mvars\u001b[39m) \u001b[38;5;129;01mand\u001b[39;00m arg1\u001b[38;5;241m.\u001b[39mhas(\u001b[38;5;241m*\u001b[39m\u001b[38;5;28mvars\u001b[39m):\n\u001b[0;32m--> 430\u001b[0m     arg0 \u001b[38;5;241m=\u001b[39m \u001b[43marg0\u001b[49m\u001b[38;5;241;43m.\u001b[39;49m\u001b[43mcanonical_linear_form\u001b[49m\u001b[43m(\u001b[49m\u001b[38;5;241;43m*\u001b[39;49m\u001b[38;5;28;43mvars\u001b[39;49m\u001b[43m)\u001b[49m\n\u001b[1;32m    431\u001b[0m     arg1 \u001b[38;5;241m=\u001b[39m arg1\u001b[38;5;241m.\u001b[39mcanonical_linear_form(\u001b[38;5;241m*\u001b[39m\u001b[38;5;28mvars\u001b[39m)\n\u001b[1;32m    432\u001b[0m     \u001b[38;5;28;01mreturn\u001b[39;00m arg0 \u001b[38;5;241m+\u001b[39m arg1\n",
      "File \u001b[0;32m~/anaconda3/envs/dedalus2/lib/python3.11/site-packages/dedalus/core/operators.py:434\u001b[0m, in \u001b[0;36mAdd.canonical_linear_form\u001b[0;34m(self, *vars)\u001b[0m\n\u001b[1;32m    432\u001b[0m     \u001b[38;5;28;01mreturn\u001b[39;00m arg0 \u001b[38;5;241m+\u001b[39m arg1\n\u001b[1;32m    433\u001b[0m \u001b[38;5;28;01melif\u001b[39;00m arg0\u001b[38;5;241m.\u001b[39mhas(\u001b[38;5;241m*\u001b[39m\u001b[38;5;28mvars\u001b[39m) \u001b[38;5;129;01mor\u001b[39;00m arg1\u001b[38;5;241m.\u001b[39mhas(\u001b[38;5;241m*\u001b[39m\u001b[38;5;28mvars\u001b[39m):\n\u001b[0;32m--> 434\u001b[0m     \u001b[38;5;28;01mraise\u001b[39;00m NonlinearOperatorError(\u001b[38;5;124m\"\u001b[39m\u001b[38;5;124mCannot add dependent and independent terms.\u001b[39m\u001b[38;5;124m\"\u001b[39m)\n\u001b[1;32m    435\u001b[0m \u001b[38;5;28;01melse\u001b[39;00m:\n\u001b[1;32m    436\u001b[0m     \u001b[38;5;28;01mreturn\u001b[39;00m \u001b[38;5;28mself\u001b[39m\n",
      "\u001b[0;31mNonlinearOperatorError\u001b[0m: Cannot add dependent and independent terms."
     ]
    }
   ],
   "source": [
    "# resolution\n",
    "ny = 58\n",
    "\n",
    "# define spectral representation of the solution\n",
    "y = de.Chebyshev('y',ny,interval=[-1/2,1/2])\n",
    "d = de.Domain([y], grid_dtype=np.complex128)\n",
    "\n",
    "# initialize problem\n",
    "evp = de.EVP(d, ['psi','psi1','psi2','psi3','Qxx','Qxx1','Qxy','Qxy1'],'sigma')\n",
    "\n",
    "# define paramters \n",
    "evp.parameters['_llambda'] = _llambda\n",
    "evp.parameters['_eta'] = _eta\n",
    "evp.parameters['_l'] = _l\n",
    "evp.parameters['_W'] = _W\n",
    "evp.parameters['_gd'] = _gd\n",
    "evp.parameters['_tau'] = _tau\n",
    "evp.parameters['_k'] = _k\n",
    "evp.parameters['_eta'] = _eta\n",
    "evp.parameters['_a'] = _a\n",
    "evp.parameters['_aux_const'] = _aux_const\n",
    "\n",
    "# define equations\n",
    "evp.add_equation(\"1/_tau * (_k**4 * psi - 2*(_k**2)*psi2 + dy(psi3)) + 2j*_a*_k*Qxx/_eta - (_a*_k*_k*Qxy + _a*dy(Qxy1)) = 0 \")\n",
    "evp.add_equation(\"_aux_const*_gd*_tau*psi - 2j*_k*_llambda*psi1 - _gd*_llambda*_tau/(1+(_gd*_tau)**2)*psi2\"\\\n",
    "                \"+ (1 + (_l*_k)**2)/(_W**2) + 1j*_k*y*_gd*_tau*Qxx - (_l**2/_W**2)*dy(Qxx1)\"\\\n",
    "                \"-_gd*_tau*Qxy + sigma*_tau*Qxy = 0\")\n",
    "evp.add_equation(\"_aux_const*(1+2*(_gd*_tau)**2)*psi - _llambda/(1+(_gd+_tau)**2)*psi2\"\\\n",
    "                 \"+ _gd*_tau*Qxx\"\\\n",
    "                 \"+ (1 + (_l**2 * _k**2)/_W**2 + 1j*_k*y*_gd*_tau - (_l**2/_W**2)*dy(Qxy1))\"\\\n",
    "                \"- (_l**2/_W**2)*dy(Qxy1) + sigma*_tau*Qxy= 0\")\n",
    "evp.add_equation(\"dy(psi2) - Psi3 = 0\")\n",
    "evp.add_equation(\"dy(psi1) - psi2 = 0\")\n",
    "evp.add_equation(\"dy(psi) - psi1 = 0\")\n",
    "evp.add_equation(\"dy(Qxx) - Qxx1 = 0\")\n",
    "evp.add_equation(\"dy(Qxy) - Qxy1 = 0\")\n",
    "\n",
    "# impose boundary conditions\n",
    "evp.add_bc('left(psi) = 0')\n",
    "evp.add_bc('right(psi) = 0')\n",
    "evp.add_bc('left(psi1) = 0')\n",
    "evp.add_bc('right(psi1) = 0')\n",
    "evp.add_bc('left(Qxx) = 0')\n",
    "evp.add_bc('right(Qxx) = 0')\n",
    "evp.add_bc('left(Qxy) = 0')\n",
    "evp.add_bc('right(Qxy) = 0')\n",
    "\n",
    "# create eigenproblem object\n",
    "EP = Eigenproblem(evp)"
   ]
  },
  {
   "cell_type": "code",
   "execution_count": null,
   "id": "c5935f34",
   "metadata": {},
   "outputs": [],
   "source": []
  }
 ],
 "metadata": {
  "kernelspec": {
   "display_name": "Python 3 (ipykernel)",
   "language": "python",
   "name": "python3"
  },
  "language_info": {
   "codemirror_mode": {
    "name": "ipython",
    "version": 3
   },
   "file_extension": ".py",
   "mimetype": "text/x-python",
   "name": "python",
   "nbconvert_exporter": "python",
   "pygments_lexer": "ipython3",
   "version": "3.11.0"
  }
 },
 "nbformat": 4,
 "nbformat_minor": 5
}
