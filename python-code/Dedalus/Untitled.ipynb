{
 "cells": [
  {
   "cell_type": "code",
   "execution_count": 1,
   "id": "bbe21bb2",
   "metadata": {},
   "outputs": [
    {
     "name": "stdout",
     "output_type": "stream",
     "text": [
      "2022-10-17 10:16:05,087 dedalus 0/1 WARNING :: Threading has not been disabled. This may massively degrade Dedalus performance.\n",
      "2022-10-17 10:16:05,088 dedalus 0/1 WARNING :: We strongly suggest setting the \"OMP_NUM_THREADS\" environment variable to \"1\".\n"
     ]
    }
   ],
   "source": [
    " import matplotlib.pyplot as plt\n",
    "from mpi4py import MPI\n",
    "from eigentools import Eigenproblem, CriticalFinder\n",
    "import dedalus.public as de\n",
    "import numpy as np\n",
    "import time\n"
   ]
  },
  {
   "cell_type": "code",
   "execution_count": 19,
   "id": "4e1bfc0d",
   "metadata": {},
   "outputs": [
    {
     "name": "stdout",
     "output_type": "stream",
     "text": [
      "2022-10-17 10:32:24,985 problems 0/1 INFO :: Solving EVP with homogeneity tolerance of 1.000e-10\n",
      "2022-10-17 10:32:25,003 problems 0/1 INFO :: Solving EVP with homogeneity tolerance of 1.000e-10\n"
     ]
    }
   ],
   "source": [
    "z = de.Chebyshev('z', 128)\n",
    "d = de.Domain([z],comm=MPI.COMM_SELF)\n",
    "alpha = 1.02\n",
    "Re = 1000\n",
    "orr_somerfeld = de.EVP(d,['w','wz','wzz','wzzz'],'c')\n",
    "orr_somerfeld.parameters['alpha'] = alpha\n",
    "\n",
    "orr_somerfeld.parameters['Re'] = Re\n",
    "orr_somerfeld.substitutions['umean']= '1 - z**2'\n",
    "orr_somerfeld.substitutions['umeanzz']= '-2'\n",
    "orr_somerfeld.add_equation('dz(wzzz) - 2*alpha**2*wzz + alpha**4*w -1j*alpha*Re*((umean-c)*(wzz - alpha**2*w) - umeanzz*w) = 0')\n",
    "orr_somerfeld.add_equation('dz(w)-wz = 0')\n",
    "orr_somerfeld.add_equation('dz(wz)-wzz = 0')\n",
    "orr_somerfeld.add_equation('dz(wzz)-wzzz = 0')\n",
    "orr_somerfeld.add_bc('left(w) = 0')\n",
    "orr_somerfeld.add_bc('right(w) = 0')\n",
    "orr_somerfeld.add_bc('left(wz) = 0')\n",
    "orr_somerfeld.add_bc('right(wz) = 0')\n",
    "# create an Eigenproblem object\n",
    "EP = Eigenproblem(orr_somerfeld)\n"
   ]
  },
  {
   "cell_type": "code",
   "execution_count": 20,
   "id": "20dbd3ce",
   "metadata": {},
   "outputs": [],
   "source": [
    "EP.solve(sparse=False)"
   ]
  },
  {
   "cell_type": "code",
   "execution_count": 21,
   "id": "3bf8d0d8",
   "metadata": {},
   "outputs": [
    {
     "data": {
      "image/png": "[encoded data removed]",
      "text/plain": [
       "<Figure size 640x480 with 1 Axes>"
      ]
     },
     "metadata": {},
     "output_type": "display_data"
    }
   ],
   "source": [
    "ax=EP.plot_spectrum()"
   ]
  },
  {
   "cell_type": "code",
   "execution_count": 22,
   "id": "47f49419",
   "metadata": {},
   "outputs": [
    {
     "data": {
      "text/plain": [
       "-0.04041344412222018"
      ]
     },
     "execution_count": 22,
     "metadata": {},
     "output_type": "execute_result"
    }
   ],
   "source": [
    "np.max(np.imag(EP.evalues))"
   ]
  },
  {
   "cell_type": "code",
   "execution_count": 23,
   "id": "75341860",
   "metadata": {},
   "outputs": [
    {
     "data": {
      "text/plain": [
       "array([0.34986515 -0.04041344j, 0.4248604  -0.29636678j,\n",
       "       0.46882052 -0.36754987j, 0.49648149 -0.09671696j,\n",
       "       0.6394834  -0.27503053j, 0.66665592-11.85081889j,\n",
       "       0.66665623-11.18305893j, 0.66665656-10.53464092j,\n",
       "       0.66665705 -9.90556373j, 0.66665772 -9.29582589j,\n",
       "       0.66665864 -8.7054257j , 0.66665986 -8.13436116j,\n",
       "       0.66666146 -7.58262989j, 0.66666354 -7.05022912j,\n",
       "       0.66666623 -6.53715552j, 0.66666971 -6.04340509j,\n",
       "       0.66667418 -5.56897303j, 0.66667993 -5.11385349j,\n",
       "       0.66668734 -4.67803933j, 0.66669691 -4.26152169j,\n",
       "       0.66670931 -3.86428958j, 0.66672543 -3.48632912j,\n",
       "       0.66674653 -3.12762269j, 0.6667743  -2.78814757j,\n",
       "       0.66679165-10.8553842j , 0.66680118-10.21663797j,\n",
       "       0.66681089 -9.59723213j, 0.66681113 -2.46787405j,\n",
       "       0.6668218  -8.9971651j , 0.66683399 -8.41643506j,\n",
       "       0.66684767 -7.85503991j, 0.66686042 -2.16676274j,\n",
       "       0.66686311 -7.31297717j, 0.66688059 -6.7902439j ,\n",
       "       0.66690049 -6.28683661j, 0.66692326 -5.80275109j,\n",
       "       0.66692716 -1.88476036j, 0.66694945 -5.3379823j ,\n",
       "       0.66697977 -4.89252407j, 0.66701506 -4.46636887j,\n",
       "       0.66701897 -1.62179329j, 0.66705641 -4.05950742j,\n",
       "       0.66710516 -3.67192812j, 0.66714833 -1.37775719j,\n",
       "       0.66716304 -3.30361641j, 0.66723218 -2.95455373j,\n",
       "       0.6673153  -2.62471616j, 0.66733796 -1.15249991j,\n",
       "       0.66741581 -2.31407241j, 0.66753792 -2.02258077j,\n",
       "       0.66763608 -0.94579464j, 0.66768677 -1.75018439j,\n",
       "       0.66786871 -1.49680349j, 0.66809235 -1.26232192j,\n",
       "       0.66817028 -0.75731732j, 0.66837423 -1.04656338j,\n",
       "       0.66877233 -0.84926035j, 0.66944478 -0.58680174j,\n",
       "       0.66967669 -0.67015165j, 0.67462715 -0.43488391j,\n",
       "       0.67472238 -0.50979009j, 0.69769266 -0.36863623j,\n",
       "       0.70972773 -0.29235975j, 0.72631841 -0.25741347j,\n",
       "       0.79706924 -0.19237484j, 0.80048869 -0.19546112j,\n",
       "       0.88876792 -0.10862501j, 0.88922647 -0.10893756j])"
      ]
     },
     "execution_count": 23,
     "metadata": {},
     "output_type": "execute_result"
    }
   ],
   "source": [
    "EP.evalues"
   ]
  },
  {
   "cell_type": "code",
   "execution_count": null,
   "id": "db417ae2",
   "metadata": {},
   "outputs": [],
   "source": []
  }
 ],
 "metadata": {
  "kernelspec": {
   "display_name": "Python 3 (ipykernel)",
   "language": "python",
   "name": "python3"
  },
  "language_info": {
   "codemirror_mode": {
    "name": "ipython",
    "version": 3
   },
   "file_extension": ".py",
   "mimetype": "text/x-python",
   "name": "python",
   "nbconvert_exporter": "python",
   "pygments_lexer": "ipython3",
   "version": "3.10.6"
  }
 },
 "nbformat": 4,
 "nbformat_minor": 5
}
