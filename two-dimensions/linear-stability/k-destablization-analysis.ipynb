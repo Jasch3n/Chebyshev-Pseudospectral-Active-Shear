{
 "cells": [
  {
   "cell_type": "markdown",
   "id": "ff01ac03",
   "metadata": {},
   "source": [
    "# Analyzes the destablizing effect of varying $k$ in the system"
   ]
  },
  {
   "cell_type": "code",
   "execution_count": 5,
   "id": "e084dd96",
   "metadata": {},
   "outputs": [],
   "source": [
    "import numpy as np\n",
    "import matplotlib.pyplot as plt\n",
    "import matplotlib.lines as mlines\n",
    "import sys \n",
    "sys.path.append(\"../../core-scripts\")\n",
    "from linStabSpectrum import spectrum"
   ]
  },
  {
   "cell_type": "code",
   "execution_count": 6,
   "id": "46f397b8",
   "metadata": {},
   "outputs": [],
   "source": [
    "def max_re(zs):\n",
    "    acc = -float('inf')\n",
    "    for z in zs:\n",
    "        if z.real > acc:\n",
    "            acc = z\n",
    "    return acc\n",
    "\n",
    "def compute_sig_k_new(_a, _gds, n=20, k_left=0, k_right =20):\n",
    "    \"\"\" \n",
    "    Fixes a, compute sigma(gd, k) for all given shear rates in gds\n",
    "    \"\"\"\n",
    "    # the range of k [0,20] was determined by inspection\n",
    "    _tau = 1\n",
    "    ks = np.linspace(k_left,k_right,n)\n",
    "    max_real_evs = np.zeros((len(_gds),n),dtype=np.complex_)\n",
    "    for j in range(len(_gds)):\n",
    "        for i in range(len(ks)):\n",
    "            evs = spectrum(ks[i],_gds[j],_tau,_a,_ell_over_W_squared=0.01)\n",
    "            max_real_evs[j][i] = max_re(evs)\n",
    "    return max_real_evs"
   ]
  },
  {
   "cell_type": "code",
   "execution_count": 4,
   "id": "699c179b",
   "metadata": {},
   "outputs": [
    {
     "name": "stdout",
     "output_type": "stream",
     "text": [
      "1/25 iterations completed\n",
      "2/25 iterations completed\n",
      "3/25 iterations completed\n",
      "4/25 iterations completed\n",
      "5/25 iterations completed\n",
      "6/25 iterations completed\n",
      "7/25 iterations completed\n",
      "8/25 iterations completed\n",
      "9/25 iterations completed\n",
      "10/25 iterations completed\n",
      "11/25 iterations completed\n",
      "12/25 iterations completed\n",
      "13/25 iterations completed\n",
      "14/25 iterations completed\n",
      "15/25 iterations completed\n",
      "16/25 iterations completed\n",
      "17/25 iterations completed\n",
      "18/25 iterations completed\n",
      "19/25 iterations completed\n",
      "20/25 iterations completed\n",
      "21/25 iterations completed\n",
      "22/25 iterations completed\n",
      "23/25 iterations completed\n",
      "24/25 iterations completed\n",
      "25/25 iterations completed\n"
     ]
    }
   ],
   "source": [
    "# zoom in on the extensile region to compare with Wan's code\n",
    "gdl, gdr, gdn = 0,1,11\n",
    "al, ar, an = 0,2.5,25\n",
    "_gds = np.linspace(gdl,gdr,gdn)\n",
    "_as = np.linspace(al,ar,an)\n",
    "for i in range(len(_as)):\n",
    "    evs_mat = compute_sig_k(_as[i],_gds)\n",
    "    print(\"{}/{} iterations completed\".format(i+1, len(_as)))\n",
    "    np.savetxt(\"data/k-scan-ext-zoom/a_{}\".format(i), evs_mat, delimiter=',')\n",
    "    # use np.loadtxt(\"data/k-scan-new/a_0\", dtype=np.complex_, delimiter=\",\") to load data in"
   ]
  },
  {
   "cell_type": "code",
   "execution_count": 7,
   "id": "4e74fb52",
   "metadata": {},
   "outputs": [
    {
     "name": "stdout",
     "output_type": "stream",
     "text": [
      "1/60 iterations completed\n",
      "2/60 iterations completed\n",
      "3/60 iterations completed\n",
      "4/60 iterations completed\n",
      "5/60 iterations completed\n",
      "6/60 iterations completed\n",
      "7/60 iterations completed\n",
      "8/60 iterations completed\n",
      "9/60 iterations completed\n",
      "10/60 iterations completed\n",
      "11/60 iterations completed\n",
      "12/60 iterations completed\n",
      "13/60 iterations completed\n",
      "14/60 iterations completed\n",
      "15/60 iterations completed\n",
      "16/60 iterations completed\n",
      "17/60 iterations completed\n",
      "18/60 iterations completed\n",
      "19/60 iterations completed\n",
      "20/60 iterations completed\n",
      "21/60 iterations completed\n",
      "22/60 iterations completed\n",
      "23/60 iterations completed\n",
      "24/60 iterations completed\n",
      "25/60 iterations completed\n",
      "26/60 iterations completed\n",
      "27/60 iterations completed\n",
      "28/60 iterations completed\n",
      "29/60 iterations completed\n",
      "30/60 iterations completed\n",
      "31/60 iterations completed\n",
      "32/60 iterations completed\n",
      "33/60 iterations completed\n",
      "34/60 iterations completed\n",
      "35/60 iterations completed\n",
      "36/60 iterations completed\n",
      "37/60 iterations completed\n",
      "38/60 iterations completed\n",
      "39/60 iterations completed\n",
      "40/60 iterations completed\n",
      "41/60 iterations completed\n",
      "42/60 iterations completed\n",
      "43/60 iterations completed\n",
      "44/60 iterations completed\n",
      "45/60 iterations completed\n",
      "46/60 iterations completed\n",
      "47/60 iterations completed\n",
      "48/60 iterations completed\n",
      "49/60 iterations completed\n",
      "50/60 iterations completed\n",
      "51/60 iterations completed\n",
      "52/60 iterations completed\n",
      "53/60 iterations completed\n",
      "54/60 iterations completed\n",
      "55/60 iterations completed\n",
      "56/60 iterations completed\n",
      "57/60 iterations completed\n",
      "58/60 iterations completed\n",
      "59/60 iterations completed\n",
      "60/60 iterations completed\n"
     ]
    }
   ],
   "source": [
    "gdl, gdr, gdn = 0,6.5,30\n",
    "al, ar, an = -15,20,60\n",
    "_gds = np.linspace(gdl,gdr,gdn)\n",
    "_as = np.linspace(al,ar,an)\n",
    "for i in range(len(_as)):\n",
    "    evs_mat = compute_sig_k_new(_as[i],_gds)\n",
    "    print(\"{}/{} iterations completed\".format(i+1, len(_as)))\n",
    "    np.savetxt(\"data/k-scan-new/a_{}\".format(i), evs_mat, delimiter=',')\n",
    "    # use np.loadtxt(\"data/k-scan/a_0\", dtype=np.complex_, delimiter=\",\") to load data in"
   ]
  },
  {
   "cell_type": "code",
   "execution_count": null,
   "id": "7e5e6664",
   "metadata": {},
   "outputs": [],
   "source": []
  }
 ],
 "metadata": {
  "kernelspec": {
   "display_name": "Python 3 (ipykernel)",
   "language": "python",
   "name": "python3"
  },
  "language_info": {
   "codemirror_mode": {
    "name": "ipython",
    "version": 3
   },
   "file_extension": ".py",
   "mimetype": "text/x-python",
   "name": "python",
   "nbconvert_exporter": "python",
   "pygments_lexer": "ipython3",
   "version": "3.10.6"
  }
 },
 "nbformat": 4,
 "nbformat_minor": 5
}
