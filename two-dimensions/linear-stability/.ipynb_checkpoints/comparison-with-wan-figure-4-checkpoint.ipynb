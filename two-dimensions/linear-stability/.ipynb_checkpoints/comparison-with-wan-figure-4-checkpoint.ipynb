{
 "cells": [
  {
   "cell_type": "code",
   "execution_count": 1,
   "id": "10f8263d",
   "metadata": {},
   "outputs": [],
   "source": [
    "import numpy as np\n",
    "import matplotlib.pyplot as plt\n",
    "import sys\n",
    "sys.path.append(\"../../core-scripts\")\n",
    "from Utilities import clean_spec_2D"
   ]
  },
  {
   "cell_type": "code",
   "execution_count": 2,
   "id": "26251f00",
   "metadata": {},
   "outputs": [],
   "source": [
    "# define the grid that Wan used to make figure 4\n",
    "gdl,gdr,gdn = 0.0, 1.0, 11\n",
    "gds = np.linspace(gdl, gdr, gdn)\n",
    "al, ar, an = 0.0, 2.5, 26\n",
    "acts = np.linspace(al, ar, an)"
   ]
  },
  {
   "cell_type": "code",
   "execution_count": 3,
   "id": "56c9314b",
   "metadata": {},
   "outputs": [
    {
     "name": "stdout",
     "output_type": "stream",
     "text": [
      "    1/26 activity values processed\n",
      "    2/26 activity values processed\n",
      "    3/26 activity values processed\n",
      "    4/26 activity values processed\n",
      "    5/26 activity values processed\n",
      "    6/26 activity values processed\n",
      "    7/26 activity values processed\n",
      "    8/26 activity values processed\n",
      "    9/26 activity values processed\n",
      "    10/26 activity values processed\n",
      "    11/26 activity values processed\n"
     ]
    },
    {
     "ename": "IndexError",
     "evalue": "index 11 is out of bounds for axis 0 with size 11",
     "output_type": "error",
     "traceback": [
      "\u001b[0;31m---------------------------------------------------------------------------\u001b[0m",
      "\u001b[0;31mIndexError\u001b[0m                                Traceback (most recent call last)",
      "Cell \u001b[0;32mIn[3], line 6\u001b[0m\n\u001b[1;32m      4\u001b[0m \u001b[38;5;28;01mfor\u001b[39;00m j \u001b[38;5;129;01min\u001b[39;00m \u001b[38;5;28mrange\u001b[39m(an):\n\u001b[1;32m      5\u001b[0m     \u001b[38;5;28;01mfor\u001b[39;00m k \u001b[38;5;129;01min\u001b[39;00m \u001b[38;5;28mrange\u001b[39m(\u001b[38;5;241m21\u001b[39m):\n\u001b[0;32m----> 6\u001b[0m             \u001b[43mmax_ev_k_var\u001b[49m\u001b[43m[\u001b[49m\u001b[43mi\u001b[49m\u001b[43m]\u001b[49m\u001b[43m[\u001b[49m\u001b[43mj\u001b[49m\u001b[43m]\u001b[49m \u001b[38;5;241m=\u001b[39m np\u001b[38;5;241m.\u001b[39mmax(np\u001b[38;5;241m.\u001b[39mreal(clean_spec_2D(k,gds[i],acts[j])))\n\u001b[1;32m      7\u001b[0m     \u001b[38;5;28mprint\u001b[39m(\u001b[38;5;124mf\u001b[39m\u001b[38;5;124m\"\u001b[39m\u001b[38;5;124m    \u001b[39m\u001b[38;5;132;01m{\u001b[39;00mj\u001b[38;5;241m+\u001b[39m\u001b[38;5;241m1\u001b[39m\u001b[38;5;132;01m}\u001b[39;00m\u001b[38;5;124m/\u001b[39m\u001b[38;5;132;01m{\u001b[39;00man\u001b[38;5;132;01m}\u001b[39;00m\u001b[38;5;124m activity values processed\u001b[39m\u001b[38;5;124m\"\u001b[39m)\n\u001b[1;32m      8\u001b[0m \u001b[38;5;28mprint\u001b[39m(\u001b[38;5;124mf\u001b[39m\u001b[38;5;124m\"\u001b[39m\u001b[38;5;132;01m{\u001b[39;00mi\u001b[38;5;241m+\u001b[39m\u001b[38;5;241m1\u001b[39m\u001b[38;5;132;01m}\u001b[39;00m\u001b[38;5;124m/\u001b[39m\u001b[38;5;132;01m{\u001b[39;00mgdn\u001b[38;5;132;01m}\u001b[39;00m\u001b[38;5;124m shear values processed\u001b[39m\u001b[38;5;124m\"\u001b[39m)\n",
      "\u001b[0;31mIndexError\u001b[0m: index 11 is out of bounds for axis 0 with size 11"
     ]
    }
   ],
   "source": [
    "max_ev_k_var = np.zeros((an,gdn))\n",
    "\n",
    "for i in range(gdn):\n",
    "    for j in range(an):\n",
    "        for k in range(21):\n",
    "                max_ev_k_var[j][i] = np.max(np.real(clean_spec_2D(k,gds[i],acts[j])))\n",
    "        print(f\"    {j+1}/{an} activity values processed\")\n",
    "    print(f\"{i+1}/{gdn} shear values processed\")"
   ]
  },
  {
   "cell_type": "code",
   "execution_count": null,
   "id": "b3ced9e4",
   "metadata": {},
   "outputs": [],
   "source": [
    "# load in the data that Wan used to generate Figure 4 in her flow states manuscript\n",
    "data_path = \"../../wan-figure-4-data-comparison/\"\n",
    "wan_shears = np.loadtxt(data_path+\"point_shear\")\n",
    "wan_activities = np.loadtxt(data_path+\"point_activity\")\n",
    "wan_states = np.loadtxt(data_path+\"point_state\")"
   ]
  }
 ],
 "metadata": {
  "kernelspec": {
   "display_name": "Python 3 (ipykernel)",
   "language": "python",
   "name": "python3"
  },
  "language_info": {
   "codemirror_mode": {
    "name": "ipython",
    "version": 3
   },
   "file_extension": ".py",
   "mimetype": "text/x-python",
   "name": "python",
   "nbconvert_exporter": "python",
   "pygments_lexer": "ipython3",
   "version": "3.11.0"
  }
 },
 "nbformat": 4,
 "nbformat_minor": 5
}
