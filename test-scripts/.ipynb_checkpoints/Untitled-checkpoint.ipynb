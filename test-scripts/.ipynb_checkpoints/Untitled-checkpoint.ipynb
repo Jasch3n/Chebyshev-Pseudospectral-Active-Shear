{
 "cells": [
  {
   "cell_type": "code",
   "execution_count": 1,
   "id": "62692f38",
   "metadata": {},
   "outputs": [],
   "source": [
    "import sys\n",
    "import numpy as np\n",
    "sys.path.append('../core-scripts')\n",
    "from naiveEigvalsZeroKGD import ev_tau"
   ]
  },
  {
   "cell_type": "code",
   "execution_count": 7,
   "id": "9040853f",
   "metadata": {},
   "outputs": [
    {
     "data": {
      "text/plain": [
       "34.597039617000895"
      ]
     },
     "execution_count": 7,
     "metadata": {},
     "output_type": "execute_result"
    }
   ],
   "source": [
    "ev_list = ev_tau(0,1,1)\n",
    "np.max(np.real(ev_list))"
   ]
  },
  {
   "cell_type": "code",
   "execution_count": null,
   "id": "fa051d86",
   "metadata": {},
   "outputs": [],
   "source": []
  }
 ],
 "metadata": {
  "kernelspec": {
   "display_name": "Python 3 (ipykernel)",
   "language": "python",
   "name": "python3"
  },
  "language_info": {
   "codemirror_mode": {
    "name": "ipython",
    "version": 3
   },
   "file_extension": ".py",
   "mimetype": "text/x-python",
   "name": "python",
   "nbconvert_exporter": "python",
   "pygments_lexer": "ipython3",
   "version": "3.9.13"
  }
 },
 "nbformat": 4,
 "nbformat_minor": 5
}
